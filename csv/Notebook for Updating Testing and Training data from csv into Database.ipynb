{
 "cells": [
  {
   "cell_type": "code",
   "execution_count": null,
   "id": "0c61a517",
   "metadata": {},
   "outputs": [],
   "source": [
    "import sys\n",
    "import os\n",
    "import pandas as pd\n",
    "from sqlalchemy import create_engine\n",
    "\n",
    "# Get the current working directory\n",
    "current_dir = os.getcwd()\n",
    "\n",
    "# Add the path to the `modules` directory relative to the current working directory\n",
    "modules_path = os.path.abspath(os.path.join(current_dir, '..', 'modules'))\n",
    "sys.path.append(modules_path)\n",
    "\n",
    "# Import functions from modules\n",
    "from modules.db_connections import get_mysql_engine\n",
    "from modules.sql_operations import (\n",
    "    execute_sql,\n",
    "   CREATE_TABLE_TESTING_DATA_FOR_CSV_INSERTION,\n",
    "   CREATE_TABLE_TRAINING_DATA_FOR_CSV_INSERTION\n",
    ")"
   ]
  },
  {
   "cell_type": "code",
   "execution_count": null,
   "id": "0ec5ae4b",
   "metadata": {},
   "outputs": [],
   "source": [
    "# Database connection\n",
    "user = '<user>'\n",
    "password = '<password>'\n",
    "host = 'localhost'\n",
    "port = 3306 #change port number if necessary\n",
    "database = '<database_name>'\n",
    "engine = get_mysql_engine(user, password, host, port, database)\n",
    "\n",
    "# Execute SQL script to create Training and Testing Table if it doesnt exist\n",
    "execute_sql(engine, CREATE_TABLE_TESTING_DATA_FOR_CSV_INSERTION)\n",
    "execute_sql(engine, CREATE_TABLE_TRAINING_DATA_FOR_CSV_INSERTION)\n",
    "\n",
    "# Paths to CSV files\n",
    "training_csv_path = \"training_data.csv\"\n",
    "testing_csv_path = \"testing_data.csv\"\n",
    "\n",
    "# Inserting data into tables\n",
    "sql_op.insert_data_from_csv(connection, training_csv_path, \"training_data\")\n",
    "sql_op.insert_data_from_csv(connection, testing_csv_path, \"testing_data\")\n",
    "\n",
    "print(\"Tables created and data inserted successfully.\")\n",
    "\n",
    "# Closing connection\n",
    "connection.close()\n"
   ]
  }
 ],
 "metadata": {
  "kernelspec": {
   "display_name": "Python 3 (ipykernel)",
   "language": "python",
   "name": "python3"
  },
  "language_info": {
   "codemirror_mode": {
    "name": "ipython",
    "version": 3
   },
   "file_extension": ".py",
   "mimetype": "text/x-python",
   "name": "python",
   "nbconvert_exporter": "python",
   "pygments_lexer": "ipython3",
   "version": "3.11.5"
  }
 },
 "nbformat": 4,
 "nbformat_minor": 5
}
