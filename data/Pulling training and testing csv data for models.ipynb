{
 "cells": [
  {
   "cell_type": "code",
   "execution_count": null,
   "id": "05168d8c",
   "metadata": {},
   "outputs": [],
   "source": [
    "import sys\n",
    "import os\n",
    "import pandas as pd\n",
    "from sqlalchemy import create_engine\n",
    "\n",
    "# Get the current working directory\n",
    "current_dir = os.getcwd()\n",
    "\n",
    "# Add the path to the `modules` directory relative to the current working directory\n",
    "modules_path = os.path.abspath(os.path.join(current_dir, '..', 'modules'))\n",
    "sys.path.append(modules_path)\n",
    "\n",
    "# Import functions from modules\n",
    "from modules.db_connections import get_mysql_engine\n",
    "from modules.sql_operations import (\n",
    "    execute_sql,\n",
    "   CREATE_TABLE_TESTING_DATA_FOR_CSV_INSERTION,\n",
    "   CREATE_TABLE_TRAINING_DATA_FOR_CSV_INSERTION\n",
    ")"
   ]
  },
  {
   "cell_type": "code",
   "execution_count": null,
   "id": "25df13b7",
   "metadata": {},
   "outputs": [],
   "source": [
    "# Database connection\n",
    "user = '<user>'\n",
    "password = '<password>'\n",
    "host = 'localhost'\n",
    "port = 3306 #change port number if necessary\n",
    "database = '<database_name>'\n",
    "engine = get_mysql_engine(user, password, host, port, database)\n",
    "\n",
    "# Execute SQL script to create Training and Testing Table if it doesnt exist\n",
    "execute_sql(engine, CREATE_TABLE_TESTING_DATA_FOR_CSV_INSERTION)\n",
    "execute_sql(engine, CREATE_TABLE_TRAINING_DATA_FOR_CSV_INSERTION)\n",
    "\n",
    "# GitHub CSV URLs\n",
    "training_csv_url = \"https://raw.githubusercontent.com/ocansey11/betting_prediction_model/main/csv/training_data.csv\"\n",
    "testing_csv_url = \"https://raw.githubusercontent.com/ocansey11/betting_prediction_model/main/csv/testing_data.csv\"\n",
    "\n",
    "# Function to insert data from a DataFrame to a SQL table\n",
    "def insert_data_from_csv(engine, csv_url, table_name):\n",
    "    df = pd.read_csv(csv_url)\n",
    "    df.to_sql(table_name, engine, if_exists='append', index=False)\n",
    "\n",
    "# Inserting data into tables\n",
    "insert_data_from_csv(engine, training_csv_url, \"training_data\")\n",
    "insert_data_from_csv(engine, testing_csv_url, \"testing_data\")\n",
    "\n",
    "print(\"Tables created and data inserted successfully.\")\n",
    "\n",
    "# Dispose the engine to close all connections\n",
    "engine.dispose()"
   ]
  }
 ],
 "metadata": {
  "kernelspec": {
   "display_name": "Python 3 (ipykernel)",
   "language": "python",
   "name": "python3"
  },
  "language_info": {
   "codemirror_mode": {
    "name": "ipython",
    "version": 3
   },
   "file_extension": ".py",
   "mimetype": "text/x-python",
   "name": "python",
   "nbconvert_exporter": "python",
   "pygments_lexer": "ipython3",
   "version": "3.11.5"
  }
 },
 "nbformat": 4,
 "nbformat_minor": 5
}
