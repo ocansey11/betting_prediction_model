{
 "cells": [
  {
   "cell_type": "markdown",
   "id": "6c487916",
   "metadata": {},
   "source": [
    "First time users :\n",
    "Training Data \n",
    "    - Completed Matches Data will be joined with Previous_league_standings table in your DataBase to prepare the model\n",
    "    - Run Betting Predictions Model- Scrapping Premiere League Table For training Data The week before the you run 'Betting Prediction Model - Scrapping Forebet Completed Matches'.\n",
    "    This way you have the previous league standing stats before the (upcoming) matches are played. \n",
    "    After the week has passed and you have your completed matches and previous league standings ready in your database. you can start accumulating data in this pattern  (current league standings will replace previous league standings and upcoming matche will become completed matches.\n",
    "    \n",
    "    \n",
    "    You will join the completed matches with the previous league standings and append the result to training-data\n",
    "    train your model and test it by running Betting Predictions Model - Model .\n"
   ]
  },
  {
   "cell_type": "markdown",
   "id": "a255166b",
   "metadata": {},
   "source": [
    "#### These team_labels match all the data from the other notebooks\n",
    "team_labels = {\n",
    "   -     'Arsenal': 1,\n",
    "   -     'Aston Villa': 2,\n",
    "   -     'Bournemouth': 3,\n",
    "   -     'Brighton': 4,\n",
    "   -     'Burnley': 5,\n",
    "   -     'Chelsea': 6,\n",
    "   -     'Crystal Palace': 7,\n",
    "   -     'Everton': 8,\n",
    "   -     'Fulham': 9,\n",
    "   -     'Leeds Utd': 10,\n",
    "   -     'Leicester City': 11,\n",
    "   -     'Liverpool': 12,\n",
    "   -     'Man City': 13,\n",
    "   -     'Man Utd': 14,\n",
    "   -     'Newcastle': 15,\n",
    "   -     'Norwich': 16,\n",
    "   -     'Sheffield': 17,\n",
    "   -     'Southampton': 18,\n",
    "   -     'Tottenham': 19,\n",
    "   -     'West Ham': 20,\n",
    "   -     'Luton': 21,\n",
    "   -     'Wolves': 22,\n",
    "   -     'Brentford': 23,\n",
    "   -     'Sheffield Utd': 24,\n",
    "   -     'Forest': 25\n",
    "    }"
   ]
  },
  {
   "cell_type": "code",
   "execution_count": null,
   "id": "bf9f99c1",
   "metadata": {},
   "outputs": [],
   "source": []
  }
 ],
 "metadata": {
  "kernelspec": {
   "display_name": "Python 3 (ipykernel)",
   "language": "python",
   "name": "python3"
  },
  "language_info": {
   "codemirror_mode": {
    "name": "ipython",
    "version": 3
   },
   "file_extension": ".py",
   "mimetype": "text/x-python",
   "name": "python",
   "nbconvert_exporter": "python",
   "pygments_lexer": "ipython3",
   "version": "3.11.5"
  }
 },
 "nbformat": 4,
 "nbformat_minor": 5
}
