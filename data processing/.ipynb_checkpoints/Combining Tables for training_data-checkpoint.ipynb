{
 "cells": [
  {
   "cell_type": "code",
   "execution_count": 2,
   "id": "7e5ee72c",
   "metadata": {},
   "outputs": [],
   "source": [
    "import sys\n",
    "import os\n",
    "\n",
    "# Add the path to the `modules` directory relative to the current working directory\n",
    "current_dir = os.getcwd()\n",
    "modules_path = os.path.abspath(os.path.join(current_dir, '..', 'modules'))\n",
    "sys.path.append(modules_path)\n",
    "\n",
    "# Now you can import modules from the modules folder\n",
    "from modules.db_connections import get_mysql_engine\n",
    "from modules.sql_operations import (\n",
    "    execute_sql,\n",
    "    CREATE_TRAINING_TABLE_SQL,\n",
    "    DROP_VIEW_COMBINED_DATA_TESTING,\n",
    "    CREATE_VIEW_TRAIN_DATA,\n",
    "    INSERT_VIEW_TRAIN_DATA\n",
    ")"
   ]
  },
  {
   "cell_type": "code",
   "execution_count": null,
   "id": "97034841",
   "metadata": {},
   "outputs": [],
   "source": [
    "# Database connection\n",
    "user = '<user>'\n",
    "password = '<password>'\n",
    "host = 'localhost'\n",
    "port = 3306\n",
    "database = '<db>'\n",
    "engine = get_mysql_engine(user, password, host, port, database)\n"
   ]
  },
  {
   "cell_type": "code",
   "execution_count": null,
   "id": "26799dd5",
   "metadata": {},
   "outputs": [],
   "source": [
    "# Execute SQL script to create Training and Testing Table if it doesnt exist\n",
    "execute_sql(engine, CREATE_TRAINING_TABLE_SQL)\n",
    "execute_sql(engine, DROP_VIEW_COMBINED_DATA_TESTING)\n",
    "execute_sql(engine, CREATE_VIEW_TRAIN_DATA)\n",
    "execute_sql(engine, INSERT_VIEW_TRAIN_DATA)"
   ]
  }
 ],
 "metadata": {
  "kernelspec": {
   "display_name": "Python 3 (ipykernel)",
   "language": "python",
   "name": "python3"
  },
  "language_info": {
   "codemirror_mode": {
    "name": "ipython",
    "version": 3
   },
   "file_extension": ".py",
   "mimetype": "text/x-python",
   "name": "python",
   "nbconvert_exporter": "python",
   "pygments_lexer": "ipython3",
   "version": "3.11.5"
  }
 },
 "nbformat": 4,
 "nbformat_minor": 5
}
