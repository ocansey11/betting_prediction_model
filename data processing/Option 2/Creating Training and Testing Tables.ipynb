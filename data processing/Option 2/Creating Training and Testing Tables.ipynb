{
 "cells": [
  {
   "cell_type": "code",
   "execution_count": 2,
   "id": "ea39a2f6-28d3-4089-8649-b7b7fc190f05",
   "metadata": {},
   "outputs": [],
   "source": [
    "import sys\n",
    "import os\n",
    "import pandas as pd\n",
    "from sqlalchemy import create_engine, text\n",
    "import chardet\n",
    "\n",
    "\n",
    "# Add the path to the `modules` directory relative to the current working directory\n",
    "current_dir = os.getcwd()\n",
    "modules_path = os.path.abspath(os.path.join(current_dir, '../..', 'modules'))\n",
    "sys.path.append(modules_path)\n",
    "\n",
    "# Importing necessary functions\n",
    "from sql_operations import execute_sql\n",
    "from db_connections import get_mysql_engine\n",
    "from sql_operations import (\n",
    "    execute_sql,\n",
    "    CREATE_TABLE_TRAINING_DATA_FOR_CSV_INSERTION,\n",
    "    CREATE_TABLE_TESTING_DATA_FOR_CSV_INSERTION\n",
    ")\n",
    "\n",
    "# Database connection details\n",
    "user = '<user>'\n",
    "password = '<password>'\n",
    "host = '<host>'\n",
    "port = 3306  # Change port number if necessary\n",
    "database = '<db>'\n",
    "\n",
    "# Create a connection to the database\n",
    "engine = get_mysql_engine(user, password, host, port, database)"
   ]
  },
  {
   "cell_type": "code",
   "execution_count": 4,
   "id": "40122769-9e7b-4698-a600-47770b4181a1",
   "metadata": {},
   "outputs": [],
   "source": [
    "engine = get_mysql_engine(user, password, host, port, database)\n",
    "execute_sql(engine, CREATE_TABLE_TRAINING_DATA_FOR_CSV_INSERTION)\n",
    "execute_sql(engine, CREATE_TABLE_TESTING_DATA_FOR_CSV_INSERTION)"
   ]
  },
  {
   "cell_type": "code",
   "execution_count": 6,
   "id": "1d0dd1f1-5fe7-4c17-8298-f8efd1127a3c",
   "metadata": {},
   "outputs": [],
   "source": [
    "# Load CSV files into DataFrames\n",
    "training_data_path = '../../data/training_data.csv'\n",
    "testing_data_path = '../../data/testing_data.csv'"
   ]
  },
  {
   "cell_type": "code",
   "execution_count": 7,
   "id": "570a57c5-44d6-4721-8ae9-e401e990dcaa",
   "metadata": {},
   "outputs": [
    {
     "name": "stdout",
     "output_type": "stream",
     "text": [
      "Detected encoding: ISO-8859-1 (Confidence: 0.73)\n"
     ]
    }
   ],
   "source": [
    "def detect_encoding(file_path):\n",
    "    with open(file_path, 'rb') as file:\n",
    "        raw_data = file.read()\n",
    "        result = chardet.detect(raw_data)\n",
    "        encoding = result['encoding']\n",
    "        confidence = result['confidence']\n",
    "        return encoding, confidence\n",
    "\n",
    "# Detect encoding for your CSV files\n",
    "encoding, confidence = detect_encoding(training_data_path)\n",
    "print(f\"Detected encoding: {encoding} (Confidence: {confidence})\")"
   ]
  },
  {
   "cell_type": "code",
   "execution_count": 8,
   "id": "470e5733-3fa1-4f2b-8e1e-0f256d38f70e",
   "metadata": {},
   "outputs": [
    {
     "data": {
      "text/plain": [
       "20"
      ]
     },
     "execution_count": 8,
     "metadata": {},
     "output_type": "execute_result"
    }
   ],
   "source": [
    "training_data_df = pd.read_csv(training_data_path, encoding = 'ISO-8859-1')\n",
    "testing_data_df = pd.read_csv(testing_data_path, encoding = 'ISO-8859-1')\n",
    "\n",
    "# Insert DataFrames into the database\n",
    "training_data_df.to_sql('training_data', engine, if_exists='replace', index=False)\n",
    "testing_data_df.to_sql('testing_data', engine, if_exists='replace', index=False)\n"
   ]
  }
 ],
 "metadata": {
  "kernelspec": {
   "display_name": "Python 3 (ipykernel)",
   "language": "python",
   "name": "python3"
  },
  "language_info": {
   "codemirror_mode": {
    "name": "ipython",
    "version": 3
   },
   "file_extension": ".py",
   "mimetype": "text/x-python",
   "name": "python",
   "nbconvert_exporter": "python",
   "pygments_lexer": "ipython3",
   "version": "3.12.4"
  }
 },
 "nbformat": 4,
 "nbformat_minor": 5
}
