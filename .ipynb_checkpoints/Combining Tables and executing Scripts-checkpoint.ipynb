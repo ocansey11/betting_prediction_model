{
 "cells": [
  {
   "cell_type": "code",
   "execution_count": null,
   "id": "7e5ee72c",
   "metadata": {},
   "outputs": [],
   "source": [
    "import sys\n",
    "import os\n",
    "\n",
    "# Get the current working directory\n",
    "current_dir = os.getcwd()\n",
    "\n",
    "# Add the path to the `modules` directory relative to the current working directory\n",
    "modules_path = os.path.join(current_dir, 'modules')\n",
    "sys.path.append(modules_path)\n",
    "\n",
    "# Import functions from modules\n",
    "from modules.db_connection import get_mysql_engine\n",
    "from modules.sql_operations import execute_sql, CREATE_VIEW_AND_INSERT_SQL\n",
    "\n",
    "# Database connection\n",
    "user = 'your_user'\n",
    "password = 'your_password'\n",
    "host = 'localhost'\n",
    "port = 3306\n",
    "database = 'bet_prediction_model'\n",
    "engine = get_mysql_engine(user, password, host, port, database)\n",
    "\n",
    "\n",
    "# Execute SQL script to create Training and Testing Table if it doesnt exist\n",
    "execute_sql(engine, CREATE_TRAINING_TABLE_SQL)\n",
    "execute_sql(engine, CREATE_TEESTING_TABLE_SQL)\n",
    "\n",
    "\n",
    "\n",
    "# Execute SQL script to create view and insert data\n",
    "execute_sql(engine, CREATE_VIEW_AND_INSERT_SQL_TRAIN_DATA)\n",
    "execute_sql(engine, CREATE_VIEW_AND_INSERT_SQL_TEST_DATA)"
   ]
  }
 ],
 "metadata": {
  "kernelspec": {
   "display_name": "Python 3 (ipykernel)",
   "language": "python",
   "name": "python3"
  },
  "language_info": {
   "codemirror_mode": {
    "name": "ipython",
    "version": 3
   },
   "file_extension": ".py",
   "mimetype": "text/x-python",
   "name": "python",
   "nbconvert_exporter": "python",
   "pygments_lexer": "ipython3",
   "version": "3.11.5"
  }
 },
 "nbformat": 4,
 "nbformat_minor": 5
}
