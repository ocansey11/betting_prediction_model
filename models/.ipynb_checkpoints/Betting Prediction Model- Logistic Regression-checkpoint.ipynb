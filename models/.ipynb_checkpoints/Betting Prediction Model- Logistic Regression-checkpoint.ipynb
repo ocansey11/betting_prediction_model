{
 "cells": [
  {
   "cell_type": "code",
   "execution_count": 1,
   "id": "18b7e09c",
   "metadata": {},
   "outputs": [],
   "source": [
    "import pymysql\n",
    "import pandas as pd\n",
    "import matplotlib.pyplot as plt\n",
    "from sklearn.utils import resample\n",
    "from sklearn.model_selection import train_test_split, GridSearchCV\n",
    "from sklearn.linear_model import LogisticRegression\n",
    "from sklearn.metrics import accuracy_score, classification_report\n",
    "from imblearn.over_sampling import SMOTE\n",
    "from sklearn.preprocessing import StandardScaler\n",
    "from sklearn.pipeline import Pipeline\n",
    "from sklearn.feature_selection import RFE\n",
    "from sklearn.pipeline import Pipeline\n",
    "from sklearn import metrics"
   ]
  },
  {
   "cell_type": "code",
   "execution_count": 6,
   "id": "ca4b81e2",
   "metadata": {},
   "outputs": [
    {
     "name": "stderr",
     "output_type": "stream",
     "text": [
      "C:\\Users\\kevin\\AppData\\Local\\Temp\\ipykernel_10672\\159293122.py:20: UserWarning: pandas only supports SQLAlchemy connectable (engine/connection) or database string URI or sqlite3 DBAPI2 connection. Other DBAPI2 objects are not tested. Please consider using SQLAlchemy.\n",
      "  return pd.read_sql(query, connection)\n"
     ]
    }
   ],
   "source": [
    "# Database connection details\n",
    "host = 'localhost'\n",
    "user = 'root'\n",
    "port = 3306\n",
    "password = 'Kofi1999$'\n",
    "database = 'bet_prediction_model'\n",
    "\n",
    "# Establish connection\n",
    "connection = pymysql.connect(\n",
    "    host=host,\n",
    "    port=port,\n",
    "    user=user,\n",
    "    password=password,\n",
    "    database=database\n",
    ")\n",
    "\n",
    "# Function to load data from a table\n",
    "def load_data_from_db(connection, table_name):\n",
    "    query = f\"SELECT * FROM {table_name}\"\n",
    "    return pd.read_sql(query, connection)\n",
    "\n",
    "# Load training and testing data\n",
    "training_data = load_data_from_db(connection, 'training_data')\n",
    "testing_data = load_data_from_db(connection, 'testing_data')\n",
    "\n",
    "# Close the connection\n",
    "connection.close()"
   ]
  },
  {
   "cell_type": "code",
   "execution_count": 3,
   "id": "5d59b105",
   "metadata": {},
   "outputs": [
    {
     "name": "stdout",
     "output_type": "stream",
     "text": [
      "<class 'pandas.core.frame.DataFrame'>\n",
      "RangeIndex: 22 entries, 0 to 21\n",
      "Data columns (total 41 columns):\n",
      " #   Column                        Non-Null Count  Dtype          \n",
      "---  ------                        --------------  -----          \n",
      " 0   home                          22 non-null     int64          \n",
      " 1   away                          22 non-null     int64          \n",
      " 2   home_win_probability          22 non-null     float64        \n",
      " 3   draw_probability              22 non-null     float64        \n",
      " 4   away_win_probability          22 non-null     float64        \n",
      " 5   team_to_win_prediction        22 non-null     int64          \n",
      " 6   average_goals_prediction      22 non-null     float64        \n",
      " 7   weather_in_degrees            22 non-null     object         \n",
      " 8   odds                          22 non-null     float64        \n",
      " 9   full_time_score               22 non-null     object         \n",
      " 10  score_at_halftime             22 non-null     object         \n",
      " 11  date                          22 non-null     datetime64[ns] \n",
      " 12  time                          22 non-null     timedelta64[ns]\n",
      " 13  home_team_score_prediction    22 non-null     int64          \n",
      " 14  away_team_score_prediction    22 non-null     int64          \n",
      " 15  home_team_full_time_score     22 non-null     int64          \n",
      " 16  away_team_full_time_score     22 non-null     int64          \n",
      " 17  home_team_halftime_score      22 non-null     int64          \n",
      " 18  away_team_halftime_score      22 non-null     int64          \n",
      " 19  prediction_result             22 non-null     int64          \n",
      " 20  day_of_week                   22 non-null     int64          \n",
      " 21  month                         22 non-null     int64          \n",
      " 22  weekly_round                  22 non-null     int64          \n",
      " 23  home_team_pos                 22 non-null     int64          \n",
      " 24  home_team_matches_played      22 non-null     int64          \n",
      " 25  home_team_wins                22 non-null     int64          \n",
      " 26  home_team_draws               22 non-null     int64          \n",
      " 27  home_team_losses              22 non-null     int64          \n",
      " 28  home_team_gf                  22 non-null     int64          \n",
      " 29  home_team_ga                  22 non-null     int64          \n",
      " 30  home_team_ppg_last_5_matches  22 non-null     float64        \n",
      " 31  home_team_points              22 non-null     int64          \n",
      " 32  away_team_pos                 22 non-null     int64          \n",
      " 33  away_team_matches_played      22 non-null     int64          \n",
      " 34  away_team_wins                22 non-null     int64          \n",
      " 35  away_team_draws               22 non-null     int64          \n",
      " 36  away_team_losses              22 non-null     int64          \n",
      " 37  away_team_gf                  22 non-null     int64          \n",
      " 38  away_team_ga                  22 non-null     int64          \n",
      " 39  away_team_ppg_last_5_matches  22 non-null     float64        \n",
      " 40  away_team_points              22 non-null     int64          \n",
      "dtypes: datetime64[ns](1), float64(7), int64(29), object(3), timedelta64[ns](1)\n",
      "memory usage: 7.2+ KB\n"
     ]
    }
   ],
   "source": [
    "training_data.info()"
   ]
  },
  {
   "cell_type": "code",
   "execution_count": 4,
   "id": "7d4610ff",
   "metadata": {},
   "outputs": [
    {
     "name": "stdout",
     "output_type": "stream",
     "text": [
      "<class 'pandas.core.frame.DataFrame'>\n",
      "RangeIndex: 20 entries, 0 to 19\n",
      "Data columns (total 35 columns):\n",
      " #   Column                        Non-Null Count  Dtype          \n",
      "---  ------                        --------------  -----          \n",
      " 0   home                          20 non-null     int64          \n",
      " 1   away                          20 non-null     int64          \n",
      " 2   home_win_probability          20 non-null     float64        \n",
      " 3   draw_probability              20 non-null     float64        \n",
      " 4   away_win_probability          20 non-null     float64        \n",
      " 5   team_to_win_prediction        20 non-null     int64          \n",
      " 6   scoreline_prediction          20 non-null     object         \n",
      " 7   average_goals_prediction      20 non-null     float64        \n",
      " 8   weather_in_degrees            20 non-null     object         \n",
      " 9   odds                          20 non-null     float64        \n",
      " 10  date                          20 non-null     datetime64[ns] \n",
      " 11  time                          20 non-null     timedelta64[ns]\n",
      " 12  home_team_score_prediction    20 non-null     int64          \n",
      " 13  away_team_score_prediction    20 non-null     int64          \n",
      " 14  day_of_week                   20 non-null     int64          \n",
      " 15  month                         20 non-null     int64          \n",
      " 16  weekly_round                  20 non-null     int64          \n",
      " 17  home_team_pos                 20 non-null     int64          \n",
      " 18  home_team_matches_played      20 non-null     int64          \n",
      " 19  home_team_wins                20 non-null     int64          \n",
      " 20  home_team_draws               20 non-null     int64          \n",
      " 21  home_team_losses              20 non-null     int64          \n",
      " 22  home_team_gf                  20 non-null     int64          \n",
      " 23  home_team_ga                  20 non-null     int64          \n",
      " 24  home_team_ppg_last_5_matches  20 non-null     float64        \n",
      " 25  home_team_points              20 non-null     int64          \n",
      " 26  away_team_pos                 20 non-null     int64          \n",
      " 27  away_team_matches_played      20 non-null     int64          \n",
      " 28  away_team_wins                20 non-null     int64          \n",
      " 29  away_team_draws               20 non-null     int64          \n",
      " 30  away_team_losses              20 non-null     int64          \n",
      " 31  away_team_gf                  20 non-null     int64          \n",
      " 32  away_team_ga                  20 non-null     int64          \n",
      " 33  away_team_ppg_last_5_matches  20 non-null     float64        \n",
      " 34  away_team_points              20 non-null     int64          \n",
      "dtypes: datetime64[ns](1), float64(7), int64(24), object(2), timedelta64[ns](1)\n",
      "memory usage: 5.6+ KB\n"
     ]
    }
   ],
   "source": [
    "testing_data.info()"
   ]
  },
  {
   "cell_type": "code",
   "execution_count": 7,
   "id": "deca325d",
   "metadata": {},
   "outputs": [],
   "source": [
    "# Drop unnecessary columns\n",
    "training_data_columns_to_drop = ['full_time_score', 'score_at_halftime',           \n",
    "   \"home_team_full_time_score\",\n",
    "   \"away_team_full_time_score\" ,             \n",
    "   \"home_team_halftime_score\" ,          \n",
    "   \"away_team_halftime_score\" ]\n",
    "training_data = training_data.drop(columns=training_data_columns_to_drop, axis =1)"
   ]
  },
  {
   "cell_type": "code",
   "execution_count": 8,
   "id": "ab292532",
   "metadata": {},
   "outputs": [],
   "source": [
    "# Separate minority and majority classes\n",
    "loss = training_data[training_data['prediction_result']==0]\n",
    "win = training_data[training_data['prediction_result']==1]"
   ]
  },
  {
   "cell_type": "code",
   "execution_count": 9,
   "id": "5c50f350",
   "metadata": {},
   "outputs": [
    {
     "data": {
      "image/png": "[encoded data removed]",
      "text/plain": [
       "<Figure size 640x480 with 1 Axes>"
      ]
     },
     "metadata": {},
     "output_type": "display_data"
    }
   ],
   "source": [
    "import matplotlib.pyplot as plt\n",
    "labels = training_data['prediction_result'].unique()\n",
    "heights = [len(win),len(loss)]\n",
    "plt.bar(labels,heights,color='grey')\n",
    "plt.xticks(labels,['win','loss'])\n",
    "plt.ylabel(\"# of observations\")\n",
    "plt.show()"
   ]
  },
  {
   "cell_type": "code",
   "execution_count": 10,
   "id": "da1a01ef",
   "metadata": {},
   "outputs": [
    {
     "data": {
      "text/plain": [
       "prediction_result\n",
       "0    15\n",
       "1    15\n",
       "Name: count, dtype: int64"
      ]
     },
     "execution_count": 10,
     "metadata": {},
     "output_type": "execute_result"
    }
   ],
   "source": [
    "loss_upsampled = resample(loss,\n",
    "                          replace=True, # sample with replacement (we need to duplicate observations)\n",
    "                          n_samples=len(win), # match number in minority class\n",
    "                          random_state=27) # reproducible results\n",
    "\n",
    "# Combine upsampled minority class with majority class\n",
    "upsampled = pd.concat([loss_upsampled, win])\n",
    "\n",
    "# Check new class counts\n",
    "upsampled['prediction_result'].value_counts()"
   ]
  },
  {
   "cell_type": "code",
   "execution_count": 12,
   "id": "387f8887",
   "metadata": {},
   "outputs": [
    {
     "name": "stdout",
     "output_type": "stream",
     "text": [
      "Accuracy: 0.6666666666666666\n",
      "              precision    recall  f1-score   support\n",
      "\n",
      "           0       0.60      1.00      0.75         3\n",
      "           1       1.00      0.33      0.50         3\n",
      "\n",
      "    accuracy                           0.67         6\n",
      "   macro avg       0.80      0.67      0.62         6\n",
      "weighted avg       0.80      0.67      0.62         6\n",
      "\n"
     ]
    }
   ],
   "source": [
    "X = upsampled.drop(columns=['prediction_result', 'weather_in_degrees','date','time'])\n",
    "# Define your target variable y\n",
    "y = upsampled['prediction_result']\n",
    "# Split the data into training and testing sets\n",
    "X_train, X_test, y_train, y_test = train_test_split(X, y, test_size=0.2, random_state=12)\n",
    "\n",
    "# Apply SMOTE to the training data\n",
    "smote = SMOTE(random_state=42)\n",
    "X_train_resampled, y_train_resampled = smote.fit_resample(X_train, y_train)\n",
    "\n",
    "\n",
    "# Initialize the logistic regression model\n",
    "log_reg = LogisticRegression(max_iter=10000, solver='saga')\n",
    "\n",
    "# Train the model on the training data\n",
    "log_reg.fit(X_train_resampled, y_train_resampled)\n",
    "\n",
    "# Predict the target variable on the testing set\n",
    "y_pred = log_reg.predict(X_test)\n",
    "\n",
    "# Evaluate the model\n",
    "accuracy = accuracy_score(y_test, y_pred)\n",
    "print(\"Accuracy:\", accuracy)\n",
    "\n",
    "# Get more detailed classification report\n",
    "print(classification_report(y_test, y_pred))"
   ]
  },
  {
   "cell_type": "code",
   "execution_count": 13,
   "id": "865906a3",
   "metadata": {},
   "outputs": [
    {
     "name": "stdout",
     "output_type": "stream",
     "text": [
      "Best Parameters: {'logistic__C': 0.01, 'logistic__penalty': 'l2', 'logistic__solver': 'saga'}\n",
      "Test Accuracy: 0.6666666666666666\n"
     ]
    }
   ],
   "source": [
    "# Create a pipeline with StandardScaler and LogisticRegression\n",
    "pipeline = Pipeline([\n",
    "    ('scaler', StandardScaler()),\n",
    "    ('logistic', LogisticRegression(max_iter=10000))  # Set max_iter here\n",
    "])\n",
    "\n",
    "# Define the parameter grid for GridSearchCV\n",
    "param_grid = {\n",
    "    'logistic__C': [0.001, 0.01, 0.1, 1, 10],# Example values for C\n",
    "    'logistic__penalty': ['l1', 'l2'],\n",
    "    'logistic__solver': ['liblinear', 'saga'],\n",
    "}\n",
    "\n",
    "# Create GridSearchCV\n",
    "grid_search = GridSearchCV(pipeline, param_grid, cv=5, scoring='accuracy')\n",
    "\n",
    "# Fit GridSearchCV to the training data\n",
    "grid_search.fit(X_train_resampled, y_train_resampled)\n",
    "\n",
    "# Access the best parameters\n",
    "best_params = grid_search.best_params_\n",
    "\n",
    "# Access the best estimator\n",
    "best_estimator = grid_search.best_estimator_\n",
    "\n",
    "\n",
    "# Access the best parameters\n",
    "best_params = grid_search.best_params_\n",
    "print(\"Best Parameters:\", best_params)\n",
    "\n",
    "# Optionally, evaluate the performance of the best model on the test set\n",
    "best_model = grid_search.best_estimator_\n",
    "test_accuracy = best_model.score(X_test, y_test)\n",
    "print(\"Test Accuracy:\", test_accuracy)\n"
   ]
  },
  {
   "cell_type": "code",
   "execution_count": 14,
   "id": "fd2af05e",
   "metadata": {},
   "outputs": [
    {
     "name": "stdout",
     "output_type": "stream",
     "text": [
      "Test Accuracy: 0.8333333333333334\n",
      "Classification Report:\n",
      "              precision    recall  f1-score   support\n",
      "\n",
      "           0       0.75      1.00      0.86         3\n",
      "           1       1.00      0.67      0.80         3\n",
      "\n",
      "    accuracy                           0.83         6\n",
      "   macro avg       0.88      0.83      0.83         6\n",
      "weighted avg       0.88      0.83      0.83         6\n",
      "\n"
     ]
    }
   ],
   "source": [
    "# Use the best parameters to create the logistic regression model\n",
    "best_logistic = LogisticRegression(C=best_params['logistic__C'],\n",
    "                                    penalty=best_params['logistic__penalty'],\n",
    "                                    solver=best_params['logistic__solver'],\n",
    "                                    max_iter=10000)\n",
    "# Fit the model on the training data\n",
    "best_logistic.fit(X_train, y_train)\n",
    "\n",
    "# Predict the target variable on the testing set\n",
    "y_pred = best_logistic.predict(X_test)\n",
    "\n",
    "# Generate a classification report\n",
    "test_accuracy = accuracy_score(y_pred, y_test)\n",
    "print(\"Test Accuracy:\", test_accuracy)\n",
    "report = classification_report(y_test, y_pred)\n",
    "\n",
    "print(\"Classification Report:\")\n",
    "print(report)\n"
   ]
  },
  {
   "cell_type": "markdown",
   "id": "a81ac4bc",
   "metadata": {},
   "source": [
    "My hunch is, when we resampled the data, we made duplicates to account for the imbalance, this created overfitting in the model. But still found the best parameters. So when we finally train without the resampled data, we are getting a higher result because there  are no duplicates and each document is unique within the data. OR IT could be due to fact that the best estimator was generated after scaling the data in the pipeline. So there may be discrepancies there as well\n",
    "I could be wrong though"
   ]
  },
  {
   "cell_type": "code",
   "execution_count": 15,
   "id": "86e9a85d",
   "metadata": {},
   "outputs": [
    {
     "name": "stdout",
     "output_type": "stream",
     "text": [
      "Test Accuracy: 0.8333333333333334\n",
      "Classification Report:\n",
      "              precision    recall  f1-score   support\n",
      "\n",
      "           0       0.75      1.00      0.86         3\n",
      "           1       1.00      0.67      0.80         3\n",
      "\n",
      "    accuracy                           0.83         6\n",
      "   macro avg       0.88      0.83      0.83         6\n",
      "weighted avg       0.88      0.83      0.83         6\n",
      "\n"
     ]
    }
   ],
   "source": [
    "# Use the best parameters to create the logistic regression model\n",
    "best_logistic = LogisticRegression(C=best_params['logistic__C'],\n",
    "                                    penalty=best_params['logistic__penalty'],\n",
    "                                    solver=best_params['logistic__solver'],\n",
    "                                    max_iter=10000)\n",
    "# Fit the model on the training data\n",
    "best_logistic.fit(X_train_resampled, y_train_resampled)\n",
    "\n",
    "# Predict the target variable on the testing set\n",
    "y_pred = best_logistic.predict(X_test)\n",
    "\n",
    "# Generate a classification report\n",
    "test_accuracy = accuracy_score(y_pred, y_test)\n",
    "print(\"Test Accuracy:\", test_accuracy)\n",
    "report = classification_report(y_test, y_pred)\n",
    "\n",
    "print(\"Classification Report:\")\n",
    "print(report)\n"
   ]
  },
  {
   "cell_type": "markdown",
   "id": "9823b9f6",
   "metadata": {},
   "source": [
    "Note:\n",
    "Within our Pipeline i scaled and resampled the the data this resulted in a lower accuracy and f1-score\n",
    "Without scaling and and only resampling to account for imbalance i get a higher result. \n",
    "\n",
    "\n",
    "To be honest scaling, normalization and reading classification reports are my weakness. Sometimes i know there are better metrics to test my models but i usually just rely on accuracy and f1-scores. so if youre good at finding better metrics or better ways to tune models before testing them email me kevinocansey11@gmail.com\n",
    "\n",
    "But for this analysis, ive decided to refrain from scaling my data.\n",
    "The drawback is, if theres alot of variance in the data it will lead to lower accuracy later when introduced to new data  \n",
    "\n",
    "But this is just a few data. As the data grows we will edit and adjust accordingly\n",
    "\n",
    "Hence the final training for my model is below."
   ]
  },
  {
   "cell_type": "code",
   "execution_count": 27,
   "id": "a9a3963f",
   "metadata": {},
   "outputs": [
    {
     "name": "stdout",
     "output_type": "stream",
     "text": [
      "Classification Report:\n",
      "              precision    recall  f1-score   support\n",
      "\n",
      "           0       0.60      1.00      0.75         3\n",
      "           1       1.00      0.33      0.50         3\n",
      "\n",
      "    accuracy                           0.67         6\n",
      "   macro avg       0.80      0.67      0.62         6\n",
      "weighted avg       0.80      0.67      0.62         6\n",
      "\n",
      "Selected Features:\n",
      "Index(['Home', 'Away', 'Home_Win_Probability', 'Draw_Probability',\n",
      "       'Away_Team_Win_Probability', 'Odds', 'Home_Team_Full_Time_Score',\n",
      "       'Home_Team_Halftime_Score', 'Weekly_Round', 'home_team_pos',\n",
      "       'home_team_matches_played', 'home_team_draws', 'home_team_losses',\n",
      "       'home_team_gf', 'home_team_ga', 'away_team_pos',\n",
      "       'away_team_matches_played', 'away_team_losses', 'away_team_gf',\n",
      "       'away_team_ga'],\n",
      "      dtype='object')\n"
     ]
    }
   ],
   "source": [
    "from sklearn.feature_selection import RFE\n",
    "\n",
    "# Create logistic regression model\n",
    "best_logistic = LogisticRegression(C=best_params['logistic__C'],\n",
    "                                    penalty=best_params['logistic__penalty'],\n",
    "                                    solver=best_params['logistic__solver'],\n",
    "                                    max_iter=10000)\n",
    "\n",
    "# Initialize RFE\n",
    "rfe = RFE(estimator=best_logistic, n_features_to_select=20, step=1)\n",
    "\n",
    "# Fit RFE\n",
    "rfe.fit(X_train, y_train)\n",
    "\n",
    "# Get the selected features\n",
    "selected_features = X_train.columns[rfe.support_]\n",
    "\n",
    "print(\"Classification Report:\")\n",
    "print(report)\n",
    "\n",
    "print(\"Selected Features:\")\n",
    "print(selected_features)\n"
   ]
  },
  {
   "cell_type": "markdown",
   "id": "05fd15b2",
   "metadata": {},
   "source": [
    "Note: Selected Features are interesting because when we are validating dating certain features such as \n",
    "- `home_team_full_time_score`\n",
    "- `home_team_halftime_score`\n",
    "\n",
    "Will  not be available in our `testsing_data`. Thankfully its just two features we wont need, so maybe we can increase the selected features from 20 to 22 to accomodate it"
   ]
  },
  {
   "cell_type": "markdown",
   "id": "d69ceee4",
   "metadata": {},
   "source": [
    "### Its time for Validation\n",
    "\n",
    "We tested our model with `training_data`. But remember we have testing_data(in this case our validating data) filled with upcoming matches.\n",
    "Validate the model with this data. and when the matches are finally played. you can truly see how our model faired"
   ]
  },
  {
   "cell_type": "code",
   "execution_count": 32,
   "id": "ce8430ff",
   "metadata": {},
   "outputs": [
    {
     "data": {
      "text/plain": [
       "Index(['Home', 'Away', 'Home_Win_Probability', 'Draw_Probability',\n",
       "       'Away_Team_Win_Probability', 'Team_To_Win_Prediction',\n",
       "       'Average_Goals_Prediction', 'Odds', 'Home_Team_Score_Prediction',\n",
       "       'Away_Team_Score_Prediction', 'Home_Team_Full_Time_Score',\n",
       "       'Away_Team_Full_Time_Score', 'Home_Team_Halftime_Score',\n",
       "       'Away_Team_Halftime_Score', 'Day_Of_Week', 'Month', 'Weekly_Round',\n",
       "       'home_team_pos', 'home_team_matches_played', 'home_team_wins',\n",
       "       'home_team_draws', 'home_team_losses', 'home_team_gf', 'home_team_ga',\n",
       "       'home_team_ppg_last_5_matches', 'home_team_points', 'away_team_pos',\n",
       "       'away_team_matches_played', 'away_team_wins', 'away_team_draws',\n",
       "       'away_team_losses', 'away_team_gf', 'away_team_ga',\n",
       "       'away_team_ppg_last_5_matches', 'away_team_points'],\n",
       "      dtype='object')"
      ]
     },
     "execution_count": 32,
     "metadata": {},
     "output_type": "execute_result"
    }
   ],
   "source": [
    "X_train.columns"
   ]
  },
  {
   "cell_type": "code",
   "execution_count": 38,
   "id": "01aaf54b",
   "metadata": {},
   "outputs": [
    {
     "data": {
      "text/plain": [
       "Index(['Home', 'Away', 'Home Win probability', 'Draw probability',\n",
       "       'Away team win probability', 'Team to win(prediction)', 'Average goals',\n",
       "       'Odds', 'Home Team Score Prediction', 'Away Team Score Prediction',\n",
       "       'Day of Week', 'Month', 'Weekly_Round', 'home_team_pos',\n",
       "       'home_team_matches_played', 'home_team_wins', 'home_team_draws',\n",
       "       'home_team_losses', 'home_team_gf', 'home_team_ga',\n",
       "       'home_team_ppg_last_5_matches', 'home_team_points', 'away_team_pos',\n",
       "       'away_team_matches_played', 'away_team_wins', 'away_team_draws',\n",
       "       'away_team_losses', 'away_team_gf', 'away_team_ga',\n",
       "       'away_team_ppg_last_5_matches', 'away_team_points'],\n",
       "      dtype='object')"
      ]
     },
     "execution_count": 38,
     "metadata": {},
     "output_type": "execute_result"
    }
   ],
   "source": [
    "testing_data.columns"
   ]
  },
  {
   "cell_type": "code",
   "execution_count": 37,
   "id": "d28ea97c",
   "metadata": {},
   "outputs": [],
   "source": [
    "testing_data= testing_data.drop(columns=['scoreline_prediction', 'weather_in_degrees','date','time'])"
   ]
  },
  {
   "cell_type": "code",
   "execution_count": 11,
   "id": "ae48b5ac",
   "metadata": {},
   "outputs": [
    {
     "ename": "NameError",
     "evalue": "name 'best_logistic' is not defined",
     "output_type": "error",
     "traceback": [
      "\u001b[1;31m---------------------------------------------------------------------------\u001b[0m",
      "\u001b[1;31mNameError\u001b[0m                                 Traceback (most recent call last)",
      "Cell \u001b[1;32mIn[11], line 2\u001b[0m\n\u001b[0;32m      1\u001b[0m \u001b[38;5;66;03m# Predict the outcomes for the testing data using the best model\u001b[39;00m\n\u001b[1;32m----> 2\u001b[0m predictions \u001b[38;5;241m=\u001b[39m best_logistic\u001b[38;5;241m.\u001b[39mpredict(testing_data)\n\u001b[0;32m      4\u001b[0m \u001b[38;5;66;03m# Prepare the results for better interpretation\u001b[39;00m\n\u001b[0;32m      5\u001b[0m results \u001b[38;5;241m=\u001b[39m testing_data\u001b[38;5;241m.\u001b[39mcopy()\n",
      "\u001b[1;31mNameError\u001b[0m: name 'best_logistic' is not defined"
     ]
    }
   ],
   "source": [
    "\n",
    "# Predict the outcomes for the testing data using the best model\n",
    "predictions = best_logistic.predict(testing_data)\n",
    "\n",
    "# Prepare the results for better interpretation\n",
    "results = testing_data.copy()\n",
    "results['prediction_result'] = predictions\n",
    "\n",
    "# Print the results\n",
    "print(\"Predictions for the upcoming matches:\")\n",
    "print(results)"
   ]
  }
 ],
 "metadata": {
  "kernelspec": {
   "display_name": "Python 3 (ipykernel)",
   "language": "python",
   "name": "python3"
  },
  "language_info": {
   "codemirror_mode": {
    "name": "ipython",
    "version": 3
   },
   "file_extension": ".py",
   "mimetype": "text/x-python",
   "name": "python",
   "nbconvert_exporter": "python",
   "pygments_lexer": "ipython3",
   "version": "3.11.5"
  }
 },
 "nbformat": 4,
 "nbformat_minor": 5
}
