{
 "cells": [
  {
   "cell_type": "code",
   "execution_count": null,
   "id": "7e5ee72c",
   "metadata": {},
   "outputs": [],
   "source": [
    "# Ensure modules are discoverable\n",
    "import sys\n",
    "sys.path.append('C:/Users/kevin/Desktop/Kevin Work and Study/alxModules/Data Science Tech Track Part 2/ML Projects/modules')\n",
    "\n",
    "# Import functions from modules\n",
    "from modules.db_connection import get_mysql_engine\n",
    "from modules.sql_operations import execute_sql, CREATE_VIEW_AND_INSERT_SQL\n",
    "\n",
    "# Database connection\n",
    "user = 'your_user'\n",
    "password = 'your_password'\n",
    "host = 'localhost'\n",
    "port = 3306\n",
    "database = 'bet_prediction_model'\n",
    "engine = get_mysql_engine(user, password, host, port, database)\n",
    "\n",
    "# Execute SQL script to create view and insert data\n",
    "execute_sql(engine, CREATE_VIEW_AND_INSERT_SQL)\n"
   ]
  }
 ],
 "metadata": {
  "kernelspec": {
   "display_name": "Python 3 (ipykernel)",
   "language": "python",
   "name": "python3"
  },
  "language_info": {
   "codemirror_mode": {
    "name": "ipython",
    "version": 3
   },
   "file_extension": ".py",
   "mimetype": "text/x-python",
   "name": "python",
   "nbconvert_exporter": "python",
   "pygments_lexer": "ipython3",
   "version": "3.11.5"
  }
 },
 "nbformat": 4,
 "nbformat_minor": 5
}
