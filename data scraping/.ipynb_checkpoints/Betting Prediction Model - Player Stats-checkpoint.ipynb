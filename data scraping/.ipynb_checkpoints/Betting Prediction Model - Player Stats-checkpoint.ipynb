{
 "cells": [
  {
   "cell_type": "code",
   "execution_count": 1,
   "id": "08584715",
   "metadata": {},
   "outputs": [],
   "source": [
    "from selenium import webdriver\n",
    "import pandas as pd\n",
    "from sqlalchemy import create_engine"
   ]
  },
  {
   "cell_type": "code",
   "execution_count": 31,
   "id": "ece1af37",
   "metadata": {},
   "outputs": [
    {
     "name": "stderr",
     "output_type": "stream",
     "text": [
      "C:\\Users\\kevin\\AppData\\Local\\Temp\\ipykernel_2184\\256995595.py:4: DeprecationWarning: executable_path has been deprecated, please pass in a Service object\n",
      "  driver = webdriver.Chrome(PATH)\n"
     ]
    }
   ],
   "source": [
    "# Path to the ChromeDriver executable\n",
    "PATH = 'C:/Users/kevin/Desktop/tools/chromedriver-win64/chromedriver'\n",
    "# Initialize the ChromeDriver\n",
    "driver = webdriver.Chrome(PATH) \n",
    "\n",
    "# URL of the website (assumed to be the same for all pages)\n",
    "url = 'https://www.sofascore.com/tournament/football/england/premier-league/17#id:52186'\n",
    "\n",
    "# Open the website\n",
    "driver.get(url)"
   ]
  },
  {
   "cell_type": "code",
   "execution_count": 33,
   "id": "c5fb47d1",
   "metadata": {},
   "outputs": [
    {
     "name": "stdout",
     "output_type": "stream",
     "text": [
      "[]\n"
     ]
    }
   ],
   "source": [
    "# Find the table container\n",
    "stats_containers = driver.find_elements(\"class name\", \"sc-fTFjTM igpdAN\")\n",
    "print(stats_containers)"
   ]
  },
  {
   "cell_type": "code",
   "execution_count": 20,
   "id": "6db21078",
   "metadata": {},
   "outputs": [
    {
     "name": "stderr",
     "output_type": "stream",
     "text": [
      "C:\\Users\\kevin\\AppData\\Local\\Temp\\ipykernel_2184\\104338363.py:8: DeprecationWarning: executable_path has been deprecated, please pass in a Service object\n",
      "  driver = webdriver.Chrome(PATH)\n"
     ]
    },
    {
     "ename": "JavascriptException",
     "evalue": "Message: javascript error: {\"status\":32,\"value\":\"An invalid or illegal selector was specified\"}\n  (Session info: chrome=125.0.6422.142)\nStacktrace:\n\tGetHandleVerifier [0x00007FF649081502+60802]\n\t(No symbol) [0x00007FF648FFAC02]\n\t(No symbol) [0x00007FF648EB7CE4]\n\t(No symbol) [0x00007FF648EBDE26]\n\t(No symbol) [0x00007FF648EC01DB]\n\t(No symbol) [0x00007FF648EC0280]\n\t(No symbol) [0x00007FF648F06A11]\n\t(No symbol) [0x00007FF648F06E1C]\n\t(No symbol) [0x00007FF648F4CE37]\n\t(No symbol) [0x00007FF648F2ABBF]\n\t(No symbol) [0x00007FF648F4A224]\n\t(No symbol) [0x00007FF648F2A923]\n\t(No symbol) [0x00007FF648EF8FEC]\n\t(No symbol) [0x00007FF648EF9C21]\n\tGetHandleVerifier [0x00007FF64938411D+3217821]\n\tGetHandleVerifier [0x00007FF6493C60B7+3488055]\n\tGetHandleVerifier [0x00007FF6493BF03F+3459263]\n\tGetHandleVerifier [0x00007FF64913B846+823494]\n\t(No symbol) [0x00007FF649005F9F]\n\t(No symbol) [0x00007FF649000EC4]\n\t(No symbol) [0x00007FF649001052]\n\t(No symbol) [0x00007FF648FF18A4]\n\tBaseThreadInitThunk [0x00007FFB6993257D+29]\n\tRtlUserThreadStart [0x00007FFB6A92AF28+40]\n",
     "output_type": "error",
     "traceback": [
      "\u001b[1;31m---------------------------------------------------------------------------\u001b[0m",
      "\u001b[1;31mJavascriptException\u001b[0m                       Traceback (most recent call last)",
      "Cell \u001b[1;32mIn[20], line 17\u001b[0m\n\u001b[0;32m     14\u001b[0m driver\u001b[38;5;241m.\u001b[39mget(url)\n\u001b[0;32m     16\u001b[0m \u001b[38;5;66;03m# Find the table container\u001b[39;00m\n\u001b[1;32m---> 17\u001b[0m table_container \u001b[38;5;241m=\u001b[39m driver\u001b[38;5;241m.\u001b[39mfind_element(\u001b[38;5;124m\"\u001b[39m\u001b[38;5;124mclass name\u001b[39m\u001b[38;5;124m\"\u001b[39m, \u001b[38;5;124m\"\u001b[39m\u001b[38;5;124ms8s88z7-1 fjsfLl\u001b[39m\u001b[38;5;124m'\u001b[39m\u001b[38;5;124m]\u001b[39m\u001b[38;5;124m\"\u001b[39m)\n\u001b[0;32m     19\u001b[0m \u001b[38;5;66;03m# Extract table HTML\u001b[39;00m\n\u001b[0;32m     20\u001b[0m table_html \u001b[38;5;241m=\u001b[39m table_container\u001b[38;5;241m.\u001b[39mget_attribute(\u001b[38;5;124m'\u001b[39m\u001b[38;5;124minnerHTML\u001b[39m\u001b[38;5;124m'\u001b[39m)\n",
      "File \u001b[1;32m~\\anaconda3\\envs\\Alx_DataScience_env\\Lib\\site-packages\\selenium\\webdriver\\remote\\webdriver.py:855\u001b[0m, in \u001b[0;36mWebDriver.find_element\u001b[1;34m(self, by, value)\u001b[0m\n\u001b[0;32m    852\u001b[0m     by \u001b[38;5;241m=\u001b[39m By\u001b[38;5;241m.\u001b[39mCSS_SELECTOR\n\u001b[0;32m    853\u001b[0m     value \u001b[38;5;241m=\u001b[39m \u001b[38;5;124m'\u001b[39m\u001b[38;5;124m[name=\u001b[39m\u001b[38;5;124m\"\u001b[39m\u001b[38;5;132;01m%s\u001b[39;00m\u001b[38;5;124m\"\u001b[39m\u001b[38;5;124m]\u001b[39m\u001b[38;5;124m'\u001b[39m \u001b[38;5;241m%\u001b[39m value\n\u001b[1;32m--> 855\u001b[0m \u001b[38;5;28;01mreturn\u001b[39;00m \u001b[38;5;28mself\u001b[39m\u001b[38;5;241m.\u001b[39mexecute(Command\u001b[38;5;241m.\u001b[39mFIND_ELEMENT, {\n\u001b[0;32m    856\u001b[0m     \u001b[38;5;124m'\u001b[39m\u001b[38;5;124musing\u001b[39m\u001b[38;5;124m'\u001b[39m: by,\n\u001b[0;32m    857\u001b[0m     \u001b[38;5;124m'\u001b[39m\u001b[38;5;124mvalue\u001b[39m\u001b[38;5;124m'\u001b[39m: value})[\u001b[38;5;124m'\u001b[39m\u001b[38;5;124mvalue\u001b[39m\u001b[38;5;124m'\u001b[39m]\n",
      "File \u001b[1;32m~\\anaconda3\\envs\\Alx_DataScience_env\\Lib\\site-packages\\selenium\\webdriver\\remote\\webdriver.py:428\u001b[0m, in \u001b[0;36mWebDriver.execute\u001b[1;34m(self, driver_command, params)\u001b[0m\n\u001b[0;32m    426\u001b[0m response \u001b[38;5;241m=\u001b[39m \u001b[38;5;28mself\u001b[39m\u001b[38;5;241m.\u001b[39mcommand_executor\u001b[38;5;241m.\u001b[39mexecute(driver_command, params)\n\u001b[0;32m    427\u001b[0m \u001b[38;5;28;01mif\u001b[39;00m response:\n\u001b[1;32m--> 428\u001b[0m     \u001b[38;5;28mself\u001b[39m\u001b[38;5;241m.\u001b[39merror_handler\u001b[38;5;241m.\u001b[39mcheck_response(response)\n\u001b[0;32m    429\u001b[0m     response[\u001b[38;5;124m'\u001b[39m\u001b[38;5;124mvalue\u001b[39m\u001b[38;5;124m'\u001b[39m] \u001b[38;5;241m=\u001b[39m \u001b[38;5;28mself\u001b[39m\u001b[38;5;241m.\u001b[39m_unwrap_value(\n\u001b[0;32m    430\u001b[0m         response\u001b[38;5;241m.\u001b[39mget(\u001b[38;5;124m'\u001b[39m\u001b[38;5;124mvalue\u001b[39m\u001b[38;5;124m'\u001b[39m, \u001b[38;5;28;01mNone\u001b[39;00m))\n\u001b[0;32m    431\u001b[0m     \u001b[38;5;28;01mreturn\u001b[39;00m response\n",
      "File \u001b[1;32m~\\anaconda3\\envs\\Alx_DataScience_env\\Lib\\site-packages\\selenium\\webdriver\\remote\\errorhandler.py:243\u001b[0m, in \u001b[0;36mErrorHandler.check_response\u001b[1;34m(self, response)\u001b[0m\n\u001b[0;32m    241\u001b[0m         alert_text \u001b[38;5;241m=\u001b[39m value[\u001b[38;5;124m'\u001b[39m\u001b[38;5;124malert\u001b[39m\u001b[38;5;124m'\u001b[39m]\u001b[38;5;241m.\u001b[39mget(\u001b[38;5;124m'\u001b[39m\u001b[38;5;124mtext\u001b[39m\u001b[38;5;124m'\u001b[39m)\n\u001b[0;32m    242\u001b[0m     \u001b[38;5;28;01mraise\u001b[39;00m exception_class(message, screen, stacktrace, alert_text)  \u001b[38;5;66;03m# type: ignore[call-arg]  # mypy is not smart enough here\u001b[39;00m\n\u001b[1;32m--> 243\u001b[0m \u001b[38;5;28;01mraise\u001b[39;00m exception_class(message, screen, stacktrace)\n",
      "\u001b[1;31mJavascriptException\u001b[0m: Message: javascript error: {\"status\":32,\"value\":\"An invalid or illegal selector was specified\"}\n  (Session info: chrome=125.0.6422.142)\nStacktrace:\n\tGetHandleVerifier [0x00007FF649081502+60802]\n\t(No symbol) [0x00007FF648FFAC02]\n\t(No symbol) [0x00007FF648EB7CE4]\n\t(No symbol) [0x00007FF648EBDE26]\n\t(No symbol) [0x00007FF648EC01DB]\n\t(No symbol) [0x00007FF648EC0280]\n\t(No symbol) [0x00007FF648F06A11]\n\t(No symbol) [0x00007FF648F06E1C]\n\t(No symbol) [0x00007FF648F4CE37]\n\t(No symbol) [0x00007FF648F2ABBF]\n\t(No symbol) [0x00007FF648F4A224]\n\t(No symbol) [0x00007FF648F2A923]\n\t(No symbol) [0x00007FF648EF8FEC]\n\t(No symbol) [0x00007FF648EF9C21]\n\tGetHandleVerifier [0x00007FF64938411D+3217821]\n\tGetHandleVerifier [0x00007FF6493C60B7+3488055]\n\tGetHandleVerifier [0x00007FF6493BF03F+3459263]\n\tGetHandleVerifier [0x00007FF64913B846+823494]\n\t(No symbol) [0x00007FF649005F9F]\n\t(No symbol) [0x00007FF649000EC4]\n\t(No symbol) [0x00007FF649001052]\n\t(No symbol) [0x00007FF648FF18A4]\n\tBaseThreadInitThunk [0x00007FFB6993257D+29]\n\tRtlUserThreadStart [0x00007FFB6A92AF28+40]\n"
     ]
    }
   ],
   "source": [
    "from selenium import webdriver\n",
    "import pandas as pd\n",
    "from bs4 import BeautifulSoup\n",
    "\n",
    "\n",
    "# Find the table container\n",
    "table_container = driver.find_elements(\"class name\", \"s8s88z7-1 fjsfLl']\")\n",
    "\n",
    "# Extract table HTML\n",
    "table_html = table_container.get_attribute('innerHTML')\n",
    "\n",
    "# Use BeautifulSoup to parse HTML\n",
    "soup = BeautifulSoup(table_html, 'html.parser')\n",
    "\n",
    "# Read HTML table into pandas DataFrame\n",
    "dfs = pd.read_html(str(soup))\n",
    "\n",
    "# Assuming there's only one table on the page, select the first DataFrame\n",
    "if dfs:\n",
    "    df = dfs[0]\n",
    "    print(df)\n",
    "else:\n",
    "    print(\"No tables found on the page.\")\n"
   ]
  }
 ],
 "metadata": {
  "kernelspec": {
   "display_name": "Python 3 (ipykernel)",
   "language": "python",
   "name": "python3"
  },
  "language_info": {
   "codemirror_mode": {
    "name": "ipython",
    "version": 3
   },
   "file_extension": ".py",
   "mimetype": "text/x-python",
   "name": "python",
   "nbconvert_exporter": "python",
   "pygments_lexer": "ipython3",
   "version": "3.11.5"
  }
 },
 "nbformat": 4,
 "nbformat_minor": 5
}
