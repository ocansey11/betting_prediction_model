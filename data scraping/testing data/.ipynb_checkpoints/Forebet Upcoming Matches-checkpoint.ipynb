{
 "cells": [
  {
   "cell_type": "markdown",
   "id": "83654cd7",
   "metadata": {},
   "source": [
    "# Betting Prediction Model - Scrapping Forebet Upcoming Matches\n",
    "\n",
    "## Overview\n",
    "\n",
    "This notebook is designed to scrape data from Forebet`s prediction table for Upcoming matches. The scraped data will be stored in a database and used to test our betting prediction model. The primary goals of this notebook are:\n",
    "\n",
    "1. **Scrape Upcoming Matches Data**: Retrieve data for Upcoming matches, including team names, win probabilities, score predictions\n",
    "2. **Data Processing**: Clean and format the scraped data to ensure it is suitable for analysis and model testing.\n",
    "3. **Database Insertion**: Store the cleaned data in the `upcoming_matches` table within our database.\n",
    "\n",
    "## Requirements\n",
    "\n",
    "- Python 3x\n",
    "- Libraries: `selenium`, `sklearn`, `pandas`, `sqlalchemy`, `re`\n",
    "- pymysql installed\n",
    "- MYSQL Workbench\n",
    "- Access to the database where the `current_wek_league_standings` table and `testing_data` is located\n",
    "\n",
    "## Notes\n",
    "\n",
    "- Ensure you have the correct database credentials set up before running this notebook.\n",
    "- This notebook should be run weekly to keep the `upcoming_matches` table updated with the fixtures that are yet to be played. This is necessary to test our model on new Data\n",
    "- Testing_data is a joint table of `upcoming_matches` and `current_league_table_standings`\n"
   ]
  },
  {
   "cell_type": "code",
   "execution_count": null,
   "id": "7e6e8ea4",
   "metadata": {},
   "outputs": [],
   "source": [
    "!pip install pymysql\n",
    "!pip install pandas\n",
    "!pip install sqlalchemy\n",
    "!pip install scikit-learn"
   ]
  },
  {
   "cell_type": "code",
   "execution_count": 2,
   "id": "236fd3ce",
   "metadata": {},
   "outputs": [],
   "source": [
    "from selenium import webdriver\n",
    "from sklearn.preprocessing import LabelEncoder\n",
    "from sqlalchemy import create_engine\n",
    "import pandas as pd\n",
    "import re\n",
    "from modules import team_labels_forebet"
   ]
  },
  {
   "cell_type": "code",
   "execution_count": null,
   "id": "88b639da-7130-430f-b958-066bf6ac7d93",
   "metadata": {},
   "outputs": [],
   "source": [
    "# TEAM LABELS\n",
    "team_labels_forebet = {\n",
    "        'Arsenal': 1,\n",
    "        'Aston Villa': 2,\n",
    "        'Bournemouth': 3,\n",
    "        'Brighton': 4,\n",
    "        'Burnley': 5,\n",
    "        'Chelsea': 6,\n",
    "        'Crystal Palace': 7,\n",
    "        'Everton': 8,\n",
    "        'Fulham': 9,\n",
    "        'Ipswich Town':10,\n",
    "        'Leeds United': 11,\n",
    "        'Leicester City': 12,\n",
    "        'Liverpool': 13,\n",
    "        'Manchester City': 14,\n",
    "        'Manchester United': 15,\n",
    "        'Newcastle United': 16,\n",
    "        'Norwich City': 17,\n",
    "        'Sheffield United': 18,\n",
    "        'Southampton': 19,\n",
    "        'Tottenham': 20,\n",
    "        'West Ham': 21,\n",
    "        'Luton Town': 22,\n",
    "        'Wolverhampton': 23,\n",
    "        'Brentford': 24,\n",
    "        'Sheffield United': 25,\n",
    "        'Nottingham Forest': 26\n",
    "    }"
   ]
  },
  {
   "cell_type": "code",
   "execution_count": 3,
   "id": "5dac414d",
   "metadata": {},
   "outputs": [],
   "source": [
    "# Initialize the Chrome WebDriver\n",
    "driver = webdriver.Chrome()\n",
    "\n",
    "# Open the Forebet predictions page for the English Premier League\n",
    "driver.get('https://www.forebet.com/en/football-tips-and-predictions-for-england/premier-league')"
   ]
  },
  {
   "cell_type": "code",
   "execution_count": 4,
   "id": "5d021380",
   "metadata": {},
   "outputs": [
    {
     "name": "stdout",
     "output_type": "stream",
     "text": [
      "[<selenium.webdriver.remote.webelement.WebElement (session=\"559cd5499ff46239ab6af6b1ceb89fe7\", element=\"f.FCAA7311E34D7181077BB4BD427BC39D.d.ECE0CF26B10A8918D10A4C6CEA532407.e.162\")>, <selenium.webdriver.remote.webelement.WebElement (session=\"559cd5499ff46239ab6af6b1ceb89fe7\", element=\"f.FCAA7311E34D7181077BB4BD427BC39D.d.ECE0CF26B10A8918D10A4C6CEA532407.e.163\")>, <selenium.webdriver.remote.webelement.WebElement (session=\"559cd5499ff46239ab6af6b1ceb89fe7\", element=\"f.FCAA7311E34D7181077BB4BD427BC39D.d.ECE0CF26B10A8918D10A4C6CEA532407.e.164\")>]\n"
     ]
    }
   ],
   "source": [
    "# Now find the fixture containers within the body element\n",
    "match_fixture_containers = driver.find_elements(\"class name\", \"schema\")\n",
    "print(match_fixture_containers)"
   ]
  },
  {
   "cell_type": "code",
   "execution_count": 5,
   "id": "14eac48d",
   "metadata": {},
   "outputs": [
    {
     "name": "stdout",
     "output_type": "stream",
     "text": [
      "Round 1\n",
      "EPL\n",
      "Manchester United\n",
      "Fulham\n",
      "16/8/2024 19:00\n",
      "59211913 - 03.2317°1.53\n",
      "PRE\n",
      "VIEW\n",
      "EPL\n",
      "Ipswich Town\n",
      "Liverpool\n",
      "17/8/2024 11:30\n",
      "21285121 - 33.3623°1.36\n",
      "PRE\n",
      "VIEW\n",
      "EPL\n",
      "Arsenal\n",
      "Wolverhampton\n",
      "17/8/2024 14:00\n",
      "68151713 - 02.9724°1.22\n",
      "PRE\n",
      "VIEW\n",
      "EPL\n",
      "Everton\n",
      "Brighton\n",
      "17/8/2024 14:00\n",
      "45262912 - 12.8618°2.50\n",
      "PRE\n",
      "VIEW\n",
      "0.08\n",
      "EPL\n",
      "Newcastle United\n",
      "Southampton\n",
      "17/8/2024 14:00\n",
      "59221913 - 13.4118°1.33\n",
      "PRE\n",
      "VIEW\n",
      "EPL\n",
      "Nottingham Forest\n",
      "Bournemouth\n",
      "17/8/2024 14:00\n",
      "32284021 - 22.8222°2.80\n",
      "PRE\n",
      "VIEW\n",
      "0.07\n",
      "EPL\n",
      "West Ham\n",
      "Aston Villa\n",
      "17/8/2024 16:30\n",
      "37333012 - 12.7823°2.45\n",
      "PRE\n",
      "VIEW\n",
      "EPL\n",
      "Brentford\n",
      "Crystal Palace\n",
      "18/8/2024 13:00\n",
      "255026X1 - 12.3624°3.40\n",
      "PRE\n",
      "VIEW\n",
      "0.29\n",
      "EPL\n",
      "Chelsea\n",
      "Manchester City\n",
      "18/8/2024 15:30\n",
      "39154621 - 22.9324°1.80\n",
      "PRE\n",
      "VIEW\n",
      "EPL\n",
      "Leicester City\n",
      "Tottenham\n",
      "19/8/2024 19:00\n",
      "30224821 - 33.9117°1.60\n",
      "PRE\n",
      "VIEW\n",
      "Fr2\n",
      "Clermont\n",
      "Pau\n",
      "16/8/2024 18:00\n",
      "1\n",
      "Es2\n",
      "Cadiz\n",
      "Real Zaragoza\n",
      "16/8/2024 19:30\n",
      "1\n"
     ]
    }
   ],
   "source": [
    "fixtures_container = []\n",
    "\n",
    "for fixture in match_fixture_containers:\n",
    "    # Extract the text from the fixture container\n",
    "    fixture_text = fixture.text\n",
    "    fixtures_container.append(fixture_text)\n",
    "    print(fixture_text)\n"
   ]
  },
  {
   "cell_type": "code",
   "execution_count": 6,
   "id": "ab615657",
   "metadata": {},
   "outputs": [],
   "source": [
    "driver.quit()"
   ]
  },
  {
   "cell_type": "code",
   "execution_count": 7,
   "id": "18725bbc",
   "metadata": {},
   "outputs": [
    {
     "data": {
      "text/plain": [
       "['Round 1\\nEPL\\nManchester United\\nFulham\\n16/8/2024 19:00\\n59211913 - 03.2317°1.53\\nPRE\\nVIEW\\nEPL\\nIpswich Town\\nLiverpool\\n17/8/2024 11:30\\n21285121 - 33.3623°1.36\\nPRE\\nVIEW\\nEPL\\nArsenal\\nWolverhampton\\n17/8/2024 14:00\\n68151713 - 02.9724°1.22\\nPRE\\nVIEW\\nEPL\\nEverton\\nBrighton\\n17/8/2024 14:00\\n45262912 - 12.8618°2.50\\nPRE\\nVIEW\\n0.08\\nEPL\\nNewcastle United\\nSouthampton\\n17/8/2024 14:00\\n59221913 - 13.4118°1.33\\nPRE\\nVIEW\\nEPL\\nNottingham Forest\\nBournemouth\\n17/8/2024 14:00\\n32284021 - 22.8222°2.80\\nPRE\\nVIEW\\n0.07\\nEPL\\nWest Ham\\nAston Villa\\n17/8/2024 16:30\\n37333012 - 12.7823°2.45\\nPRE\\nVIEW\\nEPL\\nBrentford\\nCrystal Palace\\n18/8/2024 13:00\\n255026X1 - 12.3624°3.40\\nPRE\\nVIEW\\n0.29\\nEPL\\nChelsea\\nManchester City\\n18/8/2024 15:30\\n39154621 - 22.9324°1.80\\nPRE\\nVIEW\\nEPL\\nLeicester City\\nTottenham\\n19/8/2024 19:00\\n30224821 - 33.9117°1.60\\nPRE\\nVIEW',\n",
       " 'Fr2\\nClermont\\nPau\\n16/8/2024 18:00\\n1',\n",
       " 'Es2\\nCadiz\\nReal Zaragoza\\n16/8/2024 19:30\\n1']"
      ]
     },
     "execution_count": 7,
     "metadata": {},
     "output_type": "execute_result"
    }
   ],
   "source": [
    "fixtures_container"
   ]
  },
  {
   "cell_type": "markdown",
   "id": "ea4c3049",
   "metadata": {},
   "source": [
    "### Cleaning the data "
   ]
  },
  {
   "cell_type": "code",
   "execution_count": 8,
   "id": "7420ba93",
   "metadata": {},
   "outputs": [
    {
     "data": {
      "text/plain": [
       "['Round 1',\n",
       " '\\nManchester United\\nFulham\\n16/8/2024 19:00\\n59211913 - 03.2317°1.53\\nPRE\\nVIEW',\n",
       " '\\nIpswich Town\\nLiverpool\\n17/8/2024 11:30\\n21285121 - 33.3623°1.36\\nPRE\\nVIEW',\n",
       " '\\nArsenal\\nWolverhampton\\n17/8/2024 14:00\\n68151713 - 02.9724°1.22\\nPRE\\nVIEW',\n",
       " '\\nEverton\\nBrighton\\n17/8/2024 14:00\\n45262912 - 12.8618°2.50\\nPRE\\nVIEW\\n0.08',\n",
       " '\\nNewcastle United\\nSouthampton\\n17/8/2024 14:00\\n59221913 - 13.4118°1.33\\nPRE\\nVIEW',\n",
       " '\\nNottingham Forest\\nBournemouth\\n17/8/2024 14:00\\n32284021 - 22.8222°2.80\\nPRE\\nVIEW\\n0.07',\n",
       " '\\nWest Ham\\nAston Villa\\n17/8/2024 16:30\\n37333012 - 12.7823°2.45\\nPRE\\nVIEW',\n",
       " '\\nBrentford\\nCrystal Palace\\n18/8/2024 13:00\\n255026X1 - 12.3624°3.40\\nPRE\\nVIEW\\n0.29',\n",
       " '\\nChelsea\\nManchester City\\n18/8/2024 15:30\\n39154621 - 22.9324°1.80\\nPRE\\nVIEW',\n",
       " '\\nLeicester City\\nTottenham\\n19/8/2024 19:00\\n30224821 - 33.9117°1.60\\nPRE\\nVIEW']"
      ]
     },
     "execution_count": 8,
     "metadata": {},
     "output_type": "execute_result"
    }
   ],
   "source": [
    "# Luckily the data has \\nEpl which we can use to get epl matches from other leagues.\n",
    "matches_data_cleaned_step_1 = [match.split(\"\\nEPL\") for match in fixtures_container]\n",
    "epl_matches = matches_data_cleaned_step_1[0]\n",
    "epl_matches"
   ]
  },
  {
   "cell_type": "code",
   "execution_count": 9,
   "id": "3d0f1d21",
   "metadata": {},
   "outputs": [],
   "source": [
    "upcoming_matches = []\n",
    "for match in epl_matches:\n",
    "    if 'FT' not in match:  # Check if 'FT' (full-time) is present in the match string\n",
    "        upcoming_matches.append(match)\n",
    "        "
   ]
  },
  {
   "cell_type": "code",
   "execution_count": 11,
   "id": "ceabec31",
   "metadata": {},
   "outputs": [
    {
     "name": "stdout",
     "output_type": "stream",
     "text": [
      "\n",
      "Upcoming Matches:\n",
      "['Round 1', '\\nManchester United\\nFulham\\n16/8/2024 19:00\\n59211913 - 03.2317°1.53\\nPRE\\nVIEW', '\\nIpswich Town\\nLiverpool\\n17/8/2024 11:30\\n21285121 - 33.3623°1.36\\nPRE\\nVIEW', '\\nArsenal\\nWolverhampton\\n17/8/2024 14:00\\n68151713 - 02.9724°1.22\\nPRE\\nVIEW', '\\nEverton\\nBrighton\\n17/8/2024 14:00\\n45262912 - 12.8618°2.50\\nPRE\\nVIEW\\n0.08', '\\nNewcastle United\\nSouthampton\\n17/8/2024 14:00\\n59221913 - 13.4118°1.33\\nPRE\\nVIEW', '\\nNottingham Forest\\nBournemouth\\n17/8/2024 14:00\\n32284021 - 22.8222°2.80\\nPRE\\nVIEW\\n0.07', '\\nWest Ham\\nAston Villa\\n17/8/2024 16:30\\n37333012 - 12.7823°2.45\\nPRE\\nVIEW', '\\nBrentford\\nCrystal Palace\\n18/8/2024 13:00\\n255026X1 - 12.3624°3.40\\nPRE\\nVIEW\\n0.29', '\\nChelsea\\nManchester City\\n18/8/2024 15:30\\n39154621 - 22.9324°1.80\\nPRE\\nVIEW', '\\nLeicester City\\nTottenham\\n19/8/2024 19:00\\n30224821 - 33.9117°1.60\\nPRE\\nVIEW']\n"
     ]
    }
   ],
   "source": [
    "print(\"\\nUpcoming Matches:\")\n",
    "print(upcoming_matches)"
   ]
  },
  {
   "cell_type": "code",
   "execution_count": 12,
   "id": "d8aae43d",
   "metadata": {},
   "outputs": [
    {
     "name": "stdout",
     "output_type": "stream",
     "text": [
      "1\n"
     ]
    }
   ],
   "source": [
    "weekly_round  = upcoming_matches[0].split(' ')[-1]\n",
    "print(weekly_round)"
   ]
  },
  {
   "cell_type": "code",
   "execution_count": 13,
   "id": "4946ded5",
   "metadata": {},
   "outputs": [
    {
     "name": "stdout",
     "output_type": "stream",
     "text": [
      "\n",
      "Upcoming Matches:\n",
      "['\\nManchester United\\nFulham\\n16/8/2024 19:00\\n59211913 - 03.2317°1.53\\nPRE\\nVIEW', '\\nIpswich Town\\nLiverpool\\n17/8/2024 11:30\\n21285121 - 33.3623°1.36\\nPRE\\nVIEW', '\\nArsenal\\nWolverhampton\\n17/8/2024 14:00\\n68151713 - 02.9724°1.22\\nPRE\\nVIEW', '\\nEverton\\nBrighton\\n17/8/2024 14:00\\n45262912 - 12.8618°2.50\\nPRE\\nVIEW\\n0.08', '\\nNewcastle United\\nSouthampton\\n17/8/2024 14:00\\n59221913 - 13.4118°1.33\\nPRE\\nVIEW', '\\nNottingham Forest\\nBournemouth\\n17/8/2024 14:00\\n32284021 - 22.8222°2.80\\nPRE\\nVIEW\\n0.07', '\\nWest Ham\\nAston Villa\\n17/8/2024 16:30\\n37333012 - 12.7823°2.45\\nPRE\\nVIEW', '\\nBrentford\\nCrystal Palace\\n18/8/2024 13:00\\n255026X1 - 12.3624°3.40\\nPRE\\nVIEW\\n0.29', '\\nChelsea\\nManchester City\\n18/8/2024 15:30\\n39154621 - 22.9324°1.80\\nPRE\\nVIEW', '\\nLeicester City\\nTottenham\\n19/8/2024 19:00\\n30224821 - 33.9117°1.60\\nPRE\\nVIEW']\n"
     ]
    }
   ],
   "source": [
    "# Now that we have split the epl_matches into two we can clearly remove the Round 36 and Round 35 from the beginning and end of the upcoming matches array\n",
    "upcoming_matches = upcoming_matches[1:]\n",
    "print(\"\\nUpcoming Matches:\")\n",
    "print(upcoming_matches)"
   ]
  },
  {
   "cell_type": "markdown",
   "id": "79d34442",
   "metadata": {},
   "source": [
    "\n",
    " Now that we have split the epl_matches into two we can clearly remove the Round 36 and Round 35 from the beginning and end of the upcoming matches array\n",
    " \n",
    "##### Uncomment the code below to use for certain cases wheres theres only one match left to play\n",
    "\n",
    "- upcoming_matches = upcoming_matches[1]\n",
    "- print(\"\\nUpcoming Matches:\")\n",
    "- print(upcoming_matches)\n"
   ]
  },
  {
   "cell_type": "markdown",
   "id": "63ecabb9",
   "metadata": {},
   "source": [
    "#### Now we can remove `PREVIEW` if only it exists"
   ]
  },
  {
   "cell_type": "code",
   "execution_count": 14,
   "id": "5eb851a6",
   "metadata": {},
   "outputs": [],
   "source": [
    "# Remove '\\nPRE\\nVIEW' from completed matches\n",
    "upcoming_matches = [match.replace('\\nPRE\\nVIEW', '') for match in upcoming_matches]"
   ]
  },
  {
   "cell_type": "code",
   "execution_count": 15,
   "id": "e7eadb84",
   "metadata": {},
   "outputs": [
    {
     "name": "stdout",
     "output_type": "stream",
     "text": [
      "Upcoming Matches (after removing noise):\n",
      "\n",
      "['\\nManchester United\\nFulham\\n16/8/2024 19:00\\n59211913 - 03.2317°1.53', '\\nIpswich Town\\nLiverpool\\n17/8/2024 11:30\\n21285121 - 33.3623°1.36', '\\nArsenal\\nWolverhampton\\n17/8/2024 14:00\\n68151713 - 02.9724°1.22', '\\nEverton\\nBrighton\\n17/8/2024 14:00\\n45262912 - 12.8618°2.50\\n0.08', '\\nNewcastle United\\nSouthampton\\n17/8/2024 14:00\\n59221913 - 13.4118°1.33', '\\nNottingham Forest\\nBournemouth\\n17/8/2024 14:00\\n32284021 - 22.8222°2.80\\n0.07', '\\nWest Ham\\nAston Villa\\n17/8/2024 16:30\\n37333012 - 12.7823°2.45', '\\nBrentford\\nCrystal Palace\\n18/8/2024 13:00\\n255026X1 - 12.3624°3.40\\n0.29', '\\nChelsea\\nManchester City\\n18/8/2024 15:30\\n39154621 - 22.9324°1.80', '\\nLeicester City\\nTottenham\\n19/8/2024 19:00\\n30224821 - 33.9117°1.60']\n"
     ]
    }
   ],
   "source": [
    "print(\"Upcoming Matches (after removing noise):\\n\")\n",
    "print(upcoming_matches)"
   ]
  },
  {
   "cell_type": "code",
   "execution_count": 16,
   "id": "a62c7b54",
   "metadata": {},
   "outputs": [],
   "source": [
    "# Remove '\\nRound' from completed matches\n",
    "upcoming_matches = [re.sub(r'\\nRound\\s\\d{1,2}', '', match) for match in upcoming_matches]"
   ]
  },
  {
   "cell_type": "code",
   "execution_count": 17,
   "id": "f06af7a6",
   "metadata": {},
   "outputs": [
    {
     "name": "stdout",
     "output_type": "stream",
     "text": [
      "Upcoming Matches (after removing noise):\n",
      "\n",
      "['\\nManchester United\\nFulham\\n16/8/2024 19:00\\n59211913 - 03.2317°1.53', '\\nIpswich Town\\nLiverpool\\n17/8/2024 11:30\\n21285121 - 33.3623°1.36', '\\nArsenal\\nWolverhampton\\n17/8/2024 14:00\\n68151713 - 02.9724°1.22', '\\nEverton\\nBrighton\\n17/8/2024 14:00\\n45262912 - 12.8618°2.50\\n0.08', '\\nNewcastle United\\nSouthampton\\n17/8/2024 14:00\\n59221913 - 13.4118°1.33', '\\nNottingham Forest\\nBournemouth\\n17/8/2024 14:00\\n32284021 - 22.8222°2.80\\n0.07', '\\nWest Ham\\nAston Villa\\n17/8/2024 16:30\\n37333012 - 12.7823°2.45', '\\nBrentford\\nCrystal Palace\\n18/8/2024 13:00\\n255026X1 - 12.3624°3.40\\n0.29', '\\nChelsea\\nManchester City\\n18/8/2024 15:30\\n39154621 - 22.9324°1.80', '\\nLeicester City\\nTottenham\\n19/8/2024 19:00\\n30224821 - 33.9117°1.60']\n"
     ]
    }
   ],
   "source": [
    "print(\"Upcoming Matches (after removing noise):\\n\")\n",
    "print(upcoming_matches)"
   ]
  },
  {
   "cell_type": "markdown",
   "id": "46209f27",
   "metadata": {},
   "source": [
    "#### Preparing the array for DataFrame "
   ]
  },
  {
   "cell_type": "code",
   "execution_count": 18,
   "id": "1d09a1bc",
   "metadata": {},
   "outputs": [
    {
     "name": "stdout",
     "output_type": "stream",
     "text": [
      "Upcoming Matches (after removing noise):\n",
      "\n",
      "['\\nManchester United\\nFulham\\n16/8/2024 19:00\\n59\\n21\\n19\\n1\\n3 - 0\\n3.23\\n17°\\n1.53', '\\nIpswich Town\\nLiverpool\\n17/8/2024 11:30\\n21\\n28\\n51\\n2\\n1 - 3\\n3.36\\n23°\\n1.36', '\\nArsenal\\nWolverhampton\\n17/8/2024 14:00\\n68\\n15\\n17\\n1\\n3 - 0\\n2.97\\n24°\\n1.22', '\\nEverton\\nBrighton\\n17/8/2024 14:00\\n45\\n26\\n29\\n1\\n2 - 1\\n2.86\\n18°\\n2.50\\n0.08', '\\nNewcastle United\\nSouthampton\\n17/8/2024 14:00\\n59\\n22\\n19\\n1\\n3 - 1\\n3.41\\n18°\\n1.33', '\\nNottingham Forest\\nBournemouth\\n17/8/2024 14:00\\n32\\n28\\n40\\n2\\n1 - 2\\n2.82\\n22°\\n2.80\\n0.07', '\\nWest Ham\\nAston Villa\\n17/8/2024 16:30\\n37\\n33\\n30\\n1\\n2 - 1\\n2.78\\n23°\\n2.45', '\\nBrentford\\nCrystal Palace\\n18/8/2024 13:00\\n25\\n50\\n26\\nX\\n1 - 1\\n2.36\\n24°\\n3.40\\n0.29', '\\nChelsea\\nManchester City\\n18/8/2024 15:30\\n39\\n15\\n46\\n2\\n1 - 2\\n2.93\\n24°\\n1.80', '\\nLeicester City\\nTottenham\\n19/8/2024 19:00\\n30\\n22\\n48\\n2\\n1 - 3\\n3.91\\n17°\\n1.60']\n"
     ]
    }
   ],
   "source": [
    "# Regular expression pattern for matching completed matches data\n",
    "# Example matched string: '\\n15196521 - 33.1921°1.25 FT 0 - 4'\n",
    "# This represents:\n",
    "# 15 - Probability of home team win\n",
    "# 19 - Probability of draw\n",
    "# 52 - Probability of away team win\n",
    "# 2 - Team to win (1 for home, X for draw, 2 for away)\n",
    "# 1 - Home team score prediction\n",
    "# 3 - Away team score prediction\n",
    "# 3.19 - Average goals prediction\n",
    "# 21° - Weather in degrees\n",
    "# 1.25 - Odds\n",
    "# FT 0 - 4 - Actual full-time score\n",
    "\n",
    "pattern = r'\\n(\\d{2})(\\d{2})(\\d{2})([A-Z]|\\d?)(\\d?\\s-\\s\\d{1})(\\d{1}.\\d{2})(\\d{2}°|\\d{1}°)(\\d?.\\d{2})'\n",
    "\n",
    "replacement = r'\\n\\1\\n\\2\\n\\3\\n\\4\\n\\5\\n\\6\\n\\7\\n\\8'\n",
    "\n",
    "def replace_upcoming_matches(text):\n",
    "    \"\"\"\n",
    "    Replace matches of the completed matches pattern in the given text\n",
    "    with the specified replacement pattern.\n",
    "\n",
    "    Args:\n",
    "        text (str): The input text containing completed matches data.\n",
    "\n",
    "    Returns:\n",
    "        str: The text with replaced patterns.\n",
    "    \"\"\"\n",
    "    return re.sub(pattern, replacement, text)\n",
    "\n",
    "\n",
    "for i in range(len(upcoming_matches)):\n",
    "    upcoming_matches[i] = replace_upcoming_matches(upcoming_matches[i])\n",
    "\n",
    "\n",
    "print(\"Upcoming Matches (after removing noise):\\n\")\n",
    "print(upcoming_matches)"
   ]
  },
  {
   "cell_type": "markdown",
   "id": "77e001ca",
   "metadata": {},
   "source": [
    "#### Brief Notes:\n",
    "- pattern_completed_matches: A regular expression pattern to match the completed matches data format. This pattern captures various parts of the match data, including win probabilities, team scores, average goals, weather, odds, and the actual scoreline.\n",
    "- replacement_completed_matches: A replacement pattern to reformat the matched completed matches data by adding newline characters (\\n) between the captured groups. This facilitates easier creation of a DataFrame by separating the future columns. \n",
    "eg  \\n15196521 - 33.1921°1.25 FT 0 - 4  becomes  => \\n15\\n19\\n65\\n2\\n1 - 3\\n3.19\\n21°\\n1.25\\nFT 0 - 4"
   ]
  },
  {
   "cell_type": "code",
   "execution_count": 20,
   "id": "2ba4deb1",
   "metadata": {},
   "outputs": [
    {
     "name": "stdout",
     "output_type": "stream",
     "text": [
      "Full Matches split by slash n:\n",
      "\n",
      "[['', 'Manchester United', 'Fulham', '16/8/2024 19:00', '59', '21', '19', '1', '3 - 0', '3.23', '17°', '1.53'], ['', 'Ipswich Town', 'Liverpool', '17/8/2024 11:30', '21', '28', '51', '2', '1 - 3', '3.36', '23°', '1.36'], ['', 'Arsenal', 'Wolverhampton', '17/8/2024 14:00', '68', '15', '17', '1', '3 - 0', '2.97', '24°', '1.22'], ['', 'Everton', 'Brighton', '17/8/2024 14:00', '45', '26', '29', '1', '2 - 1', '2.86', '18°', '2.50', '0.08'], ['', 'Newcastle United', 'Southampton', '17/8/2024 14:00', '59', '22', '19', '1', '3 - 1', '3.41', '18°', '1.33'], ['', 'Nottingham Forest', 'Bournemouth', '17/8/2024 14:00', '32', '28', '40', '2', '1 - 2', '2.82', '22°', '2.80', '0.07'], ['', 'West Ham', 'Aston Villa', '17/8/2024 16:30', '37', '33', '30', '1', '2 - 1', '2.78', '23°', '2.45'], ['', 'Brentford', 'Crystal Palace', '18/8/2024 13:00', '25', '50', '26', 'X', '1 - 1', '2.36', '24°', '3.40', '0.29'], ['', 'Chelsea', 'Manchester City', '18/8/2024 15:30', '39', '15', '46', '2', '1 - 2', '2.93', '24°', '1.80'], ['', 'Leicester City', 'Tottenham', '19/8/2024 19:00', '30', '22', '48', '2', '1 - 3', '3.91', '17°', '1.60']]\n"
     ]
    }
   ],
   "source": [
    "# New array to hold split Data \n",
    "upcoming_matches_split = []\n",
    "\n",
    "for i in range(len(upcoming_matches)):\n",
    "    upcoming_matches_split.append(upcoming_matches[i].split('\\n'))\n",
    "\n",
    "print(\"Full Matches split by slash n:\\n\")\n",
    "print(upcoming_matches_split)"
   ]
  },
  {
   "cell_type": "code",
   "execution_count": 21,
   "id": "52cc390b",
   "metadata": {},
   "outputs": [],
   "source": [
    "df_columns_upcoming_matches  = ['', 'home', 'away', 'date_and_time', 'home_win_probability', 'draw_probability', 'away_team_win_probability', 'team_to_win_prediction', 'scoreline_prediction', 'average_goals_prediction', 'weather_in_degrees', 'odds', \"kelly_criterion\"]"
   ]
  },
  {
   "cell_type": "code",
   "execution_count": 22,
   "id": "b78b67d7",
   "metadata": {},
   "outputs": [
    {
     "name": "stdout",
     "output_type": "stream",
     "text": [
      "                home             away    date and time home_win_probability  \\\n",
      "0  Manchester United           Fulham  16/8/2024 19:00                   59   \n",
      "1       Ipswich Town        Liverpool  17/8/2024 11:30                   21   \n",
      "2            Arsenal    Wolverhampton  17/8/2024 14:00                   68   \n",
      "3            Everton         Brighton  17/8/2024 14:00                   45   \n",
      "4   Newcastle United      Southampton  17/8/2024 14:00                   59   \n",
      "5  Nottingham Forest      Bournemouth  17/8/2024 14:00                   32   \n",
      "6           West Ham      Aston Villa  17/8/2024 16:30                   37   \n",
      "7          Brentford   Crystal Palace  18/8/2024 13:00                   25   \n",
      "8            Chelsea  Manchester City  18/8/2024 15:30                   39   \n",
      "9     Leicester City        Tottenham  19/8/2024 19:00                   30   \n",
      "\n",
      "  draw_probability away_team_win_probability team_to_win_prediction  \\\n",
      "0               21                        19                      1   \n",
      "1               28                        51                      2   \n",
      "2               15                        17                      1   \n",
      "3               26                        29                      1   \n",
      "4               22                        19                      1   \n",
      "5               28                        40                      2   \n",
      "6               33                        30                      1   \n",
      "7               50                        26                      X   \n",
      "8               15                        46                      2   \n",
      "9               22                        48                      2   \n",
      "\n",
      "  Scoreline prediction average_goals_prediction weather_in_degrees  odds  \\\n",
      "0                3 - 0                     3.23                17°  1.53   \n",
      "1                1 - 3                     3.36                23°  1.36   \n",
      "2                3 - 0                     2.97                24°  1.22   \n",
      "3                2 - 1                     2.86                18°  2.50   \n",
      "4                3 - 1                     3.41                18°  1.33   \n",
      "5                1 - 2                     2.82                22°  2.80   \n",
      "6                2 - 1                     2.78                23°  2.45   \n",
      "7                1 - 1                     2.36                24°  3.40   \n",
      "8                1 - 2                     2.93                24°  1.80   \n",
      "9                1 - 3                     3.91                17°  1.60   \n",
      "\n",
      "  kelly_criterion  \n",
      "0            None  \n",
      "1            None  \n",
      "2            None  \n",
      "3            0.08  \n",
      "4            None  \n",
      "5            0.07  \n",
      "6            None  \n",
      "7            0.29  \n",
      "8            None  \n",
      "9            None  \n"
     ]
    }
   ],
   "source": [
    "df_upcoming_matches = pd.DataFrame(upcoming_matches_split, columns= df_columns_upcoming_matches)\n",
    "\n",
    "# Drop first column\n",
    "df_upcoming_matches = df_upcoming_matches.drop(columns=[''])\n",
    "\n",
    "    \n",
    "\n",
    "# Display DataFrame\n",
    "print(df_upcoming_matches)"
   ]
  },
  {
   "cell_type": "markdown",
   "id": "db099e45",
   "metadata": {},
   "source": [
    "We are going to skip EDA since the data varies week in week out. Later when i connect the data to a database, and keep track of certain trends maybe we can notice certain patterns\n"
   ]
  },
  {
   "cell_type": "markdown",
   "id": "2d83513e",
   "metadata": {},
   "source": [
    "### DataBase and Model Readiness: \n",
    "We are still preparing the data, but from now on, everything we do has the model in mind, that means label encoding, converting string to floats dropping columns etc. so its a bit different from just cleaning the data. its more like tuning ? parameter tuning ?\n",
    "\n",
    "We are going to create labels for the teams in the premier league, in order to have Home and Away values are numerical labels. important for logisit regression. Might not be the best model, but yh \n"
   ]
  },
  {
   "cell_type": "code",
   "execution_count": 23,
   "id": "63a40dff",
   "metadata": {},
   "outputs": [],
   "source": [
    "def team_to_label(team_name):\n",
    "    \"\"\"\n",
    "    Convert a team name to its corresponding label.\n",
    "\n",
    "    Args:\n",
    "        team_name (str): The name of the team.\n",
    "\n",
    "    Returns:\n",
    "        int: The corresponding label for the team name as per the team_labels_forebet dictionary.\n",
    "    \"\"\"\n",
    "    return team_labels_forebet.get(team_name)\n"
   ]
  },
  {
   "cell_type": "code",
   "execution_count": 65,
   "id": "f89e08aa",
   "metadata": {},
   "outputs": [
    {
     "name": "stdout",
     "output_type": "stream",
     "text": [
      "   Home  Away    Date and time Home Win probability Draw probability  \\\n",
      "0     1     8  19/5/2024 15:00                   53               20   \n",
      "1    23    15  19/5/2024 15:00                   27               25   \n",
      "2     4    14  19/5/2024 15:00                   34               34   \n",
      "3     5    25  19/5/2024 15:00                   38               33   \n",
      "4     6     3  19/5/2024 15:00                   49               27   \n",
      "\n",
      "  Away team win probability Team to win(prediction) Scoreline prediction  \\\n",
      "0                        27                       1                3 - 1   \n",
      "1                        49                       2                1 - 3   \n",
      "2                        32                       1                2 - 1   \n",
      "3                        28                       1                2 - 1   \n",
      "4                        24                       1                2 - 1   \n",
      "\n",
      "  Average goals Weather in degrees  Odds Kelly Criterion  \n",
      "0          3.16                19°  1.18            None  \n",
      "1          3.13                19°  2.20            0.07  \n",
      "2          2.88                16°  4.00            None  \n",
      "3          2.98                18°  2.90            0.05  \n",
      "4          2.78                19°  1.45            None  \n"
     ]
    }
   ],
   "source": [
    "df_upcoming_matches['home'] = df_upcoming_matches['home'].map(team_to_label)\n",
    "df_upcoming_matches['away'] = df_upcoming_matches['away'].map(team_to_label)\n",
    "\n",
    "print(df_upcoming_matches.head())\n",
    "\n"
   ]
  },
  {
   "cell_type": "code",
   "execution_count": 26,
   "id": "08e3ce65",
   "metadata": {},
   "outputs": [],
   "source": [
    "### Splitting the \"Scoreline prediction\" column into separate columns (Home goals, Away goals)\n",
    "df_upcoming_matches[['home_team_score_prediction', 'away_team_score_prediction']] = df_upcoming_matches['scoreline_prediction'].str.split('-', expand=True)\n",
    "\n",
    "# Converting the split columns to integers\n",
    "df_upcoming_matches['home_team_score_prediction'] = df_upcoming_matches['home_team_score_prediction'].astype(int)\n",
    "df_upcoming_matches['away_team_score_prediction'] = df_upcoming_matches['away_team_score_prediction'].astype(int)"
   ]
  },
  {
   "cell_type": "markdown",
   "id": "16e85ea2",
   "metadata": {},
   "source": [
    "## Feature engineering\n",
    "We will make sure our columns are in the right format and think about the model "
   ]
  },
  {
   "cell_type": "code",
   "execution_count": 28,
   "id": "b91e09df",
   "metadata": {},
   "outputs": [],
   "source": [
    "\n",
    "# Convert probabilities to float\n",
    "df_upcoming_matches['home_win_probability'] = df_upcoming_matches['home_win_probability'].astype(float)\n",
    "df_upcoming_matches['draw_probability'] = df_upcoming_matches['draw_probability'].astype(float)\n",
    "df_upcoming_matches['away_team_win_probability'] = df_upcoming_matches['away_team_win_probability'].astype(float)\n",
    "\n",
    "\n",
    "# Convert average goals prediction to float\n",
    "df_upcoming_matches['average_goals_prediction'] = df_upcoming_matches['average_goals_prediction'].astype(float)\n",
    "df_upcoming_matches['odds'] = df_upcoming_matches['odds'].astype(float)"
   ]
  },
  {
   "cell_type": "code",
   "execution_count": 29,
   "id": "ccf53956",
   "metadata": {},
   "outputs": [],
   "source": [
    "df_upcoming_matches.drop(columns=['kelly_criterion'], inplace=True)"
   ]
  },
  {
   "cell_type": "code",
   "execution_count": 34,
   "id": "6e9f3299-d114-4d4b-a93c-d2627d3d7d76",
   "metadata": {},
   "outputs": [],
   "source": [
    "df_upcoming_matches[['date', 'time']] = df_upcoming_matches['date_and_time'].str.split(' ', expand=True)"
   ]
  },
  {
   "cell_type": "code",
   "execution_count": 35,
   "id": "622b0d25",
   "metadata": {},
   "outputs": [],
   "source": [
    "# Convert 'Date' column to datetime with correct format\n",
    "df_upcoming_matches['date'] = pd.to_datetime(df_upcoming_matches['date'], format='%d/%m/%Y')\n",
    "df_upcoming_matches['day_of_week'] = df_upcoming_matches['date'].dt.dayofweek\n",
    "df_upcoming_matches['month'] = df_upcoming_matches['date'].dt.month"
   ]
  },
  {
   "cell_type": "code",
   "execution_count": 36,
   "id": "30b20b16",
   "metadata": {},
   "outputs": [
    {
     "name": "stdout",
     "output_type": "stream",
     "text": [
      "<class 'pandas.core.frame.DataFrame'>\n",
      "RangeIndex: 10 entries, 0 to 9\n",
      "Data columns (total 17 columns):\n",
      " #   Column                      Non-Null Count  Dtype         \n",
      "---  ------                      --------------  -----         \n",
      " 0   home                        10 non-null     object        \n",
      " 1   away                        10 non-null     object        \n",
      " 2   date and time               10 non-null     object        \n",
      " 3   home_win_probability        10 non-null     float64       \n",
      " 4   draw_probability            10 non-null     float64       \n",
      " 5   away_team_win_probability   10 non-null     float64       \n",
      " 6   team_to_win_prediction      10 non-null     int64         \n",
      " 7   Scoreline prediction        10 non-null     object        \n",
      " 8   average_goals_prediction    10 non-null     float64       \n",
      " 9   weather_in_degrees          10 non-null     object        \n",
      " 10  odds                        10 non-null     float64       \n",
      " 11  home_team_score_prediction  10 non-null     int64         \n",
      " 12  away_team_score_prediction  10 non-null     int64         \n",
      " 13  date                        10 non-null     datetime64[ns]\n",
      " 14  time                        10 non-null     object        \n",
      " 15  day_of_week                 10 non-null     int32         \n",
      " 16  month                       10 non-null     int32         \n",
      "dtypes: datetime64[ns](1), float64(5), int32(2), int64(3), object(6)\n",
      "memory usage: 1.4+ KB\n",
      "None\n",
      "                home           away    date and time  home_win_probability  \\\n",
      "0  Manchester United         Fulham  16/8/2024 19:00                  59.0   \n",
      "1       Ipswich Town      Liverpool  17/8/2024 11:30                  21.0   \n",
      "2            Arsenal  Wolverhampton  17/8/2024 14:00                  68.0   \n",
      "3            Everton       Brighton  17/8/2024 14:00                  45.0   \n",
      "4   Newcastle United    Southampton  17/8/2024 14:00                  59.0   \n",
      "\n",
      "   draw_probability  away_team_win_probability  team_to_win_prediction  \\\n",
      "0              21.0                       19.0                       0   \n",
      "1              28.0                       51.0                       1   \n",
      "2              15.0                       17.0                       0   \n",
      "3              26.0                       29.0                       0   \n",
      "4              22.0                       19.0                       0   \n",
      "\n",
      "  Scoreline prediction  average_goals_prediction weather_in_degrees  odds  \\\n",
      "0                3 - 0                      3.23                17°  1.53   \n",
      "1                1 - 3                      3.36                23°  1.36   \n",
      "2                3 - 0                      2.97                24°  1.22   \n",
      "3                2 - 1                      2.86                18°  2.50   \n",
      "4                3 - 1                      3.41                18°  1.33   \n",
      "\n",
      "   home_team_score_prediction  away_team_score_prediction       date   time  \\\n",
      "0                           3                           0 2024-08-16  19:00   \n",
      "1                           1                           3 2024-08-17  11:30   \n",
      "2                           3                           0 2024-08-17  14:00   \n",
      "3                           2                           1 2024-08-17  14:00   \n",
      "4                           3                           1 2024-08-17  14:00   \n",
      "\n",
      "   day_of_week  month  \n",
      "0            4      8  \n",
      "1            5      8  \n",
      "2            5      8  \n",
      "3            5      8  \n",
      "4            5      8  \n"
     ]
    }
   ],
   "source": [
    "# Initialize LabelEncoder\n",
    "label_encoder = LabelEncoder()\n",
    "\n",
    "# Encode the 'Team to win(prediction)' column\n",
    "df_upcoming_matches['team_to_win_prediction'] = label_encoder.fit_transform(df_upcoming_matches['team_to_win_prediction'])\n",
    "\n",
    "print(df_upcoming_matches.info())\n",
    "\n",
    "print(df_upcoming_matches.head())"
   ]
  },
  {
   "cell_type": "code",
   "execution_count": 37,
   "id": "090f1453",
   "metadata": {},
   "outputs": [
    {
     "name": "stdout",
     "output_type": "stream",
     "text": [
      "Label Mapping: {'1': np.int64(0), '2': np.int64(1), 'X': np.int64(2)}\n"
     ]
    }
   ],
   "source": [
    "# Get the mapping of labels\n",
    "label_mapping = dict(zip(label_encoder.classes_, label_encoder.transform(label_encoder.classes_)))\n",
    "\n",
    "print(\"Label Mapping:\", label_mapping)"
   ]
  },
  {
   "cell_type": "code",
   "execution_count": 38,
   "id": "ca2dc9d2",
   "metadata": {},
   "outputs": [],
   "source": [
    "weekly_round = int(weekly_round)"
   ]
  },
  {
   "cell_type": "code",
   "execution_count": 39,
   "id": "a72138bb",
   "metadata": {},
   "outputs": [],
   "source": [
    "df_upcoming_matches['weekly_round'] = weekly_round"
   ]
  },
  {
   "cell_type": "markdown",
   "id": "53be5c12",
   "metadata": {},
   "source": [
    "### Validation and Logging: "
   ]
  },
  {
   "cell_type": "code",
   "execution_count": 40,
   "id": "5baf7a47",
   "metadata": {},
   "outputs": [
    {
     "name": "stdout",
     "output_type": "stream",
     "text": [
      "<class 'pandas.core.frame.DataFrame'>\n",
      "RangeIndex: 10 entries, 0 to 9\n",
      "Data columns (total 18 columns):\n",
      " #   Column                      Non-Null Count  Dtype         \n",
      "---  ------                      --------------  -----         \n",
      " 0   home                        10 non-null     object        \n",
      " 1   away                        10 non-null     object        \n",
      " 2   date and time               10 non-null     object        \n",
      " 3   home_win_probability        10 non-null     float64       \n",
      " 4   draw_probability            10 non-null     float64       \n",
      " 5   away_team_win_probability   10 non-null     float64       \n",
      " 6   team_to_win_prediction      10 non-null     int64         \n",
      " 7   Scoreline prediction        10 non-null     object        \n",
      " 8   average_goals_prediction    10 non-null     float64       \n",
      " 9   weather_in_degrees          10 non-null     object        \n",
      " 10  odds                        10 non-null     float64       \n",
      " 11  home_team_score_prediction  10 non-null     int64         \n",
      " 12  away_team_score_prediction  10 non-null     int64         \n",
      " 13  date                        10 non-null     datetime64[ns]\n",
      " 14  time                        10 non-null     object        \n",
      " 15  day_of_week                 10 non-null     int32         \n",
      " 16  month                       10 non-null     int32         \n",
      " 17  weekly_round                10 non-null     int64         \n",
      "dtypes: datetime64[ns](1), float64(5), int32(2), int64(4), object(6)\n",
      "memory usage: 1.5+ KB\n"
     ]
    }
   ],
   "source": [
    "df_upcoming_matches.info()"
   ]
  },
  {
   "cell_type": "markdown",
   "id": "b9ea3a91",
   "metadata": {},
   "source": [
    "#### Save in DB"
   ]
  },
  {
   "cell_type": "code",
   "execution_count": 41,
   "id": "828a8cec",
   "metadata": {},
   "outputs": [],
   "source": [
    "# Database connection\n",
    "user = '<test_user>'\n",
    "password = '<password>'\n",
    "host = 'localhost'\n",
    "port = 3306\n",
    "database = 'bet_prediction_model'"
   ]
  },
  {
   "cell_type": "code",
   "execution_count": 42,
   "id": "7e1d7c77",
   "metadata": {},
   "outputs": [
    {
     "data": {
      "text/plain": [
       "10"
      ]
     },
     "execution_count": 42,
     "metadata": {},
     "output_type": "execute_result"
    }
   ],
   "source": [
    "engine = create_engine(f'mysql+pymysql://{user}:{password}@{host}:{port}/{database}')\n",
    "df_upcoming_matches.to_sql('upcoming_matches', con=engine, if_exists='replace', index=False)"
   ]
  }
 ],
 "metadata": {
  "kernelspec": {
   "display_name": "Python 3 (ipykernel)",
   "language": "python",
   "name": "python3"
  },
  "language_info": {
   "codemirror_mode": {
    "name": "ipython",
    "version": 3
   },
   "file_extension": ".py",
   "mimetype": "text/x-python",
   "name": "python",
   "nbconvert_exporter": "python",
   "pygments_lexer": "ipython3",
   "version": "3.12.4"
  }
 },
 "nbformat": 4,
 "nbformat_minor": 5
}
