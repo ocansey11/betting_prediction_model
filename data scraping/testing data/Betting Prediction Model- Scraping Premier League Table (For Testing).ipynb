{
 "cells": [
  {
   "cell_type": "markdown",
   "id": "1ed262f6",
   "metadata": {},
   "source": [
    "# Betting Prediction Model - Scraping Premier League Table (Testing Data)\n",
    "\n",
    "## Overview\n",
    "\n",
    "This notebook aims to scrape data from the Premier League table from sofascore to gather testing data for our betting prediction model. The extracted data will be utilized to test our model for accurate predictions. The primary objectives of this notebook include:\n",
    "\n",
    "1. **Data Extraction**: Retrieve relevant information from the Premier League table, including team standings, recent match results, and performance statistics.\n",
    "2. **Data Processing**: Cleanse and format the scraped data to ensure consistency and accuracy for model training.\n",
    "3. **Database Integration**: Store the processed data in the previous_league_standings table which we would later merge with completed_matches table and append to our `training_data` table within our database for future model training sessions.\n",
    "\n",
    "## Steps Involved\n",
    "\n",
    "1. **Environment Setup and Imports**: Import necessary libraries and configure settings.\n",
    "2. **Web Scraping**: Utilize web scraping techniques to extract data from the Premier League table.\n",
    "3. **Data Cleansing and Transformation**: Process the extracted data to ensure uniformity and reliability.\n",
    "4. **Database Interaction**: Insert the processed data into the `training_data` table to build a comprehensive dataset.\n",
    "\n",
    "\n",
    "## Requirements\n",
    "\n",
    "- Python 3.x\n",
    "- Libraries: `selenium web driver`, `pandas`, `sqlalchemy`\n",
    "- Access to the database containing the `testing_data` table\n",
    "\n",
    "## Notes\n",
    "\n",
    "- Prior to execution, ensure that database credentials are correctly configured.\n",
    "- This notebook should be executed periodically to keep the upcoming_matches up-to-date with the current Premier League data. to ensure this, run this notebook before you run `Betting Prediction Model - Scraping Forebet Upcoming Matches`\n",
    "\n",
    "\n",
    "## Updates July 2024\n",
    "### Project Migration and Update Process\n",
    "- Migration: Migrated project from Jupyter Notebook 6 to Notebook 7.\n",
    "- Python Version: Updated from Python 3.9 to Python 3.12.\n",
    "- Selenium Version and Usage: Noted that with Selenium 4.2, it was possible to use webdriver without specifying service and options AND PATH, eliminating unnecessary code.\n",
    "\n",
    "  \n",
    "Let's commence by setting up our environment and importing essential libraries.\n"
   ]
  },
  {
   "cell_type": "code",
   "execution_count": 3,
   "id": "52e9aead-2e73-4bce-99a0-f5c621d89751",
   "metadata": {},
   "outputs": [
    {
     "name": "stdout",
     "output_type": "stream",
     "text": [
      "Requirement already satisfied: selenium in c:\\users\\kevin\\anaconda3\\envs\\betting_prediction_model\\lib\\site-packages (4.22.0)\n",
      "Requirement already satisfied: urllib3<3,>=1.26 in c:\\users\\kevin\\anaconda3\\envs\\betting_prediction_model\\lib\\site-packages (from urllib3[socks]<3,>=1.26->selenium) (2.2.2)\n",
      "Requirement already satisfied: trio~=0.17 in c:\\users\\kevin\\anaconda3\\envs\\betting_prediction_model\\lib\\site-packages (from selenium) (0.25.1)\n",
      "Requirement already satisfied: trio-websocket~=0.9 in c:\\users\\kevin\\anaconda3\\envs\\betting_prediction_model\\lib\\site-packages (from selenium) (0.11.1)\n",
      "Requirement already satisfied: certifi>=2021.10.8 in c:\\users\\kevin\\anaconda3\\envs\\betting_prediction_model\\lib\\site-packages (from selenium) (2024.6.2)\n",
      "Requirement already satisfied: typing_extensions>=4.9.0 in c:\\users\\kevin\\anaconda3\\envs\\betting_prediction_model\\lib\\site-packages (from selenium) (4.11.0)\n",
      "Requirement already satisfied: websocket-client>=1.8.0 in c:\\users\\kevin\\anaconda3\\envs\\betting_prediction_model\\lib\\site-packages (from selenium) (1.8.0)\n",
      "Requirement already satisfied: attrs>=23.2.0 in c:\\users\\kevin\\anaconda3\\envs\\betting_prediction_model\\lib\\site-packages (from trio~=0.17->selenium) (23.2.0)\n",
      "Requirement already satisfied: sortedcontainers in c:\\users\\kevin\\anaconda3\\envs\\betting_prediction_model\\lib\\site-packages (from trio~=0.17->selenium) (2.4.0)\n",
      "Requirement already satisfied: idna in c:\\users\\kevin\\anaconda3\\envs\\betting_prediction_model\\lib\\site-packages (from trio~=0.17->selenium) (3.7)\n",
      "Requirement already satisfied: outcome in c:\\users\\kevin\\anaconda3\\envs\\betting_prediction_model\\lib\\site-packages (from trio~=0.17->selenium) (1.3.0.post0)\n",
      "Requirement already satisfied: sniffio>=1.3.0 in c:\\users\\kevin\\anaconda3\\envs\\betting_prediction_model\\lib\\site-packages (from trio~=0.17->selenium) (1.3.0)\n",
      "Requirement already satisfied: cffi>=1.14 in c:\\users\\kevin\\anaconda3\\envs\\betting_prediction_model\\lib\\site-packages (from trio~=0.17->selenium) (1.16.0)\n",
      "Requirement already satisfied: wsproto>=0.14 in c:\\users\\kevin\\anaconda3\\envs\\betting_prediction_model\\lib\\site-packages (from trio-websocket~=0.9->selenium) (1.2.0)\n",
      "Requirement already satisfied: pysocks!=1.5.7,<2.0,>=1.5.6 in c:\\users\\kevin\\anaconda3\\envs\\betting_prediction_model\\lib\\site-packages (from urllib3[socks]<3,>=1.26->selenium) (1.7.1)\n",
      "Requirement already satisfied: pycparser in c:\\users\\kevin\\anaconda3\\envs\\betting_prediction_model\\lib\\site-packages (from cffi>=1.14->trio~=0.17->selenium) (2.21)\n",
      "Requirement already satisfied: h11<1,>=0.9.0 in c:\\users\\kevin\\anaconda3\\envs\\betting_prediction_model\\lib\\site-packages (from wsproto>=0.14->trio-websocket~=0.9->selenium) (0.14.0)\n"
     ]
    }
   ],
   "source": [
    "# Make sure youre using latest version of selenium to prevent running into errors. \n",
    "# Make sure your chrome driver version is compatible with your Chrome versions. \n",
    "# Use this link to update to latest Chrome and chromerdriver https://googlechromelabs.github.io/chrome-for-testing/ if necessary.\n",
    "!pip install pandas sqlalchemy\n",
    "!pip install --upgrade selenium"
   ]
  },
  {
   "cell_type": "code",
   "execution_count": 1,
   "id": "97be6bc2",
   "metadata": {},
   "outputs": [],
   "source": [
    "from selenium import webdriver\n",
    "import pandas as pd\n",
    "from sqlalchemy import create_engine"
   ]
  },
  {
   "cell_type": "code",
   "execution_count": 2,
   "id": "4def7e15",
   "metadata": {},
   "outputs": [],
   "source": [
    "# Initialize WebDriver \n",
    "driver = webdriver.Chrome()\n",
    "# When you run the next block ensure the ChromeDriver window is maximized to accurately render the website. \n",
    "# Different screen sizes may affect website responsiveness and the class names used, \n",
    "# which could lead to varied results if the window size is too small."
   ]
  },
  {
   "cell_type": "code",
   "execution_count": 3,
   "id": "4d07f39a-8415-481a-9268-9a9fe42dd6ab",
   "metadata": {},
   "outputs": [],
   "source": [
    "driver.get('https://www.sofascore.com/tournament/football/england/premier-league/17#id:52186');"
   ]
  },
  {
   "cell_type": "code",
   "execution_count": 4,
   "id": "5269ea6e",
   "metadata": {},
   "outputs": [
    {
     "name": "stdout",
     "output_type": "stream",
     "text": [
      "[<selenium.webdriver.remote.webelement.WebElement (session=\"5a80d7eb417162cd3331ee9567150173\", element=\"f.C95CDE9A8D0A40F203E03906D4C89531.d.00E0AD1671724E0AA9A79D35AD36D622.e.60\")>]\n"
     ]
    }
   ],
   "source": [
    "# Now find the fixture containers within the body element\n",
    "league_table_results = driver.find_elements(\"class name\", \"eHXJll\")\n",
    "print(league_table_results)"
   ]
  },
  {
   "cell_type": "code",
   "execution_count": 6,
   "id": "88c06f6a",
   "metadata": {},
   "outputs": [
    {
     "name": "stdout",
     "output_type": "stream",
     "text": [
      "ALLHOMEAWAY\n",
      "#\n",
      "Team\n",
      "P\n",
      "W\n",
      "D\n",
      "L\n",
      "Goals\n",
      "Last 5\n",
      "PTS\n",
      "1\n",
      "Man City\n",
      "38\n",
      "28\n",
      "7\n",
      "3\n",
      "96:34\n",
      "W\n",
      "W\n",
      "W\n",
      "W\n",
      "W\n",
      "91\n",
      "2\n",
      "Arsenal\n",
      "38\n",
      "28\n",
      "5\n",
      "5\n",
      "91:29\n",
      "W\n",
      "W\n",
      "W\n",
      "W\n",
      "W\n",
      "89\n",
      "3\n",
      "Liverpool\n",
      "38\n",
      "24\n",
      "10\n",
      "4\n",
      "86:41\n",
      "L\n",
      "D\n",
      "W\n",
      "D\n",
      "W\n",
      "82\n",
      "4\n",
      "Aston Villa\n",
      "38\n",
      "20\n",
      "8\n",
      "10\n",
      "76:61\n",
      "W\n",
      "D\n",
      "L\n",
      "D\n",
      "L\n",
      "68\n",
      "5\n",
      "Tottenham\n",
      "38\n",
      "20\n",
      "6\n",
      "12\n",
      "74:61\n",
      "L\n",
      "L\n",
      "W\n",
      "L\n",
      "W\n",
      "66\n",
      "6\n",
      "Chelsea\n",
      "38\n",
      "18\n",
      "9\n",
      "11\n",
      "77:63\n",
      "W\n",
      "W\n",
      "W\n",
      "W\n",
      "W\n",
      "63\n",
      "7\n",
      "Newcastle\n",
      "38\n",
      "18\n",
      "6\n",
      "14\n",
      "85:62\n",
      "W\n",
      "W\n",
      "D\n",
      "L\n",
      "W\n",
      "60\n",
      "8\n",
      "Man Utd\n",
      "38\n",
      "18\n",
      "6\n",
      "14\n",
      "57:58\n",
      "D\n",
      "L\n",
      "L\n",
      "W\n",
      "W\n",
      "60\n",
      "9\n",
      "West Ham\n",
      "38\n",
      "14\n",
      "10\n",
      "14\n",
      "60:74\n",
      "L\n",
      "D\n",
      "L\n",
      "W\n",
      "L\n",
      "52\n",
      "10\n",
      "Crystal Palace\n",
      "38\n",
      "13\n",
      "10\n",
      "15\n",
      "57:58\n",
      "W\n",
      "D\n",
      "W\n",
      "W\n",
      "W\n",
      "49\n",
      "11\n",
      "Brighton\n",
      "38\n",
      "12\n",
      "12\n",
      "14\n",
      "55:62\n",
      "L\n",
      "W\n",
      "D\n",
      "L\n",
      "L\n",
      "48\n",
      "12\n",
      "Bournemouth\n",
      "38\n",
      "13\n",
      "9\n",
      "16\n",
      "54:67\n",
      "W\n",
      "W\n",
      "L\n",
      "L\n",
      "L\n",
      "48\n",
      "13\n",
      "Fulham\n",
      "38\n",
      "13\n",
      "8\n",
      "17\n",
      "55:61\n",
      "L\n",
      "D\n",
      "D\n",
      "L\n",
      "W\n",
      "47\n",
      "14\n",
      "Wolves\n",
      "38\n",
      "13\n",
      "7\n",
      "18\n",
      "50:65\n",
      "L\n",
      "W\n",
      "L\n",
      "L\n",
      "L\n",
      "46\n",
      "15\n",
      "Everton\n",
      "38\n",
      "13\n",
      "9\n",
      "16\n",
      "40:51\n",
      "W\n",
      "W\n",
      "D\n",
      "W\n",
      "L\n",
      "40\n",
      "16\n",
      "Brentford\n",
      "38\n",
      "10\n",
      "9\n",
      "19\n",
      "56:65\n",
      "W\n",
      "L\n",
      "D\n",
      "W\n",
      "L\n",
      "39\n",
      "17\n",
      "Forest\n",
      "38\n",
      "9\n",
      "9\n",
      "20\n",
      "49:67\n",
      "L\n",
      "L\n",
      "W\n",
      "L\n",
      "W\n",
      "32\n",
      "18\n",
      "Luton\n",
      "38\n",
      "6\n",
      "8\n",
      "24\n",
      "52:85\n",
      "L\n",
      "L\n",
      "D\n",
      "L\n",
      "L\n",
      "26\n",
      "19\n",
      "Burnley\n",
      "38\n",
      "5\n",
      "9\n",
      "24\n",
      "41:78\n",
      "W\n",
      "D\n",
      "L\n",
      "L\n",
      "L\n",
      "24\n",
      "20\n",
      "Sheffield Utd\n",
      "38\n",
      "3\n",
      "7\n",
      "28\n",
      "35:104\n",
      "L\n",
      "L\n",
      "L\n",
      "L\n",
      "L\n",
      "16\n"
     ]
    }
   ],
   "source": [
    "league_table_results_container = []\n",
    "\n",
    "for results in league_table_results:\n",
    "    # Extract the text from the fixture container\n",
    "    results_text = results.text\n",
    "    league_table_results_container.append(results_text)\n",
    "    print(results_text)"
   ]
  },
  {
   "cell_type": "code",
   "execution_count": 7,
   "id": "242ae1af",
   "metadata": {},
   "outputs": [],
   "source": [
    "driver.quit()"
   ]
  },
  {
   "cell_type": "code",
   "execution_count": 8,
   "id": "6d7c8d28",
   "metadata": {
    "scrolled": true
   },
   "outputs": [
    {
     "data": {
      "text/plain": [
       "['ALLHOMEAWAY\\n#\\nTeam\\nP\\nW\\nD\\nL\\nGoals\\nLast 5\\nPTS\\n1\\nMan City\\n38\\n28\\n7\\n3\\n96:34\\nW\\nW\\nW\\nW\\nW\\n91\\n2\\nArsenal\\n38\\n28\\n5\\n5\\n91:29\\nW\\nW\\nW\\nW\\nW\\n89\\n3\\nLiverpool\\n38\\n24\\n10\\n4\\n86:41\\nL\\nD\\nW\\nD\\nW\\n82\\n4\\nAston Villa\\n38\\n20\\n8\\n10\\n76:61\\nW\\nD\\nL\\nD\\nL\\n68\\n5\\nTottenham\\n38\\n20\\n6\\n12\\n74:61\\nL\\nL\\nW\\nL\\nW\\n66\\n6\\nChelsea\\n38\\n18\\n9\\n11\\n77:63\\nW\\nW\\nW\\nW\\nW\\n63\\n7\\nNewcastle\\n38\\n18\\n6\\n14\\n85:62\\nW\\nW\\nD\\nL\\nW\\n60\\n8\\nMan Utd\\n38\\n18\\n6\\n14\\n57:58\\nD\\nL\\nL\\nW\\nW\\n60\\n9\\nWest Ham\\n38\\n14\\n10\\n14\\n60:74\\nL\\nD\\nL\\nW\\nL\\n52\\n10\\nCrystal Palace\\n38\\n13\\n10\\n15\\n57:58\\nW\\nD\\nW\\nW\\nW\\n49\\n11\\nBrighton\\n38\\n12\\n12\\n14\\n55:62\\nL\\nW\\nD\\nL\\nL\\n48\\n12\\nBournemouth\\n38\\n13\\n9\\n16\\n54:67\\nW\\nW\\nL\\nL\\nL\\n48\\n13\\nFulham\\n38\\n13\\n8\\n17\\n55:61\\nL\\nD\\nD\\nL\\nW\\n47\\n14\\nWolves\\n38\\n13\\n7\\n18\\n50:65\\nL\\nW\\nL\\nL\\nL\\n46\\n15\\nEverton\\n38\\n13\\n9\\n16\\n40:51\\nW\\nW\\nD\\nW\\nL\\n40\\n16\\nBrentford\\n38\\n10\\n9\\n19\\n56:65\\nW\\nL\\nD\\nW\\nL\\n39\\n17\\nForest\\n38\\n9\\n9\\n20\\n49:67\\nL\\nL\\nW\\nL\\nW\\n32\\n18\\nLuton\\n38\\n6\\n8\\n24\\n52:85\\nL\\nL\\nD\\nL\\nL\\n26\\n19\\nBurnley\\n38\\n5\\n9\\n24\\n41:78\\nW\\nD\\nL\\nL\\nL\\n24\\n20\\nSheffield Utd\\n38\\n3\\n7\\n28\\n35:104\\nL\\nL\\nL\\nL\\nL\\n16']"
      ]
     },
     "execution_count": 8,
     "metadata": {},
     "output_type": "execute_result"
    }
   ],
   "source": [
    "league_table_results_container"
   ]
  },
  {
   "cell_type": "code",
   "execution_count": 9,
   "id": "82f6451f",
   "metadata": {},
   "outputs": [],
   "source": [
    "data_copy = league_table_results_container"
   ]
  },
  {
   "cell_type": "code",
   "execution_count": 10,
   "id": "ff7a5c12",
   "metadata": {},
   "outputs": [],
   "source": [
    "df_columns = data_copy[0][11:43]"
   ]
  },
  {
   "cell_type": "code",
   "execution_count": 11,
   "id": "37b0f9f6",
   "metadata": {},
   "outputs": [],
   "source": [
    "data = data_copy[0][43:]"
   ]
  },
  {
   "cell_type": "code",
   "execution_count": 12,
   "id": "4f4f25ac",
   "metadata": {},
   "outputs": [
    {
     "data": {
      "text/plain": [
       "'\\n1\\nMan City\\n38\\n28\\n7\\n3\\n96:34\\nW\\nW\\nW\\nW\\nW\\n91\\n2\\nArsenal\\n38\\n28\\n5\\n5\\n91:29\\nW\\nW\\nW\\nW\\nW\\n89\\n3\\nLiverpool\\n38\\n24\\n10\\n4\\n86:41\\nL\\nD\\nW\\nD\\nW\\n82\\n4\\nAston Villa\\n38\\n20\\n8\\n10\\n76:61\\nW\\nD\\nL\\nD\\nL\\n68\\n5\\nTottenham\\n38\\n20\\n6\\n12\\n74:61\\nL\\nL\\nW\\nL\\nW\\n66\\n6\\nChelsea\\n38\\n18\\n9\\n11\\n77:63\\nW\\nW\\nW\\nW\\nW\\n63\\n7\\nNewcastle\\n38\\n18\\n6\\n14\\n85:62\\nW\\nW\\nD\\nL\\nW\\n60\\n8\\nMan Utd\\n38\\n18\\n6\\n14\\n57:58\\nD\\nL\\nL\\nW\\nW\\n60\\n9\\nWest Ham\\n38\\n14\\n10\\n14\\n60:74\\nL\\nD\\nL\\nW\\nL\\n52\\n10\\nCrystal Palace\\n38\\n13\\n10\\n15\\n57:58\\nW\\nD\\nW\\nW\\nW\\n49\\n11\\nBrighton\\n38\\n12\\n12\\n14\\n55:62\\nL\\nW\\nD\\nL\\nL\\n48\\n12\\nBournemouth\\n38\\n13\\n9\\n16\\n54:67\\nW\\nW\\nL\\nL\\nL\\n48\\n13\\nFulham\\n38\\n13\\n8\\n17\\n55:61\\nL\\nD\\nD\\nL\\nW\\n47\\n14\\nWolves\\n38\\n13\\n7\\n18\\n50:65\\nL\\nW\\nL\\nL\\nL\\n46\\n15\\nEverton\\n38\\n13\\n9\\n16\\n40:51\\nW\\nW\\nD\\nW\\nL\\n40\\n16\\nBrentford\\n38\\n10\\n9\\n19\\n56:65\\nW\\nL\\nD\\nW\\nL\\n39\\n17\\nForest\\n38\\n9\\n9\\n20\\n49:67\\nL\\nL\\nW\\nL\\nW\\n32\\n18\\nLuton\\n38\\n6\\n8\\n24\\n52:85\\nL\\nL\\nD\\nL\\nL\\n26\\n19\\nBurnley\\n38\\n5\\n9\\n24\\n41:78\\nW\\nD\\nL\\nL\\nL\\n24\\n20\\nSheffield Utd\\n38\\n3\\n7\\n28\\n35:104\\nL\\nL\\nL\\nL\\nL\\n16'"
      ]
     },
     "execution_count": 12,
     "metadata": {},
     "output_type": "execute_result"
    }
   ],
   "source": [
    "data"
   ]
  },
  {
   "cell_type": "code",
   "execution_count": 13,
   "id": "e8c713da",
   "metadata": {},
   "outputs": [],
   "source": [
    "data_copy_split = [data.split('\\n')]"
   ]
  },
  {
   "cell_type": "code",
   "execution_count": 14,
   "id": "fd8b8ace",
   "metadata": {},
   "outputs": [
    {
     "name": "stdout",
     "output_type": "stream",
     "text": [
      "['1', 'Man City', '38', '28', '7', '3', '96:34', 'W', 'W', 'W', 'W', 'W', '91', '2', 'Arsenal', '38', '28', '5', '5', '91:29', 'W', 'W', 'W', 'W', 'W', '89', '3', 'Liverpool', '38', '24', '10', '4', '86:41', 'L', 'D', 'W', 'D', 'W', '82', '4', 'Aston Villa', '38', '20', '8', '10', '76:61', 'W', 'D', 'L', 'D', 'L', '68', '5', 'Tottenham', '38', '20', '6', '12', '74:61', 'L', 'L', 'W', 'L', 'W', '66', '6', 'Chelsea', '38', '18', '9', '11', '77:63', 'W', 'W', 'W', 'W', 'W', '63', '7', 'Newcastle', '38', '18', '6', '14', '85:62', 'W', 'W', 'D', 'L', 'W', '60', '8', 'Man Utd', '38', '18', '6', '14', '57:58', 'D', 'L', 'L', 'W', 'W', '60', '9', 'West Ham', '38', '14', '10', '14', '60:74', 'L', 'D', 'L', 'W', 'L', '52', '10', 'Crystal Palace', '38', '13', '10', '15', '57:58', 'W', 'D', 'W', 'W', 'W', '49', '11', 'Brighton', '38', '12', '12', '14', '55:62', 'L', 'W', 'D', 'L', 'L', '48', '12', 'Bournemouth', '38', '13', '9', '16', '54:67', 'W', 'W', 'L', 'L', 'L', '48', '13', 'Fulham', '38', '13', '8', '17', '55:61', 'L', 'D', 'D', 'L', 'W', '47', '14', 'Wolves', '38', '13', '7', '18', '50:65', 'L', 'W', 'L', 'L', 'L', '46', '15', 'Everton', '38', '13', '9', '16', '40:51', 'W', 'W', 'D', 'W', 'L', '40', '16', 'Brentford', '38', '10', '9', '19', '56:65', 'W', 'L', 'D', 'W', 'L', '39', '17', 'Forest', '38', '9', '9', '20', '49:67', 'L', 'L', 'W', 'L', 'W', '32', '18', 'Luton', '38', '6', '8', '24', '52:85', 'L', 'L', 'D', 'L', 'L', '26', '19', 'Burnley', '38', '5', '9', '24', '41:78', 'W', 'D', 'L', 'L', 'L', '24', '20', 'Sheffield Utd', '38', '3', '7', '28', '35:104', 'L', 'L', 'L', 'L', 'L', '16']\n"
     ]
    }
   ],
   "source": [
    "data_copy_split = data_copy_split[0][1:]\n",
    "print(data_copy_split)"
   ]
  },
  {
   "cell_type": "code",
   "execution_count": 15,
   "id": "54f6616f",
   "metadata": {
    "scrolled": true
   },
   "outputs": [
    {
     "name": "stdout",
     "output_type": "stream",
     "text": [
      "[['1', 'Man City', '38', '28', '7', '3', '96:34', 'W', 'W', 'W', 'W', 'W', '91'], ['2', 'Arsenal', '38', '28', '5', '5', '91:29', 'W', 'W', 'W', 'W', 'W', '89'], ['3', 'Liverpool', '38', '24', '10', '4', '86:41', 'L', 'D', 'W', 'D', 'W', '82'], ['4', 'Aston Villa', '38', '20', '8', '10', '76:61', 'W', 'D', 'L', 'D', 'L', '68'], ['5', 'Tottenham', '38', '20', '6', '12', '74:61', 'L', 'L', 'W', 'L', 'W', '66'], ['6', 'Chelsea', '38', '18', '9', '11', '77:63', 'W', 'W', 'W', 'W', 'W', '63'], ['7', 'Newcastle', '38', '18', '6', '14', '85:62', 'W', 'W', 'D', 'L', 'W', '60'], ['8', 'Man Utd', '38', '18', '6', '14', '57:58', 'D', 'L', 'L', 'W', 'W', '60'], ['9', 'West Ham', '38', '14', '10', '14', '60:74', 'L', 'D', 'L', 'W', 'L', '52'], ['10', 'Crystal Palace', '38', '13', '10', '15', '57:58', 'W', 'D', 'W', 'W', 'W', '49'], ['11', 'Brighton', '38', '12', '12', '14', '55:62', 'L', 'W', 'D', 'L', 'L', '48'], ['12', 'Bournemouth', '38', '13', '9', '16', '54:67', 'W', 'W', 'L', 'L', 'L', '48'], ['13', 'Fulham', '38', '13', '8', '17', '55:61', 'L', 'D', 'D', 'L', 'W', '47'], ['14', 'Wolves', '38', '13', '7', '18', '50:65', 'L', 'W', 'L', 'L', 'L', '46'], ['15', 'Everton', '38', '13', '9', '16', '40:51', 'W', 'W', 'D', 'W', 'L', '40'], ['16', 'Brentford', '38', '10', '9', '19', '56:65', 'W', 'L', 'D', 'W', 'L', '39'], ['17', 'Forest', '38', '9', '9', '20', '49:67', 'L', 'L', 'W', 'L', 'W', '32'], ['18', 'Luton', '38', '6', '8', '24', '52:85', 'L', 'L', 'D', 'L', 'L', '26'], ['19', 'Burnley', '38', '5', '9', '24', '41:78', 'W', 'D', 'L', 'L', 'L', '24'], ['20', 'Sheffield Utd', '38', '3', '7', '28', '35:104', 'L', 'L', 'L', 'L', 'L', '16']]\n"
     ]
    }
   ],
   "source": [
    "data_array = [data_copy_split[i:i+13] for i in range(0, len(data_copy_split), 13)]\n",
    "print(data_array)"
   ]
  },
  {
   "cell_type": "code",
   "execution_count": 16,
   "id": "6681ac48",
   "metadata": {},
   "outputs": [
    {
     "name": "stdout",
     "output_type": "stream",
     "text": [
      "['1', 'Arsenal', '36', '26', '5', '5', '88', '28', 'L', 'W', 'W', 'W', 'W', '83']\n"
     ]
    }
   ],
   "source": [
    "testing = ['1', 'Arsenal', '36', '26', '5', '5', '88:28', 'L', 'W', 'W', 'W', 'W', '83']\n",
    "\n",
    "# Splitting the element at index 6 and extending the list with the resulting parts\n",
    "testing[6:7] = testing[6].split(':')\n",
    "\n",
    "print(testing)"
   ]
  },
  {
   "cell_type": "code",
   "execution_count": 17,
   "id": "fa84fd79",
   "metadata": {},
   "outputs": [],
   "source": [
    "split_data = []\n",
    "\n",
    "for data in data_array:\n",
    "    data[6:7] = data[6].split(':')\n",
    "    split_data.append(data)    "
   ]
  },
  {
   "cell_type": "code",
   "execution_count": 18,
   "id": "d9735e63",
   "metadata": {},
   "outputs": [
    {
     "name": "stdout",
     "output_type": "stream",
     "text": [
      "[['1', 'Man City', '38', '28', '7', '3', '96', '34', 'W', 'W', 'W', 'W', 'W', '91'], ['2', 'Arsenal', '38', '28', '5', '5', '91', '29', 'W', 'W', 'W', 'W', 'W', '89'], ['3', 'Liverpool', '38', '24', '10', '4', '86', '41', 'L', 'D', 'W', 'D', 'W', '82'], ['4', 'Aston Villa', '38', '20', '8', '10', '76', '61', 'W', 'D', 'L', 'D', 'L', '68'], ['5', 'Tottenham', '38', '20', '6', '12', '74', '61', 'L', 'L', 'W', 'L', 'W', '66'], ['6', 'Chelsea', '38', '18', '9', '11', '77', '63', 'W', 'W', 'W', 'W', 'W', '63'], ['7', 'Newcastle', '38', '18', '6', '14', '85', '62', 'W', 'W', 'D', 'L', 'W', '60'], ['8', 'Man Utd', '38', '18', '6', '14', '57', '58', 'D', 'L', 'L', 'W', 'W', '60'], ['9', 'West Ham', '38', '14', '10', '14', '60', '74', 'L', 'D', 'L', 'W', 'L', '52'], ['10', 'Crystal Palace', '38', '13', '10', '15', '57', '58', 'W', 'D', 'W', 'W', 'W', '49'], ['11', 'Brighton', '38', '12', '12', '14', '55', '62', 'L', 'W', 'D', 'L', 'L', '48'], ['12', 'Bournemouth', '38', '13', '9', '16', '54', '67', 'W', 'W', 'L', 'L', 'L', '48'], ['13', 'Fulham', '38', '13', '8', '17', '55', '61', 'L', 'D', 'D', 'L', 'W', '47'], ['14', 'Wolves', '38', '13', '7', '18', '50', '65', 'L', 'W', 'L', 'L', 'L', '46'], ['15', 'Everton', '38', '13', '9', '16', '40', '51', 'W', 'W', 'D', 'W', 'L', '40'], ['16', 'Brentford', '38', '10', '9', '19', '56', '65', 'W', 'L', 'D', 'W', 'L', '39'], ['17', 'Forest', '38', '9', '9', '20', '49', '67', 'L', 'L', 'W', 'L', 'W', '32'], ['18', 'Luton', '38', '6', '8', '24', '52', '85', 'L', 'L', 'D', 'L', 'L', '26'], ['19', 'Burnley', '38', '5', '9', '24', '41', '78', 'W', 'D', 'L', 'L', 'L', '24'], ['20', 'Sheffield Utd', '38', '3', '7', '28', '35', '104', 'L', 'L', 'L', 'L', 'L', '16']]\n"
     ]
    }
   ],
   "source": [
    "print(split_data)  "
   ]
  },
  {
   "cell_type": "code",
   "execution_count": 19,
   "id": "2d389018",
   "metadata": {},
   "outputs": [],
   "source": [
    "# These team_labels match all the data from the other notebooks\n",
    "team_labels = {\n",
    "        'Arsenal': 1,\n",
    "        'Aston Villa': 2,\n",
    "        'Bournemouth': 3,\n",
    "        'Brighton': 4,\n",
    "        'Burnley': 5,\n",
    "        'Chelsea': 6,\n",
    "        'Crystal Palace': 7,\n",
    "        'Everton': 8,\n",
    "        'Fulham': 9,\n",
    "        'Leeds Utd': 10,\n",
    "        'Leicester City': 11,\n",
    "        'Liverpool': 12,\n",
    "        'Man City': 13,\n",
    "        'Man Utd': 14,\n",
    "        'Newcastle': 15,\n",
    "        'Norwich': 16,\n",
    "        'Sheffield': 17,\n",
    "        'Southampton': 18,\n",
    "        'Tottenham': 19,\n",
    "        'West Ham': 20,\n",
    "        'Luton': 21,\n",
    "        'Wolves': 22,\n",
    "        'Brentford': 23,\n",
    "        'Sheffield Utd': 24,\n",
    "        'Forest': 25\n",
    "    }"
   ]
  },
  {
   "cell_type": "markdown",
   "id": "e5bc6927",
   "metadata": {},
   "source": [
    "#### Code Playground: creating ppg, last_5_matches, and removing redundant indexes"
   ]
  },
  {
   "cell_type": "code",
   "execution_count": 20,
   "id": "8a6f419c",
   "metadata": {},
   "outputs": [
    {
     "name": "stdout",
     "output_type": "stream",
     "text": [
      "[['1', 'Arsenal', '37', '27', '5', '5', '89', '28', 'WWWWW', 3.0, '86'], ['2', 'Man City', '36', '26', '7', '3', '91', '33', 'WWWWW', 3.0, '85'], ['3', 'Liverpool', '36', '23', '9', '4', '81', '38', 'LWLDW', 1.4, '78']]\n"
     ]
    }
   ],
   "source": [
    "epl_table = [['1','Arsenal','37','27','5','5','89','28','W','W','W', 'W','W','86'],\n",
    " ['2','Man City', '36','26','7','3','91','33','W','W','W','W','W','85'],\n",
    " ['3','Liverpool','36','23','9','4','81','38','L','W','L','D','W','78']]\n",
    "\n",
    "for row in epl_table:\n",
    "    ppg = 0\n",
    "    for result in row[7:13]:\n",
    "        if result == 'W':\n",
    "            ppg += 3\n",
    "        elif result == 'D':\n",
    "            ppg += 1\n",
    "    last_5_matches = ''.join(row[8:13])  # Concatenate match results from index 7 to 11\n",
    "    row[8:13] = [last_5_matches, ppg / 5]  # Replace old match results with last 5 matches string and PPG\n",
    "\n",
    "print(epl_table)\n",
    "\n"
   ]
  },
  {
   "cell_type": "code",
   "execution_count": 21,
   "id": "72706e15",
   "metadata": {},
   "outputs": [],
   "source": [
    "def calculate_ppg_and_create_last_5_matches(two_d_array):\n",
    "    for row in two_d_array:\n",
    "        ppg = 0\n",
    "        for result in row[7:13]:\n",
    "            if result == 'W':\n",
    "                ppg += 3\n",
    "            elif result == 'D':\n",
    "                ppg += 1\n",
    "        last_5_matches = ''.join(row[8:13])  # Concatenate match results from index 7 to 11\n",
    "        row[8:13] = [last_5_matches, ppg / 5]  # Replace old match results with last 5 matches string and PPG\n",
    "    \n",
    "    return two_d_array\n"
   ]
  },
  {
   "cell_type": "code",
   "execution_count": 22,
   "id": "93659992",
   "metadata": {},
   "outputs": [],
   "source": [
    "premier_league_columns  = ['Pos', 'Team', 'Pld', 'Wins', 'Draws', 'losses', 'GF', 'GA', 'Last 5 Matches', 'Ppg_Last_5_Matches', 'Points']"
   ]
  },
  {
   "cell_type": "code",
   "execution_count": 23,
   "id": "57364258",
   "metadata": {},
   "outputs": [],
   "source": [
    "df_data = calculate_ppg_and_create_last_5_matches(split_data)"
   ]
  },
  {
   "cell_type": "code",
   "execution_count": 24,
   "id": "88f0d4e3",
   "metadata": {},
   "outputs": [
    {
     "name": "stdout",
     "output_type": "stream",
     "text": [
      "   Pos            Team Pld Wins Draws losses  GF   GA Last 5 Matches  \\\n",
      "0    1        Man City  38   28     7      3  96   34          WWWWW   \n",
      "1    2         Arsenal  38   28     5      5  91   29          WWWWW   \n",
      "2    3       Liverpool  38   24    10      4  86   41          LDWDW   \n",
      "3    4     Aston Villa  38   20     8     10  76   61          WDLDL   \n",
      "4    5       Tottenham  38   20     6     12  74   61          LLWLW   \n",
      "5    6         Chelsea  38   18     9     11  77   63          WWWWW   \n",
      "6    7       Newcastle  38   18     6     14  85   62          WWDLW   \n",
      "7    8         Man Utd  38   18     6     14  57   58          DLLWW   \n",
      "8    9        West Ham  38   14    10     14  60   74          LDLWL   \n",
      "9   10  Crystal Palace  38   13    10     15  57   58          WDWWW   \n",
      "10  11        Brighton  38   12    12     14  55   62          LWDLL   \n",
      "11  12     Bournemouth  38   13     9     16  54   67          WWLLL   \n",
      "12  13          Fulham  38   13     8     17  55   61          LDDLW   \n",
      "13  14          Wolves  38   13     7     18  50   65          LWLLL   \n",
      "14  15         Everton  38   13     9     16  40   51          WWDWL   \n",
      "15  16       Brentford  38   10     9     19  56   65          WLDWL   \n",
      "16  17          Forest  38    9     9     20  49   67          LLWLW   \n",
      "17  18           Luton  38    6     8     24  52   85          LLDLL   \n",
      "18  19         Burnley  38    5     9     24  41   78          WDLLL   \n",
      "19  20   Sheffield Utd  38    3     7     28  35  104          LLLLL   \n",
      "\n",
      "    Ppg_Last_5_Matches Points  \n",
      "0                  3.0     91  \n",
      "1                  3.0     89  \n",
      "2                  1.6     82  \n",
      "3                  1.0     68  \n",
      "4                  1.2     66  \n",
      "5                  3.0     63  \n",
      "6                  2.0     60  \n",
      "7                  1.4     60  \n",
      "8                  0.8     52  \n",
      "9                  2.6     49  \n",
      "10                 0.8     48  \n",
      "11                 1.2     48  \n",
      "12                 1.0     47  \n",
      "13                 0.6     46  \n",
      "14                 2.0     40  \n",
      "15                 1.4     39  \n",
      "16                 1.2     32  \n",
      "17                 0.2     26  \n",
      "18                 0.8     24  \n",
      "19                 0.0     16  \n"
     ]
    }
   ],
   "source": [
    "# Create DataFrame\n",
    "premier_league_table = pd.DataFrame(df_data, columns=premier_league_columns)\n",
    "print(premier_league_table)"
   ]
  },
  {
   "cell_type": "code",
   "execution_count": 25,
   "id": "4fe42fbc",
   "metadata": {},
   "outputs": [],
   "source": [
    "def team_to_label(team_name):\n",
    "    return team_labels.get(team_name)"
   ]
  },
  {
   "cell_type": "code",
   "execution_count": 26,
   "id": "2fd908c9",
   "metadata": {},
   "outputs": [],
   "source": [
    "premier_league_table['Team'] = premier_league_table['Team'].map(team_to_label)"
   ]
  },
  {
   "cell_type": "code",
   "execution_count": 27,
   "id": "c0e9f6a9",
   "metadata": {},
   "outputs": [],
   "source": [
    "premier_league_table = premier_league_table.drop(columns=['Last 5 Matches'])"
   ]
  },
  {
   "cell_type": "markdown",
   "id": "1edef4f1",
   "metadata": {},
   "source": [
    "#### Confirm its the right Weekly Round in order to join with the right dataset. Note Current League standings goes with upcoming_matches"
   ]
  },
  {
   "cell_type": "code",
   "execution_count": 28,
   "id": "e80d45b0",
   "metadata": {},
   "outputs": [],
   "source": [
    "Round  = 'Round ' + ' ' +  premier_league_table['Pld'].mode()[0]"
   ]
  },
  {
   "cell_type": "code",
   "execution_count": 29,
   "id": "f1a5f166",
   "metadata": {},
   "outputs": [
    {
     "data": {
      "text/plain": [
       "'Round  38'"
      ]
     },
     "execution_count": 29,
     "metadata": {},
     "output_type": "execute_result"
    }
   ],
   "source": [
    "Round"
   ]
  },
  {
   "cell_type": "code",
   "execution_count": null,
   "id": "c31f173f",
   "metadata": {},
   "outputs": [],
   "source": [
    "# Database connection\n",
    "user = '<user>'\n",
    "password = '<password>'\n",
    "host = 'localhost'\n",
    "port = 3306\n",
    "database = '<db>'"
   ]
  },
  {
   "cell_type": "code",
   "execution_count": 28,
   "id": "45c02300",
   "metadata": {},
   "outputs": [
    {
     "data": {
      "text/plain": [
       "20"
      ]
     },
     "execution_count": 28,
     "metadata": {},
     "output_type": "execute_result"
    }
   ],
   "source": [
    "engine = create_engine(f'mysql+pymysql://{user}:{password}@{host}:{port}/{database}')\n",
    "premier_league_table.to_sql('current_week_league_standings', con=engine, if_exists='replace', index=False)"
   ]
  }
 ],
 "metadata": {
  "kernelspec": {
   "display_name": "Python 3 (ipykernel)",
   "language": "python",
   "name": "python3"
  },
  "language_info": {
   "codemirror_mode": {
    "name": "ipython",
    "version": 3
   },
   "file_extension": ".py",
   "mimetype": "text/x-python",
   "name": "python",
   "nbconvert_exporter": "python",
   "pygments_lexer": "ipython3",
   "version": "3.12.4"
  }
 },
 "nbformat": 4,
 "nbformat_minor": 5
}
