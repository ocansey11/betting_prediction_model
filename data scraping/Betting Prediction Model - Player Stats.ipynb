{
 "cells": [
  {
   "cell_type": "code",
   "execution_count": 1,
   "id": "08584715",
   "metadata": {},
   "outputs": [],
   "source": [
    "from selenium import webdriver\n",
    "import pandas as pd\n",
    "from sqlalchemy import create_engine"
   ]
  },
  {
   "cell_type": "code",
   "execution_count": 31,
   "id": "58f0b2a5",
   "metadata": {},
   "outputs": [
    {
     "name": "stderr",
     "output_type": "stream",
     "text": [
      "C:\\Users\\kevin\\AppData\\Local\\Temp\\ipykernel_2184\\256995595.py:4: DeprecationWarning: executable_path has been deprecated, please pass in a Service object\n",
      "  driver = webdriver.Chrome(PATH)\n"
     ]
    }
   ],
   "source": [
    "# Path to the ChromeDriver executable\n",
    "PATH = 'C:/Users/kevin/Desktop/tools/chromedriver-win64/chromedriver'\n",
    "# Initialize the ChromeDriver\n",
    "driver = webdriver.Chrome(PATH) \n",
    "\n",
    "# URL of the website (assumed to be the same for all pages)\n",
    "url = 'https://www.sofascore.com/tournament/football/england/premier-league/17#id:52186'\n",
    "\n",
    "# Open the website\n",
    "driver.get(url)"
   ]
  },
  {
   "cell_type": "code",
   "execution_count": 40,
   "id": "55752436",
   "metadata": {},
   "outputs": [
    {
     "name": "stdout",
     "output_type": "stream",
     "text": [
      "[]\n"
     ]
    }
   ],
   "source": [
    "# Find the table container\n",
    "stats_containers = driver.find_elements(\"class name\", \"sc-fTFjTM igpdAN\")\n",
    "print(stats_containers)"
   ]
  }
 ],
 "metadata": {
  "kernelspec": {
   "display_name": "Python 3 (ipykernel)",
   "language": "python",
   "name": "python3"
  },
  "language_info": {
   "codemirror_mode": {
    "name": "ipython",
    "version": 3
   },
   "file_extension": ".py",
   "mimetype": "text/x-python",
   "name": "python",
   "nbconvert_exporter": "python",
   "pygments_lexer": "ipython3",
   "version": "3.11.5"
  }
 },
 "nbformat": 4,
 "nbformat_minor": 5
}
