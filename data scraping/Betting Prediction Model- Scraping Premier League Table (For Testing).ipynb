{
 "cells": [
  {
   "cell_type": "markdown",
   "id": "1ed262f6",
   "metadata": {},
   "source": [
    "# Betting Prediction Model - Scraping Premier League Table (Testing Data)\n",
    "\n",
    "## Overview\n",
    "\n",
    "This notebook aims to scrape data from the Premier League table from sofascore to gather testing data for our betting prediction model. The extracted data will be utilized to test our model for accurate predictions. The primary objectives of this notebook include:\n",
    "\n",
    "1. **Data Extraction**: Retrieve relevant information from the Premier League table, including team standings, recent match results, and performance statistics.\n",
    "2. **Data Processing**: Cleanse and format the scraped data to ensure consistency and accuracy for model training.\n",
    "3. **Database Integration**: Store the processed data in the previous_league_standings table which we would later merge with completed_matches table and append to our `training_data` table within our database for future model training sessions.\n",
    "\n",
    "## Steps Involved\n",
    "\n",
    "1. **Environment Setup and Imports**: Import necessary libraries and configure settings.\n",
    "2. **Web Scraping**: Utilize web scraping techniques to extract data from the Premier League table.\n",
    "3. **Data Cleansing and Transformation**: Process the extracted data to ensure uniformity and reliability.\n",
    "4. **Database Interaction**: Insert the processed data into the `training_data` table to build a comprehensive dataset.\n",
    "\n",
    "\n",
    "## Requirements\n",
    "\n",
    "- Python 3.x\n",
    "- Libraries: `selenium web driver`, `pandas`, `sqlalchemy`\n",
    "- Access to the database containing the `testing_data` table\n",
    "\n",
    "## Notes\n",
    "\n",
    "- Prior to execution, ensure that database credentials are correctly configured.\n",
    "- This notebook should be executed periodically to keep the upcoming_matches up-to-date with the current Premier League data. to ensure this, run this notebook before you run `Betting Prediction Model - Scraping Forebet Upcoming Matches`\n",
    "\n",
    "Let's commence by setting up our environment and importing essential libraries.\n"
   ]
  },
  {
   "cell_type": "code",
   "execution_count": 1,
   "id": "97be6bc2",
   "metadata": {},
   "outputs": [],
   "source": [
    "from selenium import webdriver\n",
    "import pandas as pd\n",
    "from sqlalchemy import create_engine\n",
    "\n"
   ]
  },
  {
   "cell_type": "code",
   "execution_count": 2,
   "id": "4def7e15",
   "metadata": {},
   "outputs": [
    {
     "name": "stderr",
     "output_type": "stream",
     "text": [
      "C:\\Users\\kevin\\AppData\\Local\\Temp\\ipykernel_22200\\4087939154.py:2: DeprecationWarning: executable_path has been deprecated, please pass in a Service object\n",
      "  driver = webdriver.Chrome(PATH)\n"
     ]
    }
   ],
   "source": [
    "PATH = 'C:/Users/kevin/Desktop/tools/chromedriver-win64/chromedriver'\n",
    "driver = webdriver.Chrome(PATH) \n",
    "driver.get('https://www.sofascore.com/tournament/football/england/premier-league/17#id:52186');"
   ]
  },
  {
   "cell_type": "code",
   "execution_count": 3,
   "id": "5269ea6e",
   "metadata": {},
   "outputs": [
    {
     "name": "stdout",
     "output_type": "stream",
     "text": [
      "[<selenium.webdriver.remote.webelement.WebElement (session=\"a4aa153049cfd7bdf356eeb1eea911cf\", element=\"f.B9FD9D4813958A87474B9417C938633A.d.DC83393AFC48E8C2DCCFFCAB7AC916C3.e.91\")>]\n"
     ]
    }
   ],
   "source": [
    "# Now find the fixture containers within the body element\n",
    "league_table_results = driver.find_elements(\"class name\", \"eHXJll\")\n",
    "print(league_table_results)"
   ]
  },
  {
   "cell_type": "code",
   "execution_count": 4,
   "id": "88c06f6a",
   "metadata": {},
   "outputs": [
    {
     "name": "stdout",
     "output_type": "stream",
     "text": [
      "ALLHOMEAWAY\n",
      "#\n",
      "Team\n",
      "P\n",
      "W\n",
      "D\n",
      "L\n",
      "Goals\n",
      "Last 5\n",
      "PTS\n",
      "1\n",
      "Man City\n",
      "37\n",
      "27\n",
      "7\n",
      "3\n",
      "93:33\n",
      "W\n",
      "W\n",
      "W\n",
      "W\n",
      "W\n",
      "88\n",
      "2\n",
      "Arsenal\n",
      "37\n",
      "27\n",
      "5\n",
      "5\n",
      "89:28\n",
      "W\n",
      "W\n",
      "W\n",
      "W\n",
      "W\n",
      "86\n",
      "3\n",
      "Liverpool\n",
      "37\n",
      "23\n",
      "10\n",
      "4\n",
      "84:41\n",
      "W\n",
      "L\n",
      "D\n",
      "W\n",
      "D\n",
      "79\n",
      "4\n",
      "Aston Villa\n",
      "37\n",
      "20\n",
      "8\n",
      "9\n",
      "76:56\n",
      "W\n",
      "W\n",
      "D\n",
      "L\n",
      "D\n",
      "68\n",
      "5\n",
      "Tottenham\n",
      "37\n",
      "19\n",
      "6\n",
      "12\n",
      "71:61\n",
      "L\n",
      "L\n",
      "L\n",
      "W\n",
      "L\n",
      "63\n",
      "6\n",
      "Chelsea\n",
      "37\n",
      "17\n",
      "9\n",
      "11\n",
      "75:62\n",
      "D\n",
      "W\n",
      "W\n",
      "W\n",
      "W\n",
      "60\n",
      "7\n",
      "Newcastle\n",
      "37\n",
      "17\n",
      "6\n",
      "14\n",
      "81:60\n",
      "L\n",
      "W\n",
      "W\n",
      "D\n",
      "L\n",
      "57\n",
      "8\n",
      "Man Utd\n",
      "37\n",
      "17\n",
      "6\n",
      "14\n",
      "55:58\n",
      "W\n",
      "D\n",
      "L\n",
      "L\n",
      "W\n",
      "57\n",
      "9\n",
      "West Ham\n",
      "37\n",
      "14\n",
      "10\n",
      "13\n",
      "59:71\n",
      "L\n",
      "L\n",
      "D\n",
      "L\n",
      "W\n",
      "52\n",
      "10\n",
      "Brighton\n",
      "37\n",
      "12\n",
      "12\n",
      "13\n",
      "55:60\n",
      "L\n",
      "L\n",
      "W\n",
      "D\n",
      "L\n",
      "48\n",
      "11\n",
      "Bournemouth\n",
      "37\n",
      "13\n",
      "9\n",
      "15\n",
      "53:65\n",
      "L\n",
      "W\n",
      "W\n",
      "L\n",
      "L\n",
      "48\n",
      "12\n",
      "Crystal Palace\n",
      "37\n",
      "12\n",
      "10\n",
      "15\n",
      "52:58\n",
      "W\n",
      "W\n",
      "D\n",
      "W\n",
      "W\n",
      "46\n",
      "13\n",
      "Wolves\n",
      "37\n",
      "13\n",
      "7\n",
      "17\n",
      "50:63\n",
      "L\n",
      "L\n",
      "W\n",
      "L\n",
      "L\n",
      "46\n",
      "14\n",
      "Fulham\n",
      "37\n",
      "12\n",
      "8\n",
      "17\n",
      "51:59\n",
      "W\n",
      "L\n",
      "D\n",
      "D\n",
      "L\n",
      "44\n",
      "15\n",
      "Everton\n",
      "37\n",
      "13\n",
      "9\n",
      "15\n",
      "39:49\n",
      "W\n",
      "W\n",
      "W\n",
      "D\n",
      "W\n",
      "40\n",
      "16\n",
      "Brentford\n",
      "37\n",
      "10\n",
      "9\n",
      "18\n",
      "54:61\n",
      "W\n",
      "W\n",
      "L\n",
      "D\n",
      "W\n",
      "39\n",
      "17\n",
      "Forest\n",
      "37\n",
      "8\n",
      "9\n",
      "20\n",
      "47:66\n",
      "D\n",
      "L\n",
      "L\n",
      "W\n",
      "L\n",
      "29\n",
      "18\n",
      "Luton\n",
      "37\n",
      "6\n",
      "8\n",
      "23\n",
      "50:81\n",
      "L\n",
      "L\n",
      "L\n",
      "D\n",
      "L\n",
      "26\n",
      "19\n",
      "Burnley\n",
      "37\n",
      "5\n",
      "9\n",
      "23\n",
      "40:76\n",
      "D\n",
      "W\n",
      "D\n",
      "L\n",
      "L\n",
      "24\n",
      "20\n",
      "Sheffield Utd\n",
      "37\n",
      "3\n",
      "7\n",
      "27\n",
      "35:101\n",
      "L\n",
      "L\n",
      "L\n",
      "L\n",
      "L\n",
      "16\n"
     ]
    }
   ],
   "source": [
    "league_table_results_container = []\n",
    "\n",
    "for results in league_table_results:\n",
    "    # Extract the text from the fixture container\n",
    "    results_text = results.text\n",
    "    league_table_results_container.append(results_text)\n",
    "    print(results_text)"
   ]
  },
  {
   "cell_type": "code",
   "execution_count": 5,
   "id": "242ae1af",
   "metadata": {},
   "outputs": [],
   "source": [
    "driver.quit()"
   ]
  },
  {
   "cell_type": "code",
   "execution_count": 6,
   "id": "6d7c8d28",
   "metadata": {
    "scrolled": true
   },
   "outputs": [
    {
     "data": {
      "text/plain": [
       "['ALLHOMEAWAY\\n#\\nTeam\\nP\\nW\\nD\\nL\\nGoals\\nLast 5\\nPTS\\n1\\nMan City\\n37\\n27\\n7\\n3\\n93:33\\nW\\nW\\nW\\nW\\nW\\n88\\n2\\nArsenal\\n37\\n27\\n5\\n5\\n89:28\\nW\\nW\\nW\\nW\\nW\\n86\\n3\\nLiverpool\\n37\\n23\\n10\\n4\\n84:41\\nW\\nL\\nD\\nW\\nD\\n79\\n4\\nAston Villa\\n37\\n20\\n8\\n9\\n76:56\\nW\\nW\\nD\\nL\\nD\\n68\\n5\\nTottenham\\n37\\n19\\n6\\n12\\n71:61\\nL\\nL\\nL\\nW\\nL\\n63\\n6\\nChelsea\\n37\\n17\\n9\\n11\\n75:62\\nD\\nW\\nW\\nW\\nW\\n60\\n7\\nNewcastle\\n37\\n17\\n6\\n14\\n81:60\\nL\\nW\\nW\\nD\\nL\\n57\\n8\\nMan Utd\\n37\\n17\\n6\\n14\\n55:58\\nW\\nD\\nL\\nL\\nW\\n57\\n9\\nWest Ham\\n37\\n14\\n10\\n13\\n59:71\\nL\\nL\\nD\\nL\\nW\\n52\\n10\\nBrighton\\n37\\n12\\n12\\n13\\n55:60\\nL\\nL\\nW\\nD\\nL\\n48\\n11\\nBournemouth\\n37\\n13\\n9\\n15\\n53:65\\nL\\nW\\nW\\nL\\nL\\n48\\n12\\nCrystal Palace\\n37\\n12\\n10\\n15\\n52:58\\nW\\nW\\nD\\nW\\nW\\n46\\n13\\nWolves\\n37\\n13\\n7\\n17\\n50:63\\nL\\nL\\nW\\nL\\nL\\n46\\n14\\nFulham\\n37\\n12\\n8\\n17\\n51:59\\nW\\nL\\nD\\nD\\nL\\n44\\n15\\nEverton\\n37\\n13\\n9\\n15\\n39:49\\nW\\nW\\nW\\nD\\nW\\n40\\n16\\nBrentford\\n37\\n10\\n9\\n18\\n54:61\\nW\\nW\\nL\\nD\\nW\\n39\\n17\\nForest\\n37\\n8\\n9\\n20\\n47:66\\nD\\nL\\nL\\nW\\nL\\n29\\n18\\nLuton\\n37\\n6\\n8\\n23\\n50:81\\nL\\nL\\nL\\nD\\nL\\n26\\n19\\nBurnley\\n37\\n5\\n9\\n23\\n40:76\\nD\\nW\\nD\\nL\\nL\\n24\\n20\\nSheffield Utd\\n37\\n3\\n7\\n27\\n35:101\\nL\\nL\\nL\\nL\\nL\\n16']"
      ]
     },
     "execution_count": 6,
     "metadata": {},
     "output_type": "execute_result"
    }
   ],
   "source": [
    "league_table_results_container"
   ]
  },
  {
   "cell_type": "code",
   "execution_count": 7,
   "id": "82f6451f",
   "metadata": {},
   "outputs": [],
   "source": [
    "data_copy = league_table_results_container"
   ]
  },
  {
   "cell_type": "code",
   "execution_count": 8,
   "id": "ff7a5c12",
   "metadata": {},
   "outputs": [],
   "source": [
    "df_columns = data_copy[0][11:43]"
   ]
  },
  {
   "cell_type": "code",
   "execution_count": 9,
   "id": "37b0f9f6",
   "metadata": {},
   "outputs": [],
   "source": [
    "data = data_copy[0][43:]"
   ]
  },
  {
   "cell_type": "code",
   "execution_count": 10,
   "id": "4f4f25ac",
   "metadata": {},
   "outputs": [
    {
     "data": {
      "text/plain": [
       "'\\n1\\nMan City\\n37\\n27\\n7\\n3\\n93:33\\nW\\nW\\nW\\nW\\nW\\n88\\n2\\nArsenal\\n37\\n27\\n5\\n5\\n89:28\\nW\\nW\\nW\\nW\\nW\\n86\\n3\\nLiverpool\\n37\\n23\\n10\\n4\\n84:41\\nW\\nL\\nD\\nW\\nD\\n79\\n4\\nAston Villa\\n37\\n20\\n8\\n9\\n76:56\\nW\\nW\\nD\\nL\\nD\\n68\\n5\\nTottenham\\n37\\n19\\n6\\n12\\n71:61\\nL\\nL\\nL\\nW\\nL\\n63\\n6\\nChelsea\\n37\\n17\\n9\\n11\\n75:62\\nD\\nW\\nW\\nW\\nW\\n60\\n7\\nNewcastle\\n37\\n17\\n6\\n14\\n81:60\\nL\\nW\\nW\\nD\\nL\\n57\\n8\\nMan Utd\\n37\\n17\\n6\\n14\\n55:58\\nW\\nD\\nL\\nL\\nW\\n57\\n9\\nWest Ham\\n37\\n14\\n10\\n13\\n59:71\\nL\\nL\\nD\\nL\\nW\\n52\\n10\\nBrighton\\n37\\n12\\n12\\n13\\n55:60\\nL\\nL\\nW\\nD\\nL\\n48\\n11\\nBournemouth\\n37\\n13\\n9\\n15\\n53:65\\nL\\nW\\nW\\nL\\nL\\n48\\n12\\nCrystal Palace\\n37\\n12\\n10\\n15\\n52:58\\nW\\nW\\nD\\nW\\nW\\n46\\n13\\nWolves\\n37\\n13\\n7\\n17\\n50:63\\nL\\nL\\nW\\nL\\nL\\n46\\n14\\nFulham\\n37\\n12\\n8\\n17\\n51:59\\nW\\nL\\nD\\nD\\nL\\n44\\n15\\nEverton\\n37\\n13\\n9\\n15\\n39:49\\nW\\nW\\nW\\nD\\nW\\n40\\n16\\nBrentford\\n37\\n10\\n9\\n18\\n54:61\\nW\\nW\\nL\\nD\\nW\\n39\\n17\\nForest\\n37\\n8\\n9\\n20\\n47:66\\nD\\nL\\nL\\nW\\nL\\n29\\n18\\nLuton\\n37\\n6\\n8\\n23\\n50:81\\nL\\nL\\nL\\nD\\nL\\n26\\n19\\nBurnley\\n37\\n5\\n9\\n23\\n40:76\\nD\\nW\\nD\\nL\\nL\\n24\\n20\\nSheffield Utd\\n37\\n3\\n7\\n27\\n35:101\\nL\\nL\\nL\\nL\\nL\\n16'"
      ]
     },
     "execution_count": 10,
     "metadata": {},
     "output_type": "execute_result"
    }
   ],
   "source": [
    "data"
   ]
  },
  {
   "cell_type": "code",
   "execution_count": 11,
   "id": "e8c713da",
   "metadata": {},
   "outputs": [],
   "source": [
    "data_copy_split = [data.split('\\n')]\n"
   ]
  },
  {
   "cell_type": "code",
   "execution_count": 12,
   "id": "fd8b8ace",
   "metadata": {},
   "outputs": [
    {
     "name": "stdout",
     "output_type": "stream",
     "text": [
      "['1', 'Man City', '37', '27', '7', '3', '93:33', 'W', 'W', 'W', 'W', 'W', '88', '2', 'Arsenal', '37', '27', '5', '5', '89:28', 'W', 'W', 'W', 'W', 'W', '86', '3', 'Liverpool', '37', '23', '10', '4', '84:41', 'W', 'L', 'D', 'W', 'D', '79', '4', 'Aston Villa', '37', '20', '8', '9', '76:56', 'W', 'W', 'D', 'L', 'D', '68', '5', 'Tottenham', '37', '19', '6', '12', '71:61', 'L', 'L', 'L', 'W', 'L', '63', '6', 'Chelsea', '37', '17', '9', '11', '75:62', 'D', 'W', 'W', 'W', 'W', '60', '7', 'Newcastle', '37', '17', '6', '14', '81:60', 'L', 'W', 'W', 'D', 'L', '57', '8', 'Man Utd', '37', '17', '6', '14', '55:58', 'W', 'D', 'L', 'L', 'W', '57', '9', 'West Ham', '37', '14', '10', '13', '59:71', 'L', 'L', 'D', 'L', 'W', '52', '10', 'Brighton', '37', '12', '12', '13', '55:60', 'L', 'L', 'W', 'D', 'L', '48', '11', 'Bournemouth', '37', '13', '9', '15', '53:65', 'L', 'W', 'W', 'L', 'L', '48', '12', 'Crystal Palace', '37', '12', '10', '15', '52:58', 'W', 'W', 'D', 'W', 'W', '46', '13', 'Wolves', '37', '13', '7', '17', '50:63', 'L', 'L', 'W', 'L', 'L', '46', '14', 'Fulham', '37', '12', '8', '17', '51:59', 'W', 'L', 'D', 'D', 'L', '44', '15', 'Everton', '37', '13', '9', '15', '39:49', 'W', 'W', 'W', 'D', 'W', '40', '16', 'Brentford', '37', '10', '9', '18', '54:61', 'W', 'W', 'L', 'D', 'W', '39', '17', 'Forest', '37', '8', '9', '20', '47:66', 'D', 'L', 'L', 'W', 'L', '29', '18', 'Luton', '37', '6', '8', '23', '50:81', 'L', 'L', 'L', 'D', 'L', '26', '19', 'Burnley', '37', '5', '9', '23', '40:76', 'D', 'W', 'D', 'L', 'L', '24', '20', 'Sheffield Utd', '37', '3', '7', '27', '35:101', 'L', 'L', 'L', 'L', 'L', '16']\n"
     ]
    }
   ],
   "source": [
    "data_copy_split = data_copy_split[0][1:]\n",
    "print(data_copy_split)"
   ]
  },
  {
   "cell_type": "code",
   "execution_count": 13,
   "id": "54f6616f",
   "metadata": {
    "scrolled": true
   },
   "outputs": [
    {
     "name": "stdout",
     "output_type": "stream",
     "text": [
      "[['1', 'Man City', '37', '27', '7', '3', '93:33', 'W', 'W', 'W', 'W', 'W', '88'], ['2', 'Arsenal', '37', '27', '5', '5', '89:28', 'W', 'W', 'W', 'W', 'W', '86'], ['3', 'Liverpool', '37', '23', '10', '4', '84:41', 'W', 'L', 'D', 'W', 'D', '79'], ['4', 'Aston Villa', '37', '20', '8', '9', '76:56', 'W', 'W', 'D', 'L', 'D', '68'], ['5', 'Tottenham', '37', '19', '6', '12', '71:61', 'L', 'L', 'L', 'W', 'L', '63'], ['6', 'Chelsea', '37', '17', '9', '11', '75:62', 'D', 'W', 'W', 'W', 'W', '60'], ['7', 'Newcastle', '37', '17', '6', '14', '81:60', 'L', 'W', 'W', 'D', 'L', '57'], ['8', 'Man Utd', '37', '17', '6', '14', '55:58', 'W', 'D', 'L', 'L', 'W', '57'], ['9', 'West Ham', '37', '14', '10', '13', '59:71', 'L', 'L', 'D', 'L', 'W', '52'], ['10', 'Brighton', '37', '12', '12', '13', '55:60', 'L', 'L', 'W', 'D', 'L', '48'], ['11', 'Bournemouth', '37', '13', '9', '15', '53:65', 'L', 'W', 'W', 'L', 'L', '48'], ['12', 'Crystal Palace', '37', '12', '10', '15', '52:58', 'W', 'W', 'D', 'W', 'W', '46'], ['13', 'Wolves', '37', '13', '7', '17', '50:63', 'L', 'L', 'W', 'L', 'L', '46'], ['14', 'Fulham', '37', '12', '8', '17', '51:59', 'W', 'L', 'D', 'D', 'L', '44'], ['15', 'Everton', '37', '13', '9', '15', '39:49', 'W', 'W', 'W', 'D', 'W', '40'], ['16', 'Brentford', '37', '10', '9', '18', '54:61', 'W', 'W', 'L', 'D', 'W', '39'], ['17', 'Forest', '37', '8', '9', '20', '47:66', 'D', 'L', 'L', 'W', 'L', '29'], ['18', 'Luton', '37', '6', '8', '23', '50:81', 'L', 'L', 'L', 'D', 'L', '26'], ['19', 'Burnley', '37', '5', '9', '23', '40:76', 'D', 'W', 'D', 'L', 'L', '24'], ['20', 'Sheffield Utd', '37', '3', '7', '27', '35:101', 'L', 'L', 'L', 'L', 'L', '16']]\n"
     ]
    }
   ],
   "source": [
    "data_array = [data_copy_split[i:i+13] for i in range(0, len(data_copy_split), 13)]\n",
    "print(data_array)"
   ]
  },
  {
   "cell_type": "code",
   "execution_count": 14,
   "id": "6681ac48",
   "metadata": {},
   "outputs": [
    {
     "name": "stdout",
     "output_type": "stream",
     "text": [
      "['1', 'Arsenal', '36', '26', '5', '5', '88', '28', 'L', 'W', 'W', 'W', 'W', '83']\n"
     ]
    }
   ],
   "source": [
    "testing = ['1', 'Arsenal', '36', '26', '5', '5', '88:28', 'L', 'W', 'W', 'W', 'W', '83']\n",
    "\n",
    "# Splitting the element at index 6 and extending the list with the resulting parts\n",
    "testing[6:7] = testing[6].split(':')\n",
    "\n",
    "print(testing)"
   ]
  },
  {
   "cell_type": "code",
   "execution_count": 15,
   "id": "fa84fd79",
   "metadata": {},
   "outputs": [],
   "source": [
    "split_data = []\n",
    "\n",
    "for data in data_array:\n",
    "    data[6:7] = data[6].split(':')\n",
    "    split_data.append(data)    "
   ]
  },
  {
   "cell_type": "code",
   "execution_count": 16,
   "id": "d9735e63",
   "metadata": {
    "scrolled": false
   },
   "outputs": [
    {
     "name": "stdout",
     "output_type": "stream",
     "text": [
      "[['1', 'Man City', '37', '27', '7', '3', '93', '33', 'W', 'W', 'W', 'W', 'W', '88'], ['2', 'Arsenal', '37', '27', '5', '5', '89', '28', 'W', 'W', 'W', 'W', 'W', '86'], ['3', 'Liverpool', '37', '23', '10', '4', '84', '41', 'W', 'L', 'D', 'W', 'D', '79'], ['4', 'Aston Villa', '37', '20', '8', '9', '76', '56', 'W', 'W', 'D', 'L', 'D', '68'], ['5', 'Tottenham', '37', '19', '6', '12', '71', '61', 'L', 'L', 'L', 'W', 'L', '63'], ['6', 'Chelsea', '37', '17', '9', '11', '75', '62', 'D', 'W', 'W', 'W', 'W', '60'], ['7', 'Newcastle', '37', '17', '6', '14', '81', '60', 'L', 'W', 'W', 'D', 'L', '57'], ['8', 'Man Utd', '37', '17', '6', '14', '55', '58', 'W', 'D', 'L', 'L', 'W', '57'], ['9', 'West Ham', '37', '14', '10', '13', '59', '71', 'L', 'L', 'D', 'L', 'W', '52'], ['10', 'Brighton', '37', '12', '12', '13', '55', '60', 'L', 'L', 'W', 'D', 'L', '48'], ['11', 'Bournemouth', '37', '13', '9', '15', '53', '65', 'L', 'W', 'W', 'L', 'L', '48'], ['12', 'Crystal Palace', '37', '12', '10', '15', '52', '58', 'W', 'W', 'D', 'W', 'W', '46'], ['13', 'Wolves', '37', '13', '7', '17', '50', '63', 'L', 'L', 'W', 'L', 'L', '46'], ['14', 'Fulham', '37', '12', '8', '17', '51', '59', 'W', 'L', 'D', 'D', 'L', '44'], ['15', 'Everton', '37', '13', '9', '15', '39', '49', 'W', 'W', 'W', 'D', 'W', '40'], ['16', 'Brentford', '37', '10', '9', '18', '54', '61', 'W', 'W', 'L', 'D', 'W', '39'], ['17', 'Forest', '37', '8', '9', '20', '47', '66', 'D', 'L', 'L', 'W', 'L', '29'], ['18', 'Luton', '37', '6', '8', '23', '50', '81', 'L', 'L', 'L', 'D', 'L', '26'], ['19', 'Burnley', '37', '5', '9', '23', '40', '76', 'D', 'W', 'D', 'L', 'L', '24'], ['20', 'Sheffield Utd', '37', '3', '7', '27', '35', '101', 'L', 'L', 'L', 'L', 'L', '16']]\n"
     ]
    }
   ],
   "source": [
    "print(split_data)  "
   ]
  },
  {
   "cell_type": "code",
   "execution_count": 17,
   "id": "2d389018",
   "metadata": {},
   "outputs": [],
   "source": [
    "# These team_labels match all the data from the other notebooks\n",
    "team_labels = {\n",
    "        'Arsenal': 1,\n",
    "        'Aston Villa': 2,\n",
    "        'Bournemouth': 3,\n",
    "        'Brighton': 4,\n",
    "        'Burnley': 5,\n",
    "        'Chelsea': 6,\n",
    "        'Crystal Palace': 7,\n",
    "        'Everton': 8,\n",
    "        'Fulham': 9,\n",
    "        'Leeds Utd': 10,\n",
    "        'Leicester City': 11,\n",
    "        'Liverpool': 12,\n",
    "        'Man City': 13,\n",
    "        'Man Utd': 14,\n",
    "        'Newcastle': 15,\n",
    "        'Norwich': 16,\n",
    "        'Sheffield': 17,\n",
    "        'Southampton': 18,\n",
    "        'Tottenham': 19,\n",
    "        'West Ham': 20,\n",
    "        'Luton': 21,\n",
    "        'Wolves': 22,\n",
    "        'Brentford': 23,\n",
    "        'Sheffield Utd': 24,\n",
    "        'Forest': 25\n",
    "    }"
   ]
  },
  {
   "cell_type": "markdown",
   "id": "e5bc6927",
   "metadata": {},
   "source": [
    "#### Code Playground: creating ppg, last_5_matches, and removing redundant indexes"
   ]
  },
  {
   "cell_type": "code",
   "execution_count": 18,
   "id": "8a6f419c",
   "metadata": {},
   "outputs": [
    {
     "name": "stdout",
     "output_type": "stream",
     "text": [
      "[['1', 'Arsenal', '37', '27', '5', '5', '89', '28', 'WWWWW', 3.0, '86'], ['2', 'Man City', '36', '26', '7', '3', '91', '33', 'WWWWW', 3.0, '85'], ['3', 'Liverpool', '36', '23', '9', '4', '81', '38', 'LWLDW', 1.4, '78']]\n"
     ]
    }
   ],
   "source": [
    "epl_table = [['1','Arsenal','37','27','5','5','89','28','W','W','W', 'W','W','86'],\n",
    " ['2','Man City', '36','26','7','3','91','33','W','W','W','W','W','85'],\n",
    " ['3','Liverpool','36','23','9','4','81','38','L','W','L','D','W','78']]\n",
    "\n",
    "for row in epl_table:\n",
    "    ppg = 0\n",
    "    for result in row[7:13]:\n",
    "        if result == 'W':\n",
    "            ppg += 3\n",
    "        elif result == 'D':\n",
    "            ppg += 1\n",
    "    last_5_matches = ''.join(row[8:13])  # Concatenate match results from index 7 to 11\n",
    "    row[8:13] = [last_5_matches, ppg / 5]  # Replace old match results with last 5 matches string and PPG\n",
    "\n",
    "print(epl_table)\n",
    "\n"
   ]
  },
  {
   "cell_type": "code",
   "execution_count": 19,
   "id": "72706e15",
   "metadata": {},
   "outputs": [],
   "source": [
    "def calculate_ppg_and_create_last_5_matches(two_d_array):\n",
    "    for row in two_d_array:\n",
    "        ppg = 0\n",
    "        for result in row[7:13]:\n",
    "            if result == 'W':\n",
    "                ppg += 3\n",
    "            elif result == 'D':\n",
    "                ppg += 1\n",
    "        last_5_matches = ''.join(row[8:13])  # Concatenate match results from index 7 to 11\n",
    "        row[8:13] = [last_5_matches, ppg / 5]  # Replace old match results with last 5 matches string and PPG\n",
    "    \n",
    "    return two_d_array\n"
   ]
  },
  {
   "cell_type": "code",
   "execution_count": 20,
   "id": "93659992",
   "metadata": {},
   "outputs": [],
   "source": [
    "premier_league_columns  = ['Pos', 'Team', 'Pld', 'Wins', 'Draws', 'losses', 'GF', 'GA', 'Last 5 Matches', 'Ppg_Last_5_Matches', 'Points']"
   ]
  },
  {
   "cell_type": "code",
   "execution_count": 21,
   "id": "57364258",
   "metadata": {},
   "outputs": [],
   "source": [
    "df_data = calculate_ppg_and_create_last_5_matches(split_data)"
   ]
  },
  {
   "cell_type": "code",
   "execution_count": 22,
   "id": "88f0d4e3",
   "metadata": {},
   "outputs": [
    {
     "name": "stdout",
     "output_type": "stream",
     "text": [
      "   Pos            Team Pld Wins Draws losses  GF   GA Last 5 Matches  \\\n",
      "0    1        Man City  37   27     7      3  93   33          WWWWW   \n",
      "1    2         Arsenal  37   27     5      5  89   28          WWWWW   \n",
      "2    3       Liverpool  37   23    10      4  84   41          WLDWD   \n",
      "3    4     Aston Villa  37   20     8      9  76   56          WWDLD   \n",
      "4    5       Tottenham  37   19     6     12  71   61          LLLWL   \n",
      "5    6         Chelsea  37   17     9     11  75   62          DWWWW   \n",
      "6    7       Newcastle  37   17     6     14  81   60          LWWDL   \n",
      "7    8         Man Utd  37   17     6     14  55   58          WDLLW   \n",
      "8    9        West Ham  37   14    10     13  59   71          LLDLW   \n",
      "9   10        Brighton  37   12    12     13  55   60          LLWDL   \n",
      "10  11     Bournemouth  37   13     9     15  53   65          LWWLL   \n",
      "11  12  Crystal Palace  37   12    10     15  52   58          WWDWW   \n",
      "12  13          Wolves  37   13     7     17  50   63          LLWLL   \n",
      "13  14          Fulham  37   12     8     17  51   59          WLDDL   \n",
      "14  15         Everton  37   13     9     15  39   49          WWWDW   \n",
      "15  16       Brentford  37   10     9     18  54   61          WWLDW   \n",
      "16  17          Forest  37    8     9     20  47   66          DLLWL   \n",
      "17  18           Luton  37    6     8     23  50   81          LLLDL   \n",
      "18  19         Burnley  37    5     9     23  40   76          DWDLL   \n",
      "19  20   Sheffield Utd  37    3     7     27  35  101          LLLLL   \n",
      "\n",
      "    Ppg_Last_5_Matches Points  \n",
      "0                  3.0     88  \n",
      "1                  3.0     86  \n",
      "2                  1.6     79  \n",
      "3                  1.6     68  \n",
      "4                  0.6     63  \n",
      "5                  2.6     60  \n",
      "6                  1.4     57  \n",
      "7                  1.4     57  \n",
      "8                  0.8     52  \n",
      "9                  0.8     48  \n",
      "10                 1.2     48  \n",
      "11                 2.6     46  \n",
      "12                 0.6     46  \n",
      "13                 1.0     44  \n",
      "14                 2.6     40  \n",
      "15                 2.0     39  \n",
      "16                 0.8     29  \n",
      "17                 0.2     26  \n",
      "18                 1.0     24  \n",
      "19                 0.0     16  \n"
     ]
    }
   ],
   "source": [
    "\n",
    "# Create DataFrame\n",
    "premier_league_table = pd.DataFrame(df_data, columns=premier_league_columns)\n",
    "print(premier_league_table)"
   ]
  },
  {
   "cell_type": "code",
   "execution_count": 23,
   "id": "4fe42fbc",
   "metadata": {},
   "outputs": [],
   "source": [
    "def team_to_label(team_name):\n",
    "    return team_labels.get(team_name)"
   ]
  },
  {
   "cell_type": "code",
   "execution_count": 24,
   "id": "2fd908c9",
   "metadata": {},
   "outputs": [],
   "source": [
    "premier_league_table['Team'] = premier_league_table['Team'].map(team_to_label)"
   ]
  },
  {
   "cell_type": "code",
   "execution_count": 25,
   "id": "c0e9f6a9",
   "metadata": {},
   "outputs": [],
   "source": [
    "premier_league_table = premier_league_table.drop(columns=['Last 5 Matches'])"
   ]
  },
  {
   "cell_type": "markdown",
   "id": "1edef4f1",
   "metadata": {},
   "source": [
    "#### Confirm its the right Weekly Round in order to join with the right dataset. Note Current League standings goes with upcoming_matches"
   ]
  },
  {
   "cell_type": "code",
   "execution_count": 26,
   "id": "e80d45b0",
   "metadata": {},
   "outputs": [],
   "source": [
    "Round  = 'Round ' + ' ' +  premier_league_table['Pld'].mode()[0]"
   ]
  },
  {
   "cell_type": "code",
   "execution_count": 27,
   "id": "f1a5f166",
   "metadata": {},
   "outputs": [
    {
     "data": {
      "text/plain": [
       "'Round  37'"
      ]
     },
     "execution_count": 27,
     "metadata": {},
     "output_type": "execute_result"
    }
   ],
   "source": [
    "Round"
   ]
  },
  {
   "cell_type": "code",
   "execution_count": null,
   "id": "c31f173f",
   "metadata": {},
   "outputs": [],
   "source": [
    "# Database connection\n",
    "user = '<user>'\n",
    "password = '<password>'\n",
    "host = 'localhost'\n",
    "port = 3306\n",
    "database = '<db>'"
   ]
  },
  {
   "cell_type": "code",
   "execution_count": 28,
   "id": "45c02300",
   "metadata": {},
   "outputs": [
    {
     "data": {
      "text/plain": [
       "20"
      ]
     },
     "execution_count": 28,
     "metadata": {},
     "output_type": "execute_result"
    }
   ],
   "source": [
    "engine = create_engine(f'mysql+pymysql://{user}:{password}@{host}:{port}/{database}')\n",
    "premier_league_table.to_sql('current_week_league_standings', con=engine, if_exists='replace', index=False)"
   ]
  }
 ],
 "metadata": {
  "kernelspec": {
   "display_name": "Python 3 (ipykernel)",
   "language": "python",
   "name": "python3"
  },
  "language_info": {
   "codemirror_mode": {
    "name": "ipython",
    "version": 3
   },
   "file_extension": ".py",
   "mimetype": "text/x-python",
   "name": "python",
   "nbconvert_exporter": "python",
   "pygments_lexer": "ipython3",
   "version": "3.11.5"
  }
 },
 "nbformat": 4,
 "nbformat_minor": 5
}
