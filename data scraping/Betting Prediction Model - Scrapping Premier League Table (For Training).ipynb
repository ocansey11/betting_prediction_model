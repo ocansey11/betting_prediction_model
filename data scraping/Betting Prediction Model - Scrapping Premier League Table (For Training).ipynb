{
 "cells": [
  {
   "cell_type": "markdown",
   "id": "06e2c489",
   "metadata": {},
   "source": [
    "# Betting Prediction Model - Scraping Premier League Table (Training Data)\n",
    "\n",
    "## Overview\n",
    "\n",
    "This notebook aims to scrape data from the Premier League table from sofascore to gather training data for our betting prediction model. The extracted data will be utilized to train our model for accurate predictions. The primary objectives of this notebook include:\n",
    "\n",
    "1. **Data Extraction**: Retrieve relevant information from the Premier League table, including team standings, recent match results, and performance statistics.\n",
    "2. **Data Processing**: Cleanse and format the scraped data to ensure consistency and accuracy for model training.\n",
    "3. **Database Integration**: Store the processed data in the previous_league_standings table which we would later merge with completed_matches table and append to our `training_data` table within our database for future model training sessions.\n",
    "\n",
    "## Steps Involved\n",
    "\n",
    "1. **Environment Setup and Imports**: Import necessary libraries and configure settings.\n",
    "2. **Web Scraping**: Utilize web scraping techniques to extract data from the Premier League table.\n",
    "3. **Data Cleansing and Transformation**: Process the extracted data to ensure uniformity and reliability.\n",
    "4. **Database Interaction**: Insert the processed data into the `training_data` table to build a comprehensive dataset.\n",
    "\n",
    "\n",
    "## Requirements\n",
    "\n",
    "- Python 3.x\n",
    "- Libraries: `selenium web driver`, `pandas`, `sqlalchemy`\n",
    "- Access to the database containing the `training_data` table\n",
    "\n",
    "## Notes\n",
    "\n",
    "- Prior to execution, ensure that database credentials are correctly configured.\n",
    "- This notebook should be executed periodically to keep the completed_matches up-to-date with the previous Premier League data. to ensure this, run this notebook before you run `Betting Prediction Model - Scraping Forebet Prediction Table Completed Matches`\n",
    "\n",
    "Let's commence by setting up our environment and importing essential libraries.\n"
   ]
  },
  {
   "cell_type": "code",
   "execution_count": 1,
   "id": "9b5fb9f7",
   "metadata": {},
   "outputs": [],
   "source": [
    "from selenium import webdriver\n",
    "import pandas as pd\n",
    "from sqlalchemy import create_engine\n",
    "import pandas as pd"
   ]
  },
  {
   "cell_type": "code",
   "execution_count": 10,
   "id": "696add91",
   "metadata": {},
   "outputs": [
    {
     "name": "stderr",
     "output_type": "stream",
     "text": [
      "C:\\Users\\kevin\\AppData\\Local\\Temp\\ipykernel_20600\\4087939154.py:2: DeprecationWarning: executable_path has been deprecated, please pass in a Service object\n",
      "  driver = webdriver.Chrome(PATH)\n"
     ]
    }
   ],
   "source": [
    "PATH = 'C:/Users/kevin/Desktop/tools/chromedriver-win64/chromedriver'\n",
    "driver = webdriver.Chrome(PATH) \n",
    "driver.get('https://www.sofascore.com/tournament/football/england/premier-league/17#id:52186');"
   ]
  },
  {
   "cell_type": "code",
   "execution_count": 11,
   "id": "bf7a8ba6",
   "metadata": {},
   "outputs": [
    {
     "name": "stdout",
     "output_type": "stream",
     "text": [
      "[<selenium.webdriver.remote.webelement.WebElement (session=\"5d5883af6907c8a26a31ce5ba0f2d155\", element=\"f.9109CED7DB784DA64C5D8EB5593345BA.d.8BB8B6CC1890623EF22C84038B94C402.e.86\")>]\n"
     ]
    }
   ],
   "source": [
    "# Now find the fixture containers within the body element\n",
    "league_table_results = driver.find_elements(\"class name\", \"eHXJll\")\n",
    "print(league_table_results)\n"
   ]
  },
  {
   "cell_type": "code",
   "execution_count": 12,
   "id": "23f8acd1",
   "metadata": {},
   "outputs": [
    {
     "name": "stdout",
     "output_type": "stream",
     "text": [
      "ALLHOMEAWAY\n",
      "#\n",
      "Team\n",
      "P\n",
      "W\n",
      "D\n",
      "L\n",
      "Goals\n",
      "Last 5\n",
      "PTS\n",
      "1\n",
      "Man City\n",
      "38\n",
      "28\n",
      "7\n",
      "3\n",
      "96:34\n",
      "W\n",
      "W\n",
      "W\n",
      "W\n",
      "W\n",
      "91\n",
      "2\n",
      "Arsenal\n",
      "38\n",
      "28\n",
      "5\n",
      "5\n",
      "91:29\n",
      "W\n",
      "W\n",
      "W\n",
      "W\n",
      "W\n",
      "89\n",
      "3\n",
      "Liverpool\n",
      "38\n",
      "24\n",
      "10\n",
      "4\n",
      "86:41\n",
      "L\n",
      "D\n",
      "W\n",
      "D\n",
      "W\n",
      "82\n",
      "4\n",
      "Aston Villa\n",
      "38\n",
      "20\n",
      "8\n",
      "10\n",
      "76:61\n",
      "W\n",
      "D\n",
      "L\n",
      "D\n",
      "L\n",
      "68\n",
      "5\n",
      "Tottenham\n",
      "38\n",
      "20\n",
      "6\n",
      "12\n",
      "74:61\n",
      "L\n",
      "L\n",
      "W\n",
      "L\n",
      "W\n",
      "66\n",
      "6\n",
      "Chelsea\n",
      "38\n",
      "18\n",
      "9\n",
      "11\n",
      "77:63\n",
      "W\n",
      "W\n",
      "W\n",
      "W\n",
      "W\n",
      "63\n",
      "7\n",
      "Newcastle\n",
      "38\n",
      "18\n",
      "6\n",
      "14\n",
      "85:62\n",
      "W\n",
      "W\n",
      "D\n",
      "L\n",
      "W\n",
      "60\n",
      "8\n",
      "Man Utd\n",
      "38\n",
      "18\n",
      "6\n",
      "14\n",
      "57:58\n",
      "D\n",
      "L\n",
      "L\n",
      "W\n",
      "W\n",
      "60\n",
      "9\n",
      "West Ham\n",
      "38\n",
      "14\n",
      "10\n",
      "14\n",
      "60:74\n",
      "L\n",
      "D\n",
      "L\n",
      "W\n",
      "L\n",
      "52\n",
      "10\n",
      "Crystal Palace\n",
      "38\n",
      "13\n",
      "10\n",
      "15\n",
      "57:58\n",
      "W\n",
      "D\n",
      "W\n",
      "W\n",
      "W\n",
      "49\n",
      "11\n",
      "Brighton\n",
      "38\n",
      "12\n",
      "12\n",
      "14\n",
      "55:62\n",
      "L\n",
      "W\n",
      "D\n",
      "L\n",
      "L\n",
      "48\n",
      "12\n",
      "Bournemouth\n",
      "38\n",
      "13\n",
      "9\n",
      "16\n",
      "54:67\n",
      "W\n",
      "W\n",
      "L\n",
      "L\n",
      "L\n",
      "48\n",
      "13\n",
      "Fulham\n",
      "38\n",
      "13\n",
      "8\n",
      "17\n",
      "55:61\n",
      "L\n",
      "D\n",
      "D\n",
      "L\n",
      "W\n",
      "47\n",
      "14\n",
      "Wolves\n",
      "38\n",
      "13\n",
      "7\n",
      "18\n",
      "50:65\n",
      "L\n",
      "W\n",
      "L\n",
      "L\n",
      "L\n",
      "46\n",
      "15\n",
      "Everton\n",
      "38\n",
      "13\n",
      "9\n",
      "16\n",
      "40:51\n",
      "W\n",
      "W\n",
      "D\n",
      "W\n",
      "L\n",
      "40\n",
      "16\n",
      "Brentford\n",
      "38\n",
      "10\n",
      "9\n",
      "19\n",
      "56:65\n",
      "W\n",
      "L\n",
      "D\n",
      "W\n",
      "L\n",
      "39\n",
      "17\n",
      "Forest\n",
      "38\n",
      "9\n",
      "9\n",
      "20\n",
      "49:67\n",
      "L\n",
      "L\n",
      "W\n",
      "L\n",
      "W\n",
      "32\n",
      "18\n",
      "Luton\n",
      "38\n",
      "6\n",
      "8\n",
      "24\n",
      "52:85\n",
      "L\n",
      "L\n",
      "D\n",
      "L\n",
      "L\n",
      "26\n",
      "19\n",
      "Burnley\n",
      "38\n",
      "5\n",
      "9\n",
      "24\n",
      "41:78\n",
      "W\n",
      "D\n",
      "L\n",
      "L\n",
      "L\n",
      "24\n",
      "20\n",
      "Sheffield Utd\n",
      "38\n",
      "3\n",
      "7\n",
      "28\n",
      "35:104\n",
      "L\n",
      "L\n",
      "L\n",
      "L\n",
      "L\n",
      "16\n"
     ]
    }
   ],
   "source": [
    "league_table_results_container = []\n",
    "\n",
    "for results in league_table_results:\n",
    "    # Extract the text from the fixture container\n",
    "    results_text = results.text\n",
    "    league_table_results_container.append(results_text)\n",
    "    print(results_text)"
   ]
  },
  {
   "cell_type": "code",
   "execution_count": null,
   "id": "5c779582",
   "metadata": {},
   "outputs": [],
   "source": [
    "driver.quit()"
   ]
  },
  {
   "cell_type": "code",
   "execution_count": 5,
   "id": "7caca816",
   "metadata": {},
   "outputs": [
    {
     "data": {
      "text/plain": [
       "[]"
      ]
     },
     "execution_count": 5,
     "metadata": {},
     "output_type": "execute_result"
    }
   ],
   "source": [
    "league_table_results_container"
   ]
  },
  {
   "cell_type": "code",
   "execution_count": 6,
   "id": "6202a5e3",
   "metadata": {},
   "outputs": [
    {
     "ename": "IndexError",
     "evalue": "list index out of range",
     "output_type": "error",
     "traceback": [
      "\u001b[1;31m---------------------------------------------------------------------------\u001b[0m",
      "\u001b[1;31mIndexError\u001b[0m                                Traceback (most recent call last)",
      "Cell \u001b[1;32mIn[6], line 3\u001b[0m\n\u001b[0;32m      1\u001b[0m data_copy \u001b[38;5;241m=\u001b[39m league_table_results_container\n\u001b[1;32m----> 3\u001b[0m df_columns \u001b[38;5;241m=\u001b[39m data_copy[\u001b[38;5;241m0\u001b[39m][\u001b[38;5;241m11\u001b[39m:\u001b[38;5;241m43\u001b[39m]\n\u001b[0;32m      5\u001b[0m data \u001b[38;5;241m=\u001b[39m data_copy[\u001b[38;5;241m0\u001b[39m][\u001b[38;5;241m43\u001b[39m:]\n\u001b[0;32m      7\u001b[0m data\n",
      "\u001b[1;31mIndexError\u001b[0m: list index out of range"
     ]
    }
   ],
   "source": [
    "data_copy = league_table_results_container\n",
    "\n",
    "df_columns = data_copy[0][11:43]\n",
    "\n",
    "data = data_copy[0][43:]\n",
    "\n",
    "data"
   ]
  },
  {
   "cell_type": "code",
   "execution_count": null,
   "id": "07d1b4cd",
   "metadata": {},
   "outputs": [],
   "source": [
    "data_copy_split = [data.split('\\n')]\n",
    "\n",
    "\n",
    "data_copy_split = data_copy_split[0][1:]\n",
    "print(data_copy_split)"
   ]
  },
  {
   "cell_type": "code",
   "execution_count": null,
   "id": "478d8826",
   "metadata": {},
   "outputs": [],
   "source": [
    "data_array = [data_copy_split[i:i+13] for i in range(0, len(data_copy_split), 13)]\n",
    "print(data_array)"
   ]
  },
  {
   "cell_type": "code",
   "execution_count": null,
   "id": "6ca73306",
   "metadata": {},
   "outputs": [],
   "source": [
    "testing = ['1', 'Arsenal', '36', '26', '5', '5', '88:28', 'L', 'W', 'W', 'W', 'W', '83']\n",
    "\n",
    "# Splitting the element at index 6 and extending the list with the resulting parts\n",
    "testing[6:7] = testing[6].split(':')\n",
    "\n",
    "print(testing)"
   ]
  },
  {
   "cell_type": "code",
   "execution_count": null,
   "id": "5b242f73",
   "metadata": {},
   "outputs": [],
   "source": [
    "split_data = []\n",
    "\n",
    "for data in data_array:\n",
    "    data[6:7] = data[6].split(':')\n",
    "    split_data.append(data)    \n",
    "\n",
    "print(split_data) "
   ]
  },
  {
   "cell_type": "code",
   "execution_count": null,
   "id": "4b2c8bb0",
   "metadata": {},
   "outputs": [],
   "source": [
    "# These team_labels match all the data from the other notebooks\n",
    "team_labels = {\n",
    "        'Arsenal': 1,\n",
    "        'Aston Villa': 2,\n",
    "        'Bournemouth': 3,\n",
    "        'Brighton': 4,\n",
    "        'Burnley': 5,\n",
    "        'Chelsea': 6,\n",
    "        'Crystal Palace': 7,\n",
    "        'Everton': 8,\n",
    "        'Fulham': 9,\n",
    "        'Leeds Utd': 10,\n",
    "        'Leicester City': 11,\n",
    "        'Liverpool': 12,\n",
    "        'Man City': 13,\n",
    "        'Man Utd': 14,\n",
    "        'Newcastle': 15,\n",
    "        'Norwich': 16,\n",
    "        'Sheffield': 17,\n",
    "        'Southampton': 18,\n",
    "        'Tottenham': 19,\n",
    "        'West Ham': 20,\n",
    "        'Luton': 21,\n",
    "        'Wolves': 22,\n",
    "        'Brentford': 23,\n",
    "        'Sheffield Utd': 24,\n",
    "        'Forest': 25\n",
    "    }"
   ]
  },
  {
   "cell_type": "markdown",
   "id": "63812398",
   "metadata": {},
   "source": [
    "#### Code Playground: creating ppg, last_5_matches, and removing redundant indexes"
   ]
  },
  {
   "cell_type": "code",
   "execution_count": null,
   "id": "300e4e27",
   "metadata": {},
   "outputs": [],
   "source": [
    "epl_table = [['1','Arsenal','37','27','5','5','89','28','W','W','W', 'W','W','86'],\n",
    " ['2','Man City', '36','26','7','3','91','33','W','W','W','W','W','85'],\n",
    " ['3','Liverpool','36','23','9','4','81','38','L','W','L','D','W','78']]\n",
    "\n",
    "for row in epl_table:\n",
    "    ppg = 0\n",
    "    for result in row[7:13]:\n",
    "        if result == 'W':\n",
    "            ppg += 3\n",
    "        elif result == 'D':\n",
    "            ppg += 1\n",
    "    last_5_matches = ''.join(row[8:13])  # Concatenate match results from index 7 to 11\n",
    "    row[8:13] = [last_5_matches, ppg / 5]  # Replace old match results with last 5 matches string and PPG\n",
    "\n",
    "print(epl_table)\n"
   ]
  },
  {
   "cell_type": "code",
   "execution_count": null,
   "id": "d6b3aee3",
   "metadata": {},
   "outputs": [],
   "source": [
    "def calculate_ppg_and_create_last_5_matches(two_d_array):\n",
    "    \"\"\"\n",
    "    Calculate the points per game (PPG) and create a string representing the last 5 matches for each team.\n",
    "\n",
    "    Args:\n",
    "        two_d_array (list of lists): Two-dimensional array containing match data for each team.\n",
    "\n",
    "    Returns:\n",
    "        list of lists: Updated two-dimensional array with additional columns for last 5 matches and PPG.\n",
    "    \"\"\"\n",
    "    for row in two_d_array:\n",
    "        ppg = 0\n",
    "        for result in row[7:13]:\n",
    "            if result == 'W':\n",
    "                ppg += 3\n",
    "            elif result == 'D':\n",
    "                ppg += 1\n",
    "        last_5_matches = ''.join(row[8:13])  # Concatenate match results from index 7 to 11\n",
    "        row[8:13] = [last_5_matches, ppg / 5]  # Replace old match results with last 5 matches string and PPG\n",
    "    \n",
    "    return two_d_array"
   ]
  },
  {
   "cell_type": "code",
   "execution_count": null,
   "id": "ca408e8a",
   "metadata": {},
   "outputs": [],
   "source": [
    "premier_league_columns  = ['Pos', 'Team', 'Pld', 'Wins', 'Draws', 'Losses', 'GF', 'GA', 'Last 5 Matches', 'Ppg', 'Points']\n"
   ]
  },
  {
   "cell_type": "code",
   "execution_count": null,
   "id": "5638d986",
   "metadata": {},
   "outputs": [],
   "source": [
    "df_data = calculate_ppg_and_create_last_5_matches(split_data)\n"
   ]
  },
  {
   "cell_type": "code",
   "execution_count": null,
   "id": "e91147a1",
   "metadata": {},
   "outputs": [],
   "source": [
    "import pandas as pd\n",
    "# Create DataFrame\n",
    "premier_league_table = pd.DataFrame(df_data, columns=premier_league_columns)\n",
    "print(premier_league_table)\n"
   ]
  },
  {
   "cell_type": "code",
   "execution_count": null,
   "id": "76180dfb",
   "metadata": {},
   "outputs": [],
   "source": [
    "def team_to_label(team_name):\n",
    "    return team_labels.get(team_name)"
   ]
  },
  {
   "cell_type": "code",
   "execution_count": null,
   "id": "19b07207",
   "metadata": {},
   "outputs": [],
   "source": [
    "premier_league_table['Team'] = premier_league_table['Team'].map(team_to_label)"
   ]
  },
  {
   "cell_type": "markdown",
   "id": "8dffe2f0",
   "metadata": {},
   "source": [
    "#### Confirm its the right Weekly Round in order to join with the right dataset. \n",
    "Note this data will eb considered as 'Previous League standings'(The data we are scrapping will be vital before the weekly fixtures | completed_matches in our case. Because we need the stats before the matches are played"
   ]
  },
  {
   "cell_type": "code",
   "execution_count": null,
   "id": "3b3d44ba",
   "metadata": {},
   "outputs": [],
   "source": [
    "Round  = 'Round ' + ' ' +  premier_league_table['Pld'].mode()[0]"
   ]
  },
  {
   "cell_type": "markdown",
   "id": "da4e98f6",
   "metadata": {},
   "source": [
    "Establish your DB \n",
    "Make sure you have already created a database ready for it. In my next update i will have automations for creating the databse for you"
   ]
  },
  {
   "cell_type": "code",
   "execution_count": null,
   "id": "5abfbfb4",
   "metadata": {},
   "outputs": [],
   "source": [
    "# Database connection\n",
    "user = '<user>'\n",
    "password = '<password>'\n",
    "host = 'localhost'\n",
    "port = 3306\n",
    "database = '<db>'"
   ]
  },
  {
   "cell_type": "code",
   "execution_count": null,
   "id": "a136a139",
   "metadata": {},
   "outputs": [],
   "source": [
    "engine = create_engine(f'mysql+pymysql://{user}:{password}@{host}:{port}/{database}')\n",
    "premier_league_table.to_sql('previous_week_league_standings', con=engine, if_exists='replace', index=False)"
   ]
  }
 ],
 "metadata": {
  "kernelspec": {
   "display_name": "Python 3 (ipykernel)",
   "language": "python",
   "name": "python3"
  },
  "language_info": {
   "codemirror_mode": {
    "name": "ipython",
    "version": 3
   },
   "file_extension": ".py",
   "mimetype": "text/x-python",
   "name": "python",
   "nbconvert_exporter": "python",
   "pygments_lexer": "ipython3",
   "version": "3.11.5"
  }
 },
 "nbformat": 4,
 "nbformat_minor": 5
}
