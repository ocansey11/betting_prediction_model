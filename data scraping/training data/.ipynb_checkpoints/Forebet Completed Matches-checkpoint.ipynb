{
 "cells": [
  {
   "cell_type": "markdown",
   "id": "c59d7f24",
   "metadata": {},
   "source": [
    "# Scrapping Forebet Completed Matches - Predictions and Results of Matches\n",
    "\n",
    "## Overview\n",
    "\n",
    "This notebook is designed to scrape data from Forebet's prediction table for completed matches. The scraped data will be stored in a database and used to train our betting prediction model. The primary goals of this notebook are:\n",
    "\n",
    "1. **Scrape Completed Matches Data**: Retrieve data for completed matches, including team names, win probabilities, score predictions, and actual match outcomes.\n",
    "2. **Data Processing**: Clean and format the scraped data to ensure it is suitable for analysis and model training.\n",
    "3. **Database Insertion**: Store the cleaned data in the `completed_matches` table within our database.\n",
    "4. **Chrome Web Driver**: Make sure to download and install Chrome Webdriver.\n",
    "\n",
    "\n",
    "## Requirements\n",
    "\n",
    "- Python 3.x\n",
    "- Libraries: `selenium`, `sklearn`, `pandas`, `sqlalchemy`, `re`\n",
    "- pymysql installed\n",
    "- MYSQL Workbench\n",
    "- Access to the database where the `completed_matches` table and `training_data` is located\n",
    "\n",
    "## Notes\n",
    "\n",
    "- Ensure you have the correct database credentials set up before running this notebook.\n",
    "- This notebook should be run weekly to keep the `completed_matches` table updated with the latest match results.\n",
    "- training_data is a joint table of `completed_matches` and `previous_league_table_standings` from your DB.\n"
   ]
  },
  {
   "cell_type": "markdown",
   "id": "9423655a",
   "metadata": {},
   "source": [
    "### Setup and Imports:"
   ]
  },
  {
   "cell_type": "code",
   "execution_count": 3,
   "id": "e11f6bb8-57f6-4ee5-a147-fa5ea9ac75ea",
   "metadata": {},
   "outputs": [
    {
     "name": "stdout",
     "output_type": "stream",
     "text": [
      "Requirement already satisfied: pandas in c:\\users\\kevin\\anaconda3\\envs\\betting_prediction_model\\lib\\site-packages (2.2.2)\n",
      "Requirement already satisfied: numpy>=1.26.0 in c:\\users\\kevin\\anaconda3\\envs\\betting_prediction_model\\lib\\site-packages (from pandas) (2.0.0)\n",
      "Requirement already satisfied: python-dateutil>=2.8.2 in c:\\users\\kevin\\anaconda3\\envs\\betting_prediction_model\\lib\\site-packages (from pandas) (2.9.0.post0)\n",
      "Requirement already satisfied: pytz>=2020.1 in c:\\users\\kevin\\anaconda3\\envs\\betting_prediction_model\\lib\\site-packages (from pandas) (2024.1)\n",
      "Requirement already satisfied: tzdata>=2022.7 in c:\\users\\kevin\\anaconda3\\envs\\betting_prediction_model\\lib\\site-packages (from pandas) (2024.1)\n",
      "Requirement already satisfied: six>=1.5 in c:\\users\\kevin\\anaconda3\\envs\\betting_prediction_model\\lib\\site-packages (from python-dateutil>=2.8.2->pandas) (1.16.0)\n",
      "Requirement already satisfied: sqlalchemy in c:\\users\\kevin\\anaconda3\\envs\\betting_prediction_model\\lib\\site-packages (2.0.31)\n",
      "Requirement already satisfied: typing-extensions>=4.6.0 in c:\\users\\kevin\\anaconda3\\envs\\betting_prediction_model\\lib\\site-packages (from sqlalchemy) (4.11.0)\n",
      "Requirement already satisfied: greenlet!=0.4.17 in c:\\users\\kevin\\anaconda3\\envs\\betting_prediction_model\\lib\\site-packages (from sqlalchemy) (3.0.3)\n",
      "Requirement already satisfied: scikit-learn in c:\\users\\kevin\\anaconda3\\envs\\betting_prediction_model\\lib\\site-packages (1.5.0)\n",
      "Requirement already satisfied: numpy>=1.19.5 in c:\\users\\kevin\\anaconda3\\envs\\betting_prediction_model\\lib\\site-packages (from scikit-learn) (2.0.0)\n",
      "Requirement already satisfied: scipy>=1.6.0 in c:\\users\\kevin\\anaconda3\\envs\\betting_prediction_model\\lib\\site-packages (from scikit-learn) (1.14.0)\n",
      "Requirement already satisfied: joblib>=1.2.0 in c:\\users\\kevin\\anaconda3\\envs\\betting_prediction_model\\lib\\site-packages (from scikit-learn) (1.4.2)\n",
      "Requirement already satisfied: threadpoolctl>=3.1.0 in c:\\users\\kevin\\anaconda3\\envs\\betting_prediction_model\\lib\\site-packages (from scikit-learn) (3.5.0)\n"
     ]
    }
   ],
   "source": [
    "!pip install pandas\n",
    "!pip install sqlalchemy\n",
    "!pip install scikit-learn"
   ]
  },
  {
   "cell_type": "code",
   "execution_count": 1,
   "id": "97be6bc2",
   "metadata": {},
   "outputs": [],
   "source": [
    "from selenium import webdriver\n",
    "import pandas as pd\n",
    "from sqlalchemy import create_engine\n",
    "import re\n",
    "from sklearn.preprocessing import LabelEncoder\n",
    "# from modules import team_labels_forebet\n",
    "\n",
    "from selenium import webdriver\n",
    "from selenium.webdriver.common.by import By\n",
    "from selenium.webdriver.chrome.service import Service\n",
    "from selenium.webdriver.chrome.options import Options\n",
    "from selenium.webdriver.support.ui import WebDriverWait\n",
    "from selenium.webdriver.support import expected_conditions as EC"
   ]
  },
  {
   "cell_type": "code",
   "execution_count": 2,
   "id": "07b7b029-1399-4181-ab9b-ffcc4e308c8c",
   "metadata": {},
   "outputs": [],
   "source": [
    "# TEAM LABELS\n",
    "team_labels_forebet = {\n",
    "        'Arsenal': 1,\n",
    "        'Aston Villa': 2,\n",
    "        'Bournemouth': 3,\n",
    "        'Brentford': 4,\n",
    "        'Brighton': 5,\n",
    "        'Burnley': 6,\n",
    "        'Chelsea': 7,\n",
    "        'Crystal Palace': 8,\n",
    "        'Everton': 9,\n",
    "        'Fulham': 10,\n",
    "        'Ipswich Town':11,\n",
    "        'Leeds United': 12,\n",
    "        'Leicester City': 13,\n",
    "        'Liverpool': 14,\n",
    "        'Manchester City': 15,\n",
    "        'Manchester United': 16,\n",
    "        'Newcastle United': 17,\n",
    "        'Norwich City': 18,\n",
    "        'Sheffield United': 19,\n",
    "        'Southampton': 20,\n",
    "        'Tottenham': 21,\n",
    "        'West Ham': 22,\n",
    "        'Luton Town': 23,\n",
    "        'Wolverhampton': 24,\n",
    "        'Sheffield United': 25,\n",
    "        'Nottingham Forest': 26,\n",
    "    }"
   ]
  },
  {
   "cell_type": "markdown",
   "id": "bad24a7b",
   "metadata": {},
   "source": [
    "### Scraping Data:"
   ]
  },
  {
   "cell_type": "code",
   "execution_count": 3,
   "id": "f9f67512-f770-469c-919d-9481b1f094a0",
   "metadata": {},
   "outputs": [
    {
     "name": "stdout",
     "output_type": "stream",
     "text": [
      "Clicked the consent button!\n"
     ]
    }
   ],
   "source": [
    "# Set up the Chrome driver\n",
    "chrome_options = Options()\n",
    "chrome_options.add_argument(\"--start-maximized\")  # Opens browser in full-screen\n",
    "driver = webdriver.Chrome(options=chrome_options)\n",
    "\n",
    "# Set the window size (optional, depends on your need)\n",
    "driver.set_window_size(1920, 1080)\n",
    "\n",
    "# Open the Forebet predictions page for the English Premier League\n",
    "driver.get('https://www.forebet.com/en/football-tips-and-predictions-for-england/premier-league')\n",
    "\n",
    "# Add a wait to ensure the element is present\n",
    "try:\n",
    "    # Wait for the consent pop-up and click the consent button\n",
    "    consent_button = WebDriverWait(driver, 3).until(\n",
    "        EC.element_to_be_clickable((By.XPATH, \"//p[@class='fc-button-label' and text()='Consent']\"))\n",
    "    )\n",
    "    consent_button.click()\n",
    "    print(\"Clicked the consent button!\")\n",
    "except Exception as e:\n",
    "    print(f\"Error: {e}\")\n",
    "\n"
   ]
  },
  {
   "cell_type": "code",
   "execution_count": 4,
   "id": "5269ea6e",
   "metadata": {},
   "outputs": [
    {
     "name": "stdout",
     "output_type": "stream",
     "text": [
      "[<selenium.webdriver.remote.webelement.WebElement (session=\"8224b754e4c1b098948411866df9cdcc\", element=\"f.35C03F2918D37A093C25509943053552.d.9DBBA03A632C71FCBB550009FC3816AE.e.566\")>, <selenium.webdriver.remote.webelement.WebElement (session=\"8224b754e4c1b098948411866df9cdcc\", element=\"f.35C03F2918D37A093C25509943053552.d.9DBBA03A632C71FCBB550009FC3816AE.e.567\")>, <selenium.webdriver.remote.webelement.WebElement (session=\"8224b754e4c1b098948411866df9cdcc\", element=\"f.35C03F2918D37A093C25509943053552.d.9DBBA03A632C71FCBB550009FC3816AE.e.568\")>]\n"
     ]
    }
   ],
   "source": [
    "# Now find the fixture containers within the body element\n",
    "match_fixture_containers = driver.find_elements(\"class name\", \"schema\")\n",
    "print(match_fixture_containers)"
   ]
  },
  {
   "cell_type": "code",
   "execution_count": 5,
   "id": "88c06f6a",
   "metadata": {},
   "outputs": [
    {
     "name": "stdout",
     "output_type": "stream",
     "text": [
      "Round 7\n",
      "EPL\n",
      "Crystal Palace\n",
      "Liverpool\n",
      "5/10/2024 12:30\n",
      "14167121 - 22.9017°1/2\n",
      "PRE\n",
      "VIEW\n",
      "0.13\n",
      "EPL\n",
      "Arsenal\n",
      "Southampton\n",
      "5/10/2024 15:00\n",
      "7318913 - 03.4916°1/10\n",
      "PRE\n",
      "VIEW\n",
      "EPL\n",
      "Brentford\n",
      "Wolverhampton\n",
      "5/10/2024 15:00\n",
      "55281713 - 02.8316°19/20\n",
      "PRE\n",
      "VIEW\n",
      "0.08\n",
      "EPL\n",
      "Leicester City\n",
      "Bournemouth\n",
      "5/10/2024 15:00\n",
      "264034X1 - 12.3016°13/5\n",
      "PRE\n",
      "VIEW\n",
      "0.17\n",
      "EPL\n",
      "Manchester City\n",
      "Fulham\n",
      "5/10/2024 15:00\n",
      "384023X2 - 22.9416°5/1\n",
      "PRE\n",
      "VIEW\n",
      "0.28\n",
      "EPL\n",
      "West Ham\n",
      "Ipswich Town\n",
      "5/10/2024 15:00\n",
      "255026X1 - 12.3016°11/4\n",
      "PRE\n",
      "VIEW\n",
      "0.32\n",
      "EPL\n",
      "Everton\n",
      "Newcastle United\n",
      "5/10/2024 17:30\n",
      "28294321 - 23.3613°23/20\n",
      "PRE\n",
      "VIEW\n",
      "EPL\n",
      "Aston Villa\n",
      "Manchester United\n",
      "6/10/2024 14:00\n",
      "41253412 - 12.8814°23/20\n",
      "PRE\n",
      "VIEW\n",
      "EPL\n",
      "Chelsea\n",
      "Nottingham Forest\n",
      "6/10/2024 14:00\n",
      "333730X2 - 23.1917°33/10\n",
      "PRE\n",
      "VIEW\n",
      "0.18\n",
      "EPL\n",
      "Brighton\n",
      "Tottenham\n",
      "6/10/2024 16:30\n",
      "27343821 - 22.5016°6/5\n",
      "PRE\n",
      "VIEW\n",
      "Round 6\n",
      "EPL\n",
      "Newcastle United\n",
      "Manchester City\n",
      "28/9/2024 12:30\n",
      "22285021 - 33.2412°3/5 FT 1 - 1\n",
      "(0 - 1)\n",
      "EPL\n",
      "Arsenal\n",
      "Leicester City\n",
      "28/9/2024 15:00\n",
      "5538712 - 13.0214°1/5 FT 4 - 2\n",
      "(2 - 0)\n",
      "EPL\n",
      "Brentford\n",
      "West Ham\n",
      "28/9/2024 15:00\n",
      "42302712 - 12.7214°5/4 FT 1 - 1\n",
      "(1 - 0)\n",
      "EPL\n",
      "Chelsea\n",
      "Brighton\n",
      "28/9/2024 15:00\n",
      "204832X1 - 12.3414°3/1 FT 4 - 2\n",
      "(4 - 2)\n",
      "0.31\n",
      "EPL\n",
      "Everton\n",
      "Crystal Palace\n",
      "28/9/2024 15:00\n",
      "304525X1 - 12.0013°12/5 FT 2 - 1\n",
      "(0 - 1)\n",
      "0.22\n",
      "EPL\n",
      "Nottingham Forest\n",
      "Fulham\n",
      "28/9/2024 15:00\n",
      "274725X1 - 12.3013°12/5 FT 0 - 1\n",
      "(0 - 0)\n",
      "0.25\n",
      "EPL\n",
      "Wolverhampton\n",
      "Liverpool\n",
      "28/9/2024 17:30\n",
      "1388021 - 33.4812°2/5 FT 1 - 2\n",
      "(0 - 1)\n",
      "0.24\n",
      "EPL\n",
      "Ipswich Town\n",
      "Aston Villa\n",
      "29/9/2024 14:00\n",
      "11206920 - 22.3413°9/10 FT 2 - 2\n",
      "(1 - 2)\n",
      "0.35\n",
      "EPL\n",
      "Manchester United\n",
      "Tottenham\n",
      "29/9/2024 16:30\n",
      "39352612 - 12.8713°5/4 FT 0 - 3\n",
      "(0 - 1)\n",
      "EPL\n",
      "Bournemouth\n",
      "Southampton\n",
      "30/9/2024 20:00\n",
      "43332311 - 02.3513°3/5 FT 3 - 1\n",
      "(3 - 0)\n",
      "EPL\n",
      "Manchester City\n",
      "Fulham\n",
      "5/10/2024 15:00\n",
      "X\n",
      "Fr1\n",
      "Rennes\n",
      "Monaco\n",
      "5/10/2024 20:00\n",
      "2\n"
     ]
    }
   ],
   "source": [
    "# Initialize an empty list to store fixture details\n",
    "fixtures_container = []\n",
    "\n",
    "\n",
    "# Iterate through each match fixture container\n",
    "for fixture in match_fixture_containers:\n",
    "    # Extract the text from the fixture container\n",
    "    fixture_text = fixture.text\n",
    "    # Append the extracted text to the fixtures_container list\n",
    "    fixtures_container.append(fixture_text)\n",
    "    # Print the extracted fixture text\n",
    "    print(fixture_text)\n"
   ]
  },
  {
   "cell_type": "code",
   "execution_count": 6,
   "id": "242ae1af",
   "metadata": {},
   "outputs": [],
   "source": [
    "# Closes the webdriver and forebet page\n",
    "driver.quit()"
   ]
  },
  {
   "cell_type": "code",
   "execution_count": 7,
   "id": "6d7c8d28",
   "metadata": {},
   "outputs": [
    {
     "data": {
      "text/plain": [
       "['Round 7\\nEPL\\nCrystal Palace\\nLiverpool\\n5/10/2024 12:30\\n14167121 - 22.9017°1/2\\nPRE\\nVIEW\\n0.13\\nEPL\\nArsenal\\nSouthampton\\n5/10/2024 15:00\\n7318913 - 03.4916°1/10\\nPRE\\nVIEW\\nEPL\\nBrentford\\nWolverhampton\\n5/10/2024 15:00\\n55281713 - 02.8316°19/20\\nPRE\\nVIEW\\n0.08\\nEPL\\nLeicester City\\nBournemouth\\n5/10/2024 15:00\\n264034X1 - 12.3016°13/5\\nPRE\\nVIEW\\n0.17\\nEPL\\nManchester City\\nFulham\\n5/10/2024 15:00\\n384023X2 - 22.9416°5/1\\nPRE\\nVIEW\\n0.28\\nEPL\\nWest Ham\\nIpswich Town\\n5/10/2024 15:00\\n255026X1 - 12.3016°11/4\\nPRE\\nVIEW\\n0.32\\nEPL\\nEverton\\nNewcastle United\\n5/10/2024 17:30\\n28294321 - 23.3613°23/20\\nPRE\\nVIEW\\nEPL\\nAston Villa\\nManchester United\\n6/10/2024 14:00\\n41253412 - 12.8814°23/20\\nPRE\\nVIEW\\nEPL\\nChelsea\\nNottingham Forest\\n6/10/2024 14:00\\n333730X2 - 23.1917°33/10\\nPRE\\nVIEW\\n0.18\\nEPL\\nBrighton\\nTottenham\\n6/10/2024 16:30\\n27343821 - 22.5016°6/5\\nPRE\\nVIEW\\nRound 6\\nEPL\\nNewcastle United\\nManchester City\\n28/9/2024 12:30\\n22285021 - 33.2412°3/5 FT 1 - 1\\n(0 - 1)\\nEPL\\nArsenal\\nLeicester City\\n28/9/2024 15:00\\n5538712 - 13.0214°1/5 FT 4 - 2\\n(2 - 0)\\nEPL\\nBrentford\\nWest Ham\\n28/9/2024 15:00\\n42302712 - 12.7214°5/4 FT 1 - 1\\n(1 - 0)\\nEPL\\nChelsea\\nBrighton\\n28/9/2024 15:00\\n204832X1 - 12.3414°3/1 FT 4 - 2\\n(4 - 2)\\n0.31\\nEPL\\nEverton\\nCrystal Palace\\n28/9/2024 15:00\\n304525X1 - 12.0013°12/5 FT 2 - 1\\n(0 - 1)\\n0.22\\nEPL\\nNottingham Forest\\nFulham\\n28/9/2024 15:00\\n274725X1 - 12.3013°12/5 FT 0 - 1\\n(0 - 0)\\n0.25\\nEPL\\nWolverhampton\\nLiverpool\\n28/9/2024 17:30\\n1388021 - 33.4812°2/5 FT 1 - 2\\n(0 - 1)\\n0.24\\nEPL\\nIpswich Town\\nAston Villa\\n29/9/2024 14:00\\n11206920 - 22.3413°9/10 FT 2 - 2\\n(1 - 2)\\n0.35\\nEPL\\nManchester United\\nTottenham\\n29/9/2024 16:30\\n39352612 - 12.8713°5/4 FT 0 - 3\\n(0 - 1)\\nEPL\\nBournemouth\\nSouthampton\\n30/9/2024 20:00\\n43332311 - 02.3513°3/5 FT 3 - 1\\n(3 - 0)',\n",
       " 'EPL\\nManchester City\\nFulham\\n5/10/2024 15:00\\nX',\n",
       " 'Fr1\\nRennes\\nMonaco\\n5/10/2024 20:00\\n2']"
      ]
     },
     "execution_count": 7,
     "metadata": {},
     "output_type": "execute_result"
    }
   ],
   "source": [
    "fixtures_container"
   ]
  },
  {
   "cell_type": "markdown",
   "id": "bfc43c53",
   "metadata": {},
   "source": [
    "### Data Cleaning and Processing"
   ]
  },
  {
   "cell_type": "code",
   "execution_count": 8,
   "id": "80e79ef6",
   "metadata": {},
   "outputs": [
    {
     "data": {
      "text/plain": [
       "['Round 7',\n",
       " '\\nCrystal Palace\\nLiverpool\\n5/10/2024 12:30\\n14167121 - 22.9017°1/2\\nPRE\\nVIEW\\n0.13',\n",
       " '\\nArsenal\\nSouthampton\\n5/10/2024 15:00\\n7318913 - 03.4916°1/10\\nPRE\\nVIEW',\n",
       " '\\nBrentford\\nWolverhampton\\n5/10/2024 15:00\\n55281713 - 02.8316°19/20\\nPRE\\nVIEW\\n0.08',\n",
       " '\\nLeicester City\\nBournemouth\\n5/10/2024 15:00\\n264034X1 - 12.3016°13/5\\nPRE\\nVIEW\\n0.17',\n",
       " '\\nManchester City\\nFulham\\n5/10/2024 15:00\\n384023X2 - 22.9416°5/1\\nPRE\\nVIEW\\n0.28',\n",
       " '\\nWest Ham\\nIpswich Town\\n5/10/2024 15:00\\n255026X1 - 12.3016°11/4\\nPRE\\nVIEW\\n0.32',\n",
       " '\\nEverton\\nNewcastle United\\n5/10/2024 17:30\\n28294321 - 23.3613°23/20\\nPRE\\nVIEW',\n",
       " '\\nAston Villa\\nManchester United\\n6/10/2024 14:00\\n41253412 - 12.8814°23/20\\nPRE\\nVIEW',\n",
       " '\\nChelsea\\nNottingham Forest\\n6/10/2024 14:00\\n333730X2 - 23.1917°33/10\\nPRE\\nVIEW\\n0.18',\n",
       " '\\nBrighton\\nTottenham\\n6/10/2024 16:30\\n27343821 - 22.5016°6/5\\nPRE\\nVIEW\\nRound 6',\n",
       " '\\nNewcastle United\\nManchester City\\n28/9/2024 12:30\\n22285021 - 33.2412°3/5 FT 1 - 1\\n(0 - 1)',\n",
       " '\\nArsenal\\nLeicester City\\n28/9/2024 15:00\\n5538712 - 13.0214°1/5 FT 4 - 2\\n(2 - 0)',\n",
       " '\\nBrentford\\nWest Ham\\n28/9/2024 15:00\\n42302712 - 12.7214°5/4 FT 1 - 1\\n(1 - 0)',\n",
       " '\\nChelsea\\nBrighton\\n28/9/2024 15:00\\n204832X1 - 12.3414°3/1 FT 4 - 2\\n(4 - 2)\\n0.31',\n",
       " '\\nEverton\\nCrystal Palace\\n28/9/2024 15:00\\n304525X1 - 12.0013°12/5 FT 2 - 1\\n(0 - 1)\\n0.22',\n",
       " '\\nNottingham Forest\\nFulham\\n28/9/2024 15:00\\n274725X1 - 12.3013°12/5 FT 0 - 1\\n(0 - 0)\\n0.25',\n",
       " '\\nWolverhampton\\nLiverpool\\n28/9/2024 17:30\\n1388021 - 33.4812°2/5 FT 1 - 2\\n(0 - 1)\\n0.24',\n",
       " '\\nIpswich Town\\nAston Villa\\n29/9/2024 14:00\\n11206920 - 22.3413°9/10 FT 2 - 2\\n(1 - 2)\\n0.35',\n",
       " '\\nManchester United\\nTottenham\\n29/9/2024 16:30\\n39352612 - 12.8713°5/4 FT 0 - 3\\n(0 - 1)',\n",
       " '\\nBournemouth\\nSouthampton\\n30/9/2024 20:00\\n43332311 - 02.3513°3/5 FT 3 - 1\\n(3 - 0)']"
      ]
     },
     "execution_count": 8,
     "metadata": {},
     "output_type": "execute_result"
    }
   ],
   "source": [
    "# Luckily the data has \\nEpl which we can use to separate epl matches from other leagues.\n",
    "matches_data_cleaned_step_1 = [match.split(\"\\nEPL\") for match in fixtures_container]\n",
    "epl_matches = matches_data_cleaned_step_1[0]\n",
    "epl_matches"
   ]
  },
  {
   "cell_type": "code",
   "execution_count": 9,
   "id": "c490cdf5",
   "metadata": {},
   "outputs": [
    {
     "data": {
      "text/plain": [
       "6"
      ]
     },
     "execution_count": 9,
     "metadata": {},
     "output_type": "execute_result"
    }
   ],
   "source": [
    "# Extract the current weekly round from the first index in epl_matches\n",
    "weekly_round = epl_matches[0]\n",
    "# Split the string to get the number, and subtract by 1. Note Do not subtract by 1 if its the first week of the season\n",
    "weekly_round = int(weekly_round.split(' ')[1])  - 1\n",
    "weekly_round"
   ]
  },
  {
   "cell_type": "markdown",
   "id": "c6534752",
   "metadata": {},
   "source": [
    "#### Brief Notes:\n",
    "The page separates Upcoming matches from Completed matches using 'Round'. We use this Round Number to confirm if we are getting the right data. Also i append it in the dataframe at the end of the notebook to help double check when working with aggregated data in the DataBase"
   ]
  },
  {
   "cell_type": "code",
   "execution_count": 10,
   "id": "72facff4",
   "metadata": {},
   "outputs": [
    {
     "name": "stdout",
     "output_type": "stream",
     "text": [
      "Completed Matches:\n",
      "['\\nNewcastle United\\nManchester City\\n28/9/2024 12:30\\n22285021 - 33.2412°3/5 FT 1 - 1\\n(0 - 1)', '\\nArsenal\\nLeicester City\\n28/9/2024 15:00\\n5538712 - 13.0214°1/5 FT 4 - 2\\n(2 - 0)', '\\nBrentford\\nWest Ham\\n28/9/2024 15:00\\n42302712 - 12.7214°5/4 FT 1 - 1\\n(1 - 0)', '\\nChelsea\\nBrighton\\n28/9/2024 15:00\\n204832X1 - 12.3414°3/1 FT 4 - 2\\n(4 - 2)\\n0.31', '\\nEverton\\nCrystal Palace\\n28/9/2024 15:00\\n304525X1 - 12.0013°12/5 FT 2 - 1\\n(0 - 1)\\n0.22', '\\nNottingham Forest\\nFulham\\n28/9/2024 15:00\\n274725X1 - 12.3013°12/5 FT 0 - 1\\n(0 - 0)\\n0.25', '\\nWolverhampton\\nLiverpool\\n28/9/2024 17:30\\n1388021 - 33.4812°2/5 FT 1 - 2\\n(0 - 1)\\n0.24', '\\nIpswich Town\\nAston Villa\\n29/9/2024 14:00\\n11206920 - 22.3413°9/10 FT 2 - 2\\n(1 - 2)\\n0.35', '\\nManchester United\\nTottenham\\n29/9/2024 16:30\\n39352612 - 12.8713°5/4 FT 0 - 3\\n(0 - 1)', '\\nBournemouth\\nSouthampton\\n30/9/2024 20:00\\n43332311 - 02.3513°3/5 FT 3 - 1\\n(3 - 0)']\n"
     ]
    }
   ],
   "source": [
    "completed_matches = []\n",
    "\n",
    "for match in epl_matches:\n",
    "    if 'FT' in match:  # Check if 'FT' (full-time) is present in the match string\n",
    "        completed_matches.append(match)\n",
    "\n",
    "print(\"Completed Matches:\")\n",
    "print(completed_matches)"
   ]
  },
  {
   "cell_type": "markdown",
   "id": "ece5464d",
   "metadata": {},
   "source": [
    "#### Now we can remove `PREVIEW` if only it exists"
   ]
  },
  {
   "cell_type": "code",
   "execution_count": 11,
   "id": "b9487a76",
   "metadata": {},
   "outputs": [],
   "source": [
    "# Remove '\\nPRE\\nVIEW' from completed matches\n",
    "completed_matches = [match.replace('\\nPRE\\nVIEW', '') for match in completed_matches]"
   ]
  },
  {
   "cell_type": "code",
   "execution_count": 12,
   "id": "9643ee8a",
   "metadata": {},
   "outputs": [
    {
     "name": "stdout",
     "output_type": "stream",
     "text": [
      "\n",
      "Completed Matches (after removing noise):\n",
      "\n",
      "['\\nNewcastle United\\nManchester City\\n28/9/2024 12:30\\n22285021 - 33.2412°3/5 FT 1 - 1\\n(0 - 1)', '\\nArsenal\\nLeicester City\\n28/9/2024 15:00\\n5538712 - 13.0214°1/5 FT 4 - 2\\n(2 - 0)', '\\nBrentford\\nWest Ham\\n28/9/2024 15:00\\n42302712 - 12.7214°5/4 FT 1 - 1\\n(1 - 0)', '\\nChelsea\\nBrighton\\n28/9/2024 15:00\\n204832X1 - 12.3414°3/1 FT 4 - 2\\n(4 - 2)\\n0.31', '\\nEverton\\nCrystal Palace\\n28/9/2024 15:00\\n304525X1 - 12.0013°12/5 FT 2 - 1\\n(0 - 1)\\n0.22', '\\nNottingham Forest\\nFulham\\n28/9/2024 15:00\\n274725X1 - 12.3013°12/5 FT 0 - 1\\n(0 - 0)\\n0.25', '\\nWolverhampton\\nLiverpool\\n28/9/2024 17:30\\n1388021 - 33.4812°2/5 FT 1 - 2\\n(0 - 1)\\n0.24', '\\nIpswich Town\\nAston Villa\\n29/9/2024 14:00\\n11206920 - 22.3413°9/10 FT 2 - 2\\n(1 - 2)\\n0.35', '\\nManchester United\\nTottenham\\n29/9/2024 16:30\\n39352612 - 12.8713°5/4 FT 0 - 3\\n(0 - 1)', '\\nBournemouth\\nSouthampton\\n30/9/2024 20:00\\n43332311 - 02.3513°3/5 FT 3 - 1\\n(3 - 0)']\n"
     ]
    }
   ],
   "source": [
    "print(\"\\nCompleted Matches (after removing noise):\\n\")\n",
    "print(completed_matches)"
   ]
  },
  {
   "cell_type": "markdown",
   "id": "4028d030-cec4-48f9-b6fb-07099c988b66",
   "metadata": {},
   "source": [
    "Note.\n",
    "\n",
    "on 10/3/2024\n",
    "i experienced a use case where the probabilities differ, in terms of length and expectation\n",
    "usually we have double digits for home draw and away.\n",
    "but in the case below Arsenal had a win probability of 55 and a draw of 38 leaving only room for a single digit to represent away win probability. This shifts the values hence previous regex operations do not pass this use case."
   ]
  },
  {
   "cell_type": "code",
   "execution_count": null,
   "id": "e468a8da-efa2-4ec8-b0ae-60cdc8c14946",
   "metadata": {},
   "outputs": [],
   "source": [
    "'\\nNewcastle United\\nManchester City\\n28/9/2024 12:30\\n(22)(28)(50)(2)(1 - 3)3.2412°3/5 FT 1 - 1\\n(0 - 1)', \n",
    "'\\nArsenal\\nLeicester City\\n28/9/2024 15:00\\n55)(38)(7)(1) (2 - 1)3.0214°1/5 FT 4 - 2\\n(2 - 0)', \n",
    "\n",
    "\n"
   ]
  },
  {
   "cell_type": "code",
   "execution_count": null,
   "id": "162f9cc3-405f-4085-96e4-65dbbc0bd859",
   "metadata": {},
   "outputs": [],
   "source": [
    "Solution\n",
    "Hard Coding for now. Put zeros before the single \n",
    "['\\nArsenal\\nSouthampton\\n5/10/2024 15:00\\n7318913 - 03.4916°1/10\\nPRE\\nVIEW']\n",
    "['\\nWolverhampton\\nLiverpool\\n28/9/2024 17:30\\n1388021 - 33.4812°2/5 FT 1 - 2\\n(0 - 1)\\n0.24']"
   ]
  },
  {
   "cell_type": "code",
   "execution_count": 13,
   "id": "daeb4ffb-2483-405f-a232-7e8dd9204a4f",
   "metadata": {},
   "outputs": [
    {
     "name": "stdout",
     "output_type": "stream",
     "text": [
      "\n",
      "Newcastle United\n",
      "Manchester City\n",
      "28/9/2024 12:30\n",
      "22\n",
      "28\n",
      "50\n",
      "2\n",
      "1 - 3\n",
      "3.24\n",
      "12°\n",
      "1.6\n",
      "FT 1 - 1\n",
      "(0 - 1)\n",
      "\n",
      "Arsenal\n",
      "Leicester City\n",
      "28/9/2024 15:00\n",
      "55\n",
      "38\n",
      "07\n",
      "1\n",
      "2 - 1\n",
      "3.02\n",
      "14°\n",
      "1.2\n",
      "FT 4 - 2\n",
      "(2 - 0)\n",
      "\n",
      "Brentford\n",
      "West Ham\n",
      "28/9/2024 15:00\n",
      "42\n",
      "30\n",
      "27\n",
      "1\n",
      "2 - 1\n",
      "2.72\n",
      "14°\n",
      "2.25\n",
      "FT 1 - 1\n",
      "(1 - 0)\n",
      "\n",
      "Chelsea\n",
      "Brighton\n",
      "28/9/2024 15:00\n",
      "20\n",
      "48\n",
      "32\n",
      "X\n",
      "1 - 1\n",
      "2.34\n",
      "14°\n",
      "4.0\n",
      "FT 4 - 2\n",
      "(4 - 2)\n",
      "0.31\n",
      "\n",
      "Everton\n",
      "Crystal Palace\n",
      "28/9/2024 15:00\n",
      "30\n",
      "45\n",
      "25\n",
      "X\n",
      "1 - 1\n",
      "2.00\n",
      "13°\n",
      "3.4\n",
      "FT 2 - 1\n",
      "(0 - 1)\n",
      "0.22\n",
      "\n",
      "Nottingham Forest\n",
      "Fulham\n",
      "28/9/2024 15:00\n",
      "27\n",
      "47\n",
      "25\n",
      "X\n",
      "1 - 1\n",
      "2.30\n",
      "13°\n",
      "3.4\n",
      "FT 0 - 1\n",
      "(0 - 0)\n",
      "0.25\n",
      "\n",
      "Wolverhampton\n",
      "Liverpool\n",
      "28/9/2024 17:30\n",
      "13\n",
      "08\n",
      "80\n",
      "2\n",
      "1 - 3\n",
      "3.48\n",
      "12°\n",
      "1.4\n",
      "FT 1 - 2\n",
      "(0 - 1)\n",
      "0.24\n",
      "\n",
      "Ipswich Town\n",
      "Aston Villa\n",
      "29/9/2024 14:00\n",
      "11\n",
      "20\n",
      "69\n",
      "2\n",
      "0 - 2\n",
      "2.34\n",
      "13°\n",
      "1.9\n",
      "FT 2 - 2\n",
      "(1 - 2)\n",
      "0.35\n",
      "\n",
      "Manchester United\n",
      "Tottenham\n",
      "29/9/2024 16:30\n",
      "39\n",
      "35\n",
      "26\n",
      "1\n",
      "2 - 1\n",
      "2.87\n",
      "13°\n",
      "2.25\n",
      "FT 0 - 3\n",
      "(0 - 1)\n",
      "\n",
      "Bournemouth\n",
      "Southampton\n",
      "30/9/2024 20:00\n",
      "43\n",
      "33\n",
      "23\n",
      "1\n",
      "1 - 0\n",
      "2.35\n",
      "13°\n",
      "1.6\n",
      "FT 3 - 1\n",
      "(3 - 0)\n"
     ]
    }
   ],
   "source": [
    "import re\n",
    "from itertools import permutations\n",
    "\n",
    "def insert_zero_and_validate(number_string):\n",
    "    # Convert the string into a list of integers\n",
    "    digits = [int(digit) for digit in number_string]\n",
    "    \n",
    "    # Check different groupings by inserting '0' in each possible spot\n",
    "    for i in range(1, len(digits)):\n",
    "        # Create a new list with a '0' inserted at position i\n",
    "        new_digits = digits[:i] + [0] + digits[i:]\n",
    "        \n",
    "        # Now we use static indices for the grouping\n",
    "        # Group digits as: (index 0 and 1), (index 2 and 3), (index 4 and 5)\n",
    "        first_group = int(\"\".join(map(str, new_digits[:2])))  # 1st and 2nd digits\n",
    "        second_group = int(\"\".join(map(str, new_digits[2:4])))  # 3rd and 4th digits\n",
    "        third_group = int(\"\".join(map(str, new_digits[4:6])))  # 5th and 6th digits\n",
    "        \n",
    "        # Sum of the three groups\n",
    "        total = first_group + second_group + third_group\n",
    "        \n",
    "        # Check if the total is close to 100 (with margin of error of 1)\n",
    "        if abs(100 - total) <= 1:\n",
    "            return \"\".join(map(str, new_digits))\n",
    "    \n",
    "    return \"No valid grouping found\"\n",
    "def extract_and_correct_probabilities(text):\n",
    "    \"\"\"\n",
    "    This function extracts the probability portion of each match, corrects for any single digits, \n",
    "    and returns the updated probability string.\n",
    "    \"\"\"\n",
    "    # Extract the portion before the dash\n",
    "    prob_pattern = r'\\n(\\d+)\\s-\\s'  # Updated to capture 5 or 6 digit probabilities\n",
    "    \n",
    "    match = re.search(prob_pattern, text)\n",
    "    if match:\n",
    "        prob_str = match.group(1)  # The part containing probabilities\n",
    "        \n",
    "        if len(prob_str) < 8:\n",
    "            # Handle the case where the probability string needs correction\n",
    "            prob_str = prob_str[:-2]\n",
    "            valid_probabilities = insert_zero_and_validate(prob_str)\n",
    "            if valid_probabilities:\n",
    "                # Replace the old probability string with the corrected one\n",
    "                text = text.replace(prob_str, valid_probabilities)\n",
    "    \n",
    "    return text\n",
    "\n",
    "def fractional_to_decimal(fractional):\n",
    "    \"\"\"\n",
    "    Converts fractional odds to decimal odds.\n",
    "    Example: '11/10' -> 2.10\n",
    "    \"\"\"\n",
    "    try:\n",
    "        numerator, denominator = map(int, fractional.split('/'))\n",
    "        return round((numerator / denominator) + 1, 2)\n",
    "    except Exception as e:\n",
    "        print(f\"Error converting fractional odds: {e}\")\n",
    "        return fractional\n",
    "\n",
    "def replace_completed_matches(text):\n",
    "    \"\"\"\n",
    "    This function applies the main regex to update the completed matches data.\n",
    "    \"\"\"\n",
    "    def replacement_function(match):\n",
    "        # Extract all groups from the regex\n",
    "        group1 = match.group(1)\n",
    "        group2 = match.group(2)\n",
    "        group3 = match.group(3)\n",
    "        group4 = match.group(4)\n",
    "        group5 = match.group(5)\n",
    "        group6 = match.group(6)\n",
    "        group7 = match.group(7)\n",
    "        decimal_odds = match.group(8)\n",
    "        group9 = match.group(9)\n",
    "\n",
    "        # If odds are in fractional format, convert them to decimal\n",
    "        if '/' in decimal_odds:\n",
    "            decimal_odds = fractional_to_decimal(decimal_odds)\n",
    "\n",
    "        # Rebuild the string with updated decimal odds for the 8th group\n",
    "        return f\"\\n{group1}\\n{group2}\\n{group3}\\n{group4}\\n{group5}\\n{group6}\\n{group7}\\n{decimal_odds}\\n{group9}\"\n",
    "\n",
    "    # Regular expression pattern for matching completed matches data, including both decimal and fractional odds.\n",
    "    pattern_completed_matches = r'\\n(\\d{2})(\\d{2})(\\d{2})([A-Z]|\\d?)(\\d?\\s-\\s\\d{1})(\\d{1}.\\d{2}|\\d{1,2}\\/\\d{1,2})(\\d{2}°|\\d{1}°)(\\d?.\\d{2}|\\d{1,2}\\/\\d{1,2})\\s(FT\\s\\d?\\s-\\s\\d?)'\n",
    "\n",
    "    # Perform the replacement on the text\n",
    "    return re.sub(pattern_completed_matches, replacement_function, text)\n",
    "\n",
    "\n",
    "# Step-by-step processing\n",
    "for i in range(len(completed_matches)):\n",
    "    # Step 1: Correct probabilities\n",
    "    completed_matches[i] = extract_and_correct_probabilities(completed_matches[i])\n",
    "    \n",
    "    # Step 2: Apply the main regex replacement\n",
    "    completed_matches[i] = replace_completed_matches(completed_matches[i])\n",
    "\n",
    "# Output the processed matches\n",
    "for match in completed_matches:\n",
    "    print(match)\n"
   ]
  },
  {
   "cell_type": "markdown",
   "id": "87fd035d",
   "metadata": {},
   "source": [
    "### REGEX: Preprocessing Completed matches array "
   ]
  },
  {
   "cell_type": "markdown",
   "id": "860d9a2e-5f14-4330-9e28-69a4d9133780",
   "metadata": {},
   "source": [
    "# v1.2\n",
    "After coming to the Uk, i realized forebet has different representations for odds. the uk system the american and the european, which africans also use."
   ]
  },
  {
   "cell_type": "code",
   "execution_count": 16,
   "id": "e89a4425-52ab-42c4-afd0-20f1d1539f21",
   "metadata": {},
   "outputs": [],
   "source": [
    "import re\n",
    "\n",
    "# Regular expression pattern for matching completed matches data, including both decimal and fractional odds.\n",
    "# Fractional odds are in the form a/b and need conversion\n",
    "pattern_completed_matches = r'\\n(\\d{2})(\\d{2})(\\d{2})([A-Z]|\\d?)(\\d?\\s-\\s\\d{1})(\\d{1}.\\d{2}|\\d{1,2}\\/\\d{1,2})(\\d{2}°|\\d{1}°)(\\d?.\\d{2}|\\d{1,2}\\/\\d{1,2})\\s(FT\\s\\d?\\s-\\s\\d?)'\n",
    "\n",
    "def fractional_to_decimal(fractional):\n",
    "    \"\"\"\n",
    "    Converts fractional odds to decimal odds.\n",
    "    Example: '11/10' -> 2.10\n",
    "    \"\"\"\n",
    "    try:\n",
    "        numerator, denominator = map(int, fractional.split('/'))\n",
    "        return round((numerator / denominator) + 1, 2)\n",
    "    except Exception as e:\n",
    "        print(f\"Error converting fractional odds: {e}\")\n",
    "        return fractional\n",
    "\n",
    "def replace_completed_matches(text):\n",
    "    def replacement_function(match):\n",
    "        # Extract all groups from the regex\n",
    "        group1 = match.group(1)\n",
    "        group2 = match.group(2)\n",
    "        group3 = match.group(3)\n",
    "        group4 = match.group(4)\n",
    "        group5 = match.group(5)\n",
    "        group6 = match.group(6)\n",
    "        group7 = match.group(7)\n",
    "        decimal_odds = match.group(8)\n",
    "        group9 = match.group(9)\n",
    "\n",
    "        # If odds are in fractional format, convert them to decimal\n",
    "        if '/' in decimal_odds:\n",
    "            decimal_odds = fractional_to_decimal(decimal_odds)\n",
    "\n",
    "        # Rebuild the string with updated decimal odds for the 8th group\n",
    "        return f\"\\n{group1}\\n{group2}\\n{group3}\\n{group4}\\n{group5}\\n{group6}\\n{group7}\\n{decimal_odds}\\n{group9}\"\n",
    "\n",
    "    # Perform the replacement on the text\n",
    "    return re.sub(pattern_completed_matches, replacement_function, text)\n",
    "\n",
    "\n",
    "\n",
    "\n",
    "# Process completed matches\n",
    "for i in range(len(completed_matches)):\n",
    "    completed_matches[i] = replace_completed_matches(completed_matches[i])\n"
   ]
  },
  {
   "cell_type": "code",
   "execution_count": 14,
   "id": "7e432772-db68-4669-a2f6-f736fd3767e5",
   "metadata": {},
   "outputs": [
    {
     "name": "stdout",
     "output_type": "stream",
     "text": [
      "\n",
      "Completed Matches (after removing noise):\n",
      "\n",
      "['\\nNewcastle United\\nManchester City\\n28/9/2024 12:30\\n22\\n28\\n50\\n2\\n1 - 3\\n3.24\\n12°\\n1.6\\nFT 1 - 1\\n(0 - 1)', '\\nArsenal\\nLeicester City\\n28/9/2024 15:00\\n55\\n38\\n07\\n1\\n2 - 1\\n3.02\\n14°\\n1.2\\nFT 4 - 2\\n(2 - 0)', '\\nBrentford\\nWest Ham\\n28/9/2024 15:00\\n42\\n30\\n27\\n1\\n2 - 1\\n2.72\\n14°\\n2.25\\nFT 1 - 1\\n(1 - 0)', '\\nChelsea\\nBrighton\\n28/9/2024 15:00\\n20\\n48\\n32\\nX\\n1 - 1\\n2.34\\n14°\\n4.0\\nFT 4 - 2\\n(4 - 2)\\n0.31', '\\nEverton\\nCrystal Palace\\n28/9/2024 15:00\\n30\\n45\\n25\\nX\\n1 - 1\\n2.00\\n13°\\n3.4\\nFT 2 - 1\\n(0 - 1)\\n0.22', '\\nNottingham Forest\\nFulham\\n28/9/2024 15:00\\n27\\n47\\n25\\nX\\n1 - 1\\n2.30\\n13°\\n3.4\\nFT 0 - 1\\n(0 - 0)\\n0.25', '\\nWolverhampton\\nLiverpool\\n28/9/2024 17:30\\n13\\n08\\n80\\n2\\n1 - 3\\n3.48\\n12°\\n1.4\\nFT 1 - 2\\n(0 - 1)\\n0.24', '\\nIpswich Town\\nAston Villa\\n29/9/2024 14:00\\n11\\n20\\n69\\n2\\n0 - 2\\n2.34\\n13°\\n1.9\\nFT 2 - 2\\n(1 - 2)\\n0.35', '\\nManchester United\\nTottenham\\n29/9/2024 16:30\\n39\\n35\\n26\\n1\\n2 - 1\\n2.87\\n13°\\n2.25\\nFT 0 - 3\\n(0 - 1)', '\\nBournemouth\\nSouthampton\\n30/9/2024 20:00\\n43\\n33\\n23\\n1\\n1 - 0\\n2.35\\n13°\\n1.6\\nFT 3 - 1\\n(3 - 0)']\n"
     ]
    }
   ],
   "source": [
    "print(\"\\nCompleted Matches (after removing noise):\\n\")\n",
    "print(completed_matches)"
   ]
  },
  {
   "cell_type": "markdown",
   "id": "1e7e0ac2-c275-4113-974a-da8dbe9844ba",
   "metadata": {},
   "source": [
    "# v.1\n",
    "old version for european system. Just leave it here for documentation"
   ]
  },
  {
   "cell_type": "code",
   "execution_count": 16,
   "id": "2c40a06e",
   "metadata": {},
   "outputs": [],
   "source": [
    "## Regular expression pattern for matching completed matches data\n",
    "## Example matched string: '\\n15196521 - 33.1921°1.25 FT 0 - 4'\n",
    "## This represents:\n",
    "## 15 - Probability of home team win\n",
    "## 19 - Probability of draw\n",
    "## 52 - Probability of away team win\n",
    "## 2 - Team to win (1 for home, X for draw, 2 for away)\n",
    "## 1 - Home team score prediction\n",
    "## 3 - Away team score prediction\n",
    "## 3.19 - Average goals prediction\n",
    "## 21° - Weather in degrees\n",
    "## 1.25 - Odds\n",
    "## FT 0 - 4 - Actual full-time score\n",
    "\n",
    "pattern_completed_matches = r'\\n(\\d{2})(\\d{2})(\\d{2})([A-Z]|\\d?)(\\d?\\s-\\s\\d{1})(\\d{1}.\\d{2})(\\d{2}°|\\d{1}°)(\\d?.\\d{2})\\s(FT\\s\\d?\\s-\\s\\d?)'\n",
    "\n",
    "replacement_completed_matches = r'\\n\\1\\n\\2\\n\\3\\n\\4\\n\\5\\n\\6\\n\\7\\n\\8\\n\\9'\n",
    "\n",
    "def replace_completed_matches(text):\n",
    "    \"\"\"\n",
    "    Replace matches of the completed matches pattern in the given text\n",
    "    with the specified replacement pattern.\n",
    "\n",
    "    Args:\n",
    "        text (str): The input text containing completed matches data.\n",
    "\n",
    "    Returns:\n",
    "        str: The text with replaced patterns.\n",
    "    \"\"\"\n",
    "    return re.sub(pattern_completed_matches, replacement_completed_matches, text)\n",
    "\n",
    "# Process completed matches\n",
    "for i in range(len(completed_matches)):\n",
    "    completed_matches[i] = replace_completed_matches(completed_matches[i])\n"
   ]
  },
  {
   "cell_type": "code",
   "execution_count": 17,
   "id": "7541854b",
   "metadata": {},
   "outputs": [
    {
     "name": "stdout",
     "output_type": "stream",
     "text": [
      "\n",
      "Completed Matches (after removing noise):\n",
      "\n",
      "['\\nBrighton\\nManchester United\\n24/8/2024 11:30\\n30\\n24\\n46\\n2\\n1 - 2\\n2.85\\n15°\\n2.63\\nFT 2 - 1\\n(1 - 0)\\n0.13', '\\nCrystal Palace\\nWest Ham\\n24/8/2024 14:00\\n48\\n30\\n21\\n1\\n2 - 1\\n3.34\\n17°\\n2.15\\nFT 0 - 2\\n(0 - 0)\\n0.03', '\\nFulham\\nLeicester City\\n24/8/2024 14:00\\n31\\n45\\n23\\nX\\n2 - 2\\n3.13\\n17°\\n3.90\\nFT 2 - 1\\n(1 - 1)\\n0.26', '\\nManchester City\\nIpswich Town\\n24/8/2024 14:00\\n62\\n14\\n23\\n1\\n3 - 1\\n3.76\\n17°\\n1.09\\nFT 4 - 1\\n(3 - 1)', '\\nSouthampton\\nNottingham Forest\\n24/8/2024 14:00\\n22\\n47\\n31\\nX\\n2 - 2\\n3.39\\n18°\\n3.40\\nFT 0 - 1\\n(0 - 0)\\n0.25', '\\nTottenham\\nEverton\\n24/8/2024 14:00\\n59\\n25\\n16\\n1\\n3 - 0\\n2.90\\n17°\\n1.44\\nFT 4 - 0\\n(2 - 0)', '\\nAston Villa\\nArsenal\\n24/8/2024 16:30\\n21\\n27\\n52\\n2\\n1 - 3\\n3.18\\n17°\\n1.83\\nFT 0 - 2\\n(0 - 0)', '\\nManchester United\\nFulham\\n16/8/2024 19:00\\n59\\n21\\n19\\n1\\n3 - 0\\n3.23\\n17°\\n1.53\\nFT 1 - 0\\n(0 - 0)', '\\nIpswich Town\\nLiverpool\\n17/8/2024 11:30\\n21\\n28\\n51\\n2\\n1 - 3\\n3.36\\n23°\\n1.36\\nFT 0 - 2\\n(0 - 0)', '\\nArsenal\\nWolverhampton\\n17/8/2024 14:00\\n68\\n15\\n17\\n1\\n3 - 0\\n2.97\\n25°\\n1.22\\nFT 2 - 0\\n(1 - 0)', '\\nEverton\\nBrighton\\n17/8/2024 14:00\\n45\\n26\\n29\\n1\\n2 - 1\\n2.86\\n18°\\n2.50\\nFT 0 - 3\\n(0 - 1)\\n0.08', '\\nNewcastle United\\nSouthampton\\n17/8/2024 14:00\\n59\\n22\\n19\\n1\\n3 - 1\\n3.41\\n18°\\n1.33\\nFT 1 - 0\\n(1 - 0)', '\\nNottingham Forest\\nBournemouth\\n17/8/2024 14:00\\n32\\n28\\n40\\n2\\n1 - 2\\n2.82\\n22°\\n2.80\\nFT 1 - 1\\n(1 - 0)\\n0.07', '\\nWest Ham\\nAston Villa\\n17/8/2024 16:30\\n37\\n33\\n30\\n1\\n2 - 1\\n2.78\\n23°\\n2.45\\nFT 1 - 2\\n(1 - 1)', '\\nBrentford\\nCrystal Palace\\n18/8/2024 13:00\\n25\\n50\\n26\\nX\\n1 - 1\\n2.36\\n24°\\n3.40\\nFT 2 - 1\\n(1 - 0)\\n0.29', '\\nChelsea\\nManchester City\\n18/8/2024 15:30\\n39\\n15\\n46\\n2\\n1 - 2\\n2.93\\n23°\\n1.80\\nFT 0 - 2\\n(0 - 1)', '\\nLeicester City\\nTottenham\\n19/8/2024 19:00\\n30\\n22\\n48\\n2\\n1 - 3\\n3.91\\n18°\\n1.60\\nFT 1 - 1\\n(0 - 1)']\n"
     ]
    }
   ],
   "source": [
    "# print(\"\\nCompleted Matches (after removing noise):\\n\")\n",
    "# print(completed_matches)"
   ]
  },
  {
   "cell_type": "markdown",
   "id": "b7028c00",
   "metadata": {},
   "source": [
    "#### Brief Notes:\n",
    "- pattern_completed_matches: A regular expression pattern to match the completed matches data format. This pattern captures various parts of the match data, including win probabilities, team scores, average goals, weather, odds, and the actual scoreline.\n",
    "- replacement_completed_matches: A replacement pattern to reformat the matched completed matches data by adding newline characters (\\n) between the captured groups. This facilitates easier creation of a DataFrame by separating the future columns. \n",
    "eg  \\n15196521 - 33.1921°1.25 FT 0 - 4  becomes  => \\n15\\n19\\n65\\n2\\n1 - 3\\n3.19\\n21°\\n1.25\\nFT 0 - 4"
   ]
  },
  {
   "cell_type": "markdown",
   "id": "1737d4e2",
   "metadata": {},
   "source": [
    "#### Split by \\n"
   ]
  },
  {
   "cell_type": "code",
   "execution_count": 15,
   "id": "7fd99d42",
   "metadata": {},
   "outputs": [],
   "source": [
    "# New array to hold split Data \n",
    "completed_matches_split = []\n",
    "\n",
    "for i in range(len(completed_matches)):\n",
    "    completed_matches_split.append(completed_matches[i].split('\\n'))\n",
    "    "
   ]
  },
  {
   "cell_type": "code",
   "execution_count": 16,
   "id": "2b4c25c5",
   "metadata": {},
   "outputs": [
    {
     "name": "stdout",
     "output_type": "stream",
     "text": [
      "\n",
      "Completed Matches Split:\n",
      "\n",
      "[['', 'Newcastle United', 'Manchester City', '28/9/2024 12:30', '22', '28', '50', '2', '1 - 3', '3.24', '12°', '1.6', 'FT 1 - 1', '(0 - 1)'], ['', 'Arsenal', 'Leicester City', '28/9/2024 15:00', '55', '38', '07', '1', '2 - 1', '3.02', '14°', '1.2', 'FT 4 - 2', '(2 - 0)'], ['', 'Brentford', 'West Ham', '28/9/2024 15:00', '42', '30', '27', '1', '2 - 1', '2.72', '14°', '2.25', 'FT 1 - 1', '(1 - 0)'], ['', 'Chelsea', 'Brighton', '28/9/2024 15:00', '20', '48', '32', 'X', '1 - 1', '2.34', '14°', '4.0', 'FT 4 - 2', '(4 - 2)', '0.31'], ['', 'Everton', 'Crystal Palace', '28/9/2024 15:00', '30', '45', '25', 'X', '1 - 1', '2.00', '13°', '3.4', 'FT 2 - 1', '(0 - 1)', '0.22'], ['', 'Nottingham Forest', 'Fulham', '28/9/2024 15:00', '27', '47', '25', 'X', '1 - 1', '2.30', '13°', '3.4', 'FT 0 - 1', '(0 - 0)', '0.25'], ['', 'Wolverhampton', 'Liverpool', '28/9/2024 17:30', '13', '08', '80', '2', '1 - 3', '3.48', '12°', '1.4', 'FT 1 - 2', '(0 - 1)', '0.24'], ['', 'Ipswich Town', 'Aston Villa', '29/9/2024 14:00', '11', '20', '69', '2', '0 - 2', '2.34', '13°', '1.9', 'FT 2 - 2', '(1 - 2)', '0.35'], ['', 'Manchester United', 'Tottenham', '29/9/2024 16:30', '39', '35', '26', '1', '2 - 1', '2.87', '13°', '2.25', 'FT 0 - 3', '(0 - 1)'], ['', 'Bournemouth', 'Southampton', '30/9/2024 20:00', '43', '33', '23', '1', '1 - 0', '2.35', '13°', '1.6', 'FT 3 - 1', '(3 - 0)']]\n"
     ]
    }
   ],
   "source": [
    "print(\"\\nCompleted Matches Split:\\n\")\n",
    "print(completed_matches_split)\n"
   ]
  },
  {
   "cell_type": "code",
   "execution_count": 17,
   "id": "efe27445",
   "metadata": {},
   "outputs": [],
   "source": [
    "df_columns_completed_matches  = ['', 'home', 'away', 'date_and_time', 'home_win_probability', 'draw_probability', 'away_win_probability', 'team_to_win_prediction', 'scoreline_prediction', 'average_goals_prediction', 'weather_in_degrees', 'odds', 'full_time_score', 'score_at_halftime', \"kelly_criterion\"]"
   ]
  },
  {
   "cell_type": "code",
   "execution_count": 18,
   "id": "efd0aaa2",
   "metadata": {},
   "outputs": [
    {
     "name": "stdout",
     "output_type": "stream",
     "text": [
      "                home             away    date_and_time home_win_probability  \\\n",
      "0   Newcastle United  Manchester City  28/9/2024 12:30                   22   \n",
      "1            Arsenal   Leicester City  28/9/2024 15:00                   55   \n",
      "2          Brentford         West Ham  28/9/2024 15:00                   42   \n",
      "3            Chelsea         Brighton  28/9/2024 15:00                   20   \n",
      "4            Everton   Crystal Palace  28/9/2024 15:00                   30   \n",
      "5  Nottingham Forest           Fulham  28/9/2024 15:00                   27   \n",
      "6      Wolverhampton        Liverpool  28/9/2024 17:30                   13   \n",
      "7       Ipswich Town      Aston Villa  29/9/2024 14:00                   11   \n",
      "8  Manchester United        Tottenham  29/9/2024 16:30                   39   \n",
      "9        Bournemouth      Southampton  30/9/2024 20:00                   43   \n",
      "\n",
      "  draw_probability away_win_probability team_to_win_prediction  \\\n",
      "0               28                   50                      2   \n",
      "1               38                   07                      1   \n",
      "2               30                   27                      1   \n",
      "3               48                   32                      X   \n",
      "4               45                   25                      X   \n",
      "5               47                   25                      X   \n",
      "6               08                   80                      2   \n",
      "7               20                   69                      2   \n",
      "8               35                   26                      1   \n",
      "9               33                   23                      1   \n",
      "\n",
      "  scoreline_prediction average_goals_prediction weather_in_degrees  odds  \\\n",
      "0                1 - 3                     3.24                12°   1.6   \n",
      "1                2 - 1                     3.02                14°   1.2   \n",
      "2                2 - 1                     2.72                14°  2.25   \n",
      "3                1 - 1                     2.34                14°   4.0   \n",
      "4                1 - 1                     2.00                13°   3.4   \n",
      "5                1 - 1                     2.30                13°   3.4   \n",
      "6                1 - 3                     3.48                12°   1.4   \n",
      "7                0 - 2                     2.34                13°   1.9   \n",
      "8                2 - 1                     2.87                13°  2.25   \n",
      "9                1 - 0                     2.35                13°   1.6   \n",
      "\n",
      "  full_time_score score_at_halftime kelly_criterion  \n",
      "0        FT 1 - 1           (0 - 1)            None  \n",
      "1        FT 4 - 2           (2 - 0)            None  \n",
      "2        FT 1 - 1           (1 - 0)            None  \n",
      "3        FT 4 - 2           (4 - 2)            0.31  \n",
      "4        FT 2 - 1           (0 - 1)            0.22  \n",
      "5        FT 0 - 1           (0 - 0)            0.25  \n",
      "6        FT 1 - 2           (0 - 1)            0.24  \n",
      "7        FT 2 - 2           (1 - 2)            0.35  \n",
      "8        FT 0 - 3           (0 - 1)            None  \n",
      "9        FT 3 - 1           (3 - 0)            None  \n"
     ]
    }
   ],
   "source": [
    "# Create DataFrame\n",
    "df_completed_matches = pd.DataFrame(completed_matches_split, columns=df_columns_completed_matches)\n",
    "\n",
    "# Drop first column\n",
    "df_completed_matches = df_completed_matches.drop(columns=[''])\n",
    "\n",
    "# Display DataFrame\n",
    "print(df_completed_matches)"
   ]
  },
  {
   "cell_type": "markdown",
   "id": "19394cf4",
   "metadata": {},
   "source": [
    "We are going to skip EDA since the data varies week in week out. Later when i connect the data to a database, and keep track of certain trends maybe we can notice certain patterns"
   ]
  },
  {
   "cell_type": "markdown",
   "id": "70fa4e36",
   "metadata": {},
   "source": [
    "### DataBase and Model Readiness: \n",
    "We are still preparing the data, but from now on, everything we do has the model in mind, that means label encoding, converting string to floats dropping columns etc. so its a bit different from just cleaning the data. its more like tuning ? parameter tuning ?"
   ]
  },
  {
   "cell_type": "markdown",
   "id": "1ce7c5a8",
   "metadata": {},
   "source": [
    "We are going to create labels for the teams in the premier league, in order to have Home and Away values are numerical labels. important for logisit regression. Might not be the best model, but yh \n",
    "Sometimes reading the teams labels in figures is annoying, so you can chose to skip this part, and only copy the code for label encoding when you are ready to train the model"
   ]
  },
  {
   "cell_type": "code",
   "execution_count": 19,
   "id": "634e0ff0",
   "metadata": {},
   "outputs": [],
   "source": [
    "def team_to_label(team_name):\n",
    "    \"\"\"\n",
    "    Convert a team name to its corresponding label.\n",
    "\n",
    "    Args:\n",
    "        team_name (str): The name of the team.\n",
    "\n",
    "    Returns:\n",
    "        int: The corresponding label for the team name as per the team_labels dictionary.\n",
    "    \"\"\"\n",
    "    return team_labels_forebet.get(team_name)\n"
   ]
  },
  {
   "cell_type": "code",
   "execution_count": 20,
   "id": "97afd4a3",
   "metadata": {
    "scrolled": true
   },
   "outputs": [
    {
     "name": "stdout",
     "output_type": "stream",
     "text": [
      "   home  away    date_and_time home_win_probability draw_probability  \\\n",
      "0    17    15  28/9/2024 12:30                   22               28   \n",
      "1     1    13  28/9/2024 15:00                   55               38   \n",
      "2     4    22  28/9/2024 15:00                   42               30   \n",
      "3     7     5  28/9/2024 15:00                   20               48   \n",
      "4     9     8  28/9/2024 15:00                   30               45   \n",
      "\n",
      "  away_win_probability team_to_win_prediction scoreline_prediction  \\\n",
      "0                   50                      2                1 - 3   \n",
      "1                   07                      1                2 - 1   \n",
      "2                   27                      1                2 - 1   \n",
      "3                   32                      X                1 - 1   \n",
      "4                   25                      X                1 - 1   \n",
      "\n",
      "  average_goals_prediction weather_in_degrees  odds full_time_score  \\\n",
      "0                     3.24                12°   1.6        FT 1 - 1   \n",
      "1                     3.02                14°   1.2        FT 4 - 2   \n",
      "2                     2.72                14°  2.25        FT 1 - 1   \n",
      "3                     2.34                14°   4.0        FT 4 - 2   \n",
      "4                     2.00                13°   3.4        FT 2 - 1   \n",
      "\n",
      "  score_at_halftime kelly_criterion  \n",
      "0           (0 - 1)            None  \n",
      "1           (2 - 0)            None  \n",
      "2           (1 - 0)            None  \n",
      "3           (4 - 2)            0.31  \n",
      "4           (0 - 1)            0.22  \n"
     ]
    }
   ],
   "source": [
    "# Map home and away team names to corresponding labels.\n",
    "df_completed_matches['home'] = df_completed_matches['home'].map(team_to_label)\n",
    "df_completed_matches['away'] = df_completed_matches['away'].map(team_to_label)\n",
    "\n",
    "\n",
    "print(df_completed_matches.head())"
   ]
  },
  {
   "cell_type": "markdown",
   "id": "9083ecb8",
   "metadata": {},
   "source": [
    "### Splitting Date and Time "
   ]
  },
  {
   "cell_type": "code",
   "execution_count": 21,
   "id": "0f36cc3d",
   "metadata": {},
   "outputs": [],
   "source": [
    "df_completed_matches[['date', 'time']] = df_completed_matches['date_and_time'].str.split(' ', expand=True)"
   ]
  },
  {
   "cell_type": "markdown",
   "id": "dd5371ac",
   "metadata": {},
   "source": [
    "### Splitting the \"Scoreline prediction\" column into separate columns (Home goals, Away goals)"
   ]
  },
  {
   "cell_type": "code",
   "execution_count": 22,
   "id": "ffd77ed5",
   "metadata": {
    "scrolled": true
   },
   "outputs": [
    {
     "name": "stdout",
     "output_type": "stream",
     "text": [
      "   home  away    date_and_time home_win_probability draw_probability  \\\n",
      "0    17    15  28/9/2024 12:30                   22               28   \n",
      "1     1    13  28/9/2024 15:00                   55               38   \n",
      "2     4    22  28/9/2024 15:00                   42               30   \n",
      "3     7     5  28/9/2024 15:00                   20               48   \n",
      "4     9     8  28/9/2024 15:00                   30               45   \n",
      "\n",
      "  away_win_probability team_to_win_prediction scoreline_prediction  \\\n",
      "0                   50                      2                1 - 3   \n",
      "1                   07                      1                2 - 1   \n",
      "2                   27                      1                2 - 1   \n",
      "3                   32                      X                1 - 1   \n",
      "4                   25                      X                1 - 1   \n",
      "\n",
      "  average_goals_prediction weather_in_degrees  odds full_time_score  \\\n",
      "0                     3.24                12°   1.6        FT 1 - 1   \n",
      "1                     3.02                14°   1.2        FT 4 - 2   \n",
      "2                     2.72                14°  2.25        FT 1 - 1   \n",
      "3                     2.34                14°   4.0        FT 4 - 2   \n",
      "4                     2.00                13°   3.4        FT 2 - 1   \n",
      "\n",
      "  score_at_halftime kelly_criterion       date   time  \\\n",
      "0           (0 - 1)            None  28/9/2024  12:30   \n",
      "1           (2 - 0)            None  28/9/2024  15:00   \n",
      "2           (1 - 0)            None  28/9/2024  15:00   \n",
      "3           (4 - 2)            0.31  28/9/2024  15:00   \n",
      "4           (0 - 1)            0.22  28/9/2024  15:00   \n",
      "\n",
      "   home_team_score_prediction  away_team_score_prediction  \n",
      "0                           1                           3  \n",
      "1                           2                           1  \n",
      "2                           2                           1  \n",
      "3                           1                           1  \n",
      "4                           1                           1  \n"
     ]
    }
   ],
   "source": [
    "df_completed_matches[['home_team_score_prediction', 'away_team_score_prediction']] = \\\n",
    "    df_completed_matches['scoreline_prediction'].str.split('-', expand=True)\n",
    "\n",
    "\n",
    "# Converting the split columns to integers\n",
    "df_completed_matches['home_team_score_prediction'] = df_completed_matches['home_team_score_prediction'].astype(int)\n",
    "df_completed_matches['away_team_score_prediction'] = df_completed_matches['away_team_score_prediction'].astype(int)\n",
    "\n",
    "# Example usage:\n",
    "print(df_completed_matches.head())  # Display the first few rows to verify the changes\n"
   ]
  },
  {
   "cell_type": "code",
   "execution_count": 23,
   "id": "a46a3e51-e7d8-4c2a-8328-71c64ff0cfd2",
   "metadata": {},
   "outputs": [],
   "source": [
    "df_completed_matches.drop(columns=['scoreline_prediction'], inplace=True)"
   ]
  },
  {
   "cell_type": "markdown",
   "id": "fb4504ee",
   "metadata": {},
   "source": [
    "### Splitting the \"Halftime scoreline\" column into separate columns (Home goals, Away goals)"
   ]
  },
  {
   "cell_type": "code",
   "execution_count": 24,
   "id": "a270afda",
   "metadata": {},
   "outputs": [],
   "source": [
    "df_completed_matches[['home_team_full_time_score', 'away_team_full_time_score']] = df_completed_matches['full_time_score'].str.strip('FT ').str.split(' - ', expand=True)\n",
    "\n",
    "df_completed_matches['away_team_full_time_score'] = df_completed_matches['away_team_full_time_score'].astype(int)\n",
    "df_completed_matches['home_team_full_time_score'] = df_completed_matches['home_team_full_time_score'].astype(int)\n"
   ]
  },
  {
   "cell_type": "code",
   "execution_count": 25,
   "id": "d70729d3",
   "metadata": {},
   "outputs": [],
   "source": [
    "\n",
    "df_completed_matches[['home_team_halftime_score', 'away_team_halftime_score']] = df_completed_matches['score_at_halftime'].str.strip('()').str.split(' - ', expand=True)\n"
   ]
  },
  {
   "cell_type": "markdown",
   "id": "0a97bc2b",
   "metadata": {},
   "source": [
    "### Creating Prediction win/loss Column "
   ]
  },
  {
   "cell_type": "code",
   "execution_count": 26,
   "id": "05f4ef1d",
   "metadata": {},
   "outputs": [],
   "source": [
    "def create_y(df):\n",
    "    \"\"\"\n",
    "    Create the target variable (y) based on the prediction results.\n",
    "\n",
    "    Args:\n",
    "        df (DataFrame): The DataFrame containing match predictions and actual outcomes.\n",
    "\n",
    "    Returns:\n",
    "        list: The target variable (y) indicating whether the prediction was correct (1) or not (0)\n",
    "    \"\"\"\n",
    "    y = []\n",
    "    for i in range(len(df)):\n",
    "        if df['team_to_win_prediction'][i] == '1' and df['home_team_full_time_score'][i] > df['away_team_full_time_score'][i]:\n",
    "            y.append(1)\n",
    "        elif df['team_to_win_prediction'][i] == '2' and df['home_team_full_time_score'][i] < df['away_team_full_time_score'][i]:\n",
    "            y.append(1)\n",
    "        elif df['team_to_win_prediction'][i] == 'X' and df['home_team_full_time_score'][i] == df['away_team_full_time_score'][i]:\n",
    "            y.append(1)\n",
    "        else:\n",
    "            y.append(0)\n",
    "    return y\n",
    "\n",
    "# Append the y column to the main DataFrame\n",
    "df_completed_matches['prediction_result'] = create_y(df_completed_matches)\n"
   ]
  },
  {
   "cell_type": "markdown",
   "id": "790ec085",
   "metadata": {},
   "source": [
    "#### Brief Notes\n",
    "This function iterates through each row in the DataFrame, checks the prediction result against the actual outcome, and assigns a value of 1 if the prediction was correct and 0 otherwise. This is what our model will be trained on. Can the model spot the patterns in predictions that are usually correct and affirm future predictions for upcoming matches ?"
   ]
  },
  {
   "cell_type": "code",
   "execution_count": 27,
   "id": "0853fce8",
   "metadata": {},
   "outputs": [
    {
     "name": "stdout",
     "output_type": "stream",
     "text": [
      "   home  away    date_and_time home_win_probability draw_probability  \\\n",
      "0    17    15  28/9/2024 12:30                   22               28   \n",
      "1     1    13  28/9/2024 15:00                   55               38   \n",
      "2     4    22  28/9/2024 15:00                   42               30   \n",
      "3     7     5  28/9/2024 15:00                   20               48   \n",
      "4     9     8  28/9/2024 15:00                   30               45   \n",
      "5    26    10  28/9/2024 15:00                   27               47   \n",
      "6    24    14  28/9/2024 17:30                   13               08   \n",
      "7    11     2  29/9/2024 14:00                   11               20   \n",
      "8    16    21  29/9/2024 16:30                   39               35   \n",
      "9     3    20  30/9/2024 20:00                   43               33   \n",
      "\n",
      "  away_win_probability team_to_win_prediction average_goals_prediction  \\\n",
      "0                   50                      2                     3.24   \n",
      "1                   07                      1                     3.02   \n",
      "2                   27                      1                     2.72   \n",
      "3                   32                      X                     2.34   \n",
      "4                   25                      X                     2.00   \n",
      "5                   25                      X                     2.30   \n",
      "6                   80                      2                     3.48   \n",
      "7                   69                      2                     2.34   \n",
      "8                   26                      1                     2.87   \n",
      "9                   23                      1                     2.35   \n",
      "\n",
      "  weather_in_degrees  odds  ... kelly_criterion       date   time  \\\n",
      "0                12°   1.6  ...            None  28/9/2024  12:30   \n",
      "1                14°   1.2  ...            None  28/9/2024  15:00   \n",
      "2                14°  2.25  ...            None  28/9/2024  15:00   \n",
      "3                14°   4.0  ...            0.31  28/9/2024  15:00   \n",
      "4                13°   3.4  ...            0.22  28/9/2024  15:00   \n",
      "5                13°   3.4  ...            0.25  28/9/2024  15:00   \n",
      "6                12°   1.4  ...            0.24  28/9/2024  17:30   \n",
      "7                13°   1.9  ...            0.35  29/9/2024  14:00   \n",
      "8                13°  2.25  ...            None  29/9/2024  16:30   \n",
      "9                13°   1.6  ...            None  30/9/2024  20:00   \n",
      "\n",
      "  home_team_score_prediction away_team_score_prediction  \\\n",
      "0                          1                          3   \n",
      "1                          2                          1   \n",
      "2                          2                          1   \n",
      "3                          1                          1   \n",
      "4                          1                          1   \n",
      "5                          1                          1   \n",
      "6                          1                          3   \n",
      "7                          0                          2   \n",
      "8                          2                          1   \n",
      "9                          1                          0   \n",
      "\n",
      "   home_team_full_time_score  away_team_full_time_score  \\\n",
      "0                          1                          1   \n",
      "1                          4                          2   \n",
      "2                          1                          1   \n",
      "3                          4                          2   \n",
      "4                          2                          1   \n",
      "5                          0                          1   \n",
      "6                          1                          2   \n",
      "7                          2                          2   \n",
      "8                          0                          3   \n",
      "9                          3                          1   \n",
      "\n",
      "   home_team_halftime_score  away_team_halftime_score prediction_result  \n",
      "0                         0                         1                 0  \n",
      "1                         2                         0                 1  \n",
      "2                         1                         0                 0  \n",
      "3                         4                         2                 0  \n",
      "4                         0                         1                 0  \n",
      "5                         0                         0                 0  \n",
      "6                         0                         1                 1  \n",
      "7                         1                         2                 0  \n",
      "8                         0                         1                 0  \n",
      "9                         3                         0                 1  \n",
      "\n",
      "[10 rows x 22 columns]\n"
     ]
    }
   ],
   "source": [
    "print(df_completed_matches)"
   ]
  },
  {
   "cell_type": "markdown",
   "id": "a18e6acd",
   "metadata": {},
   "source": [
    "## Feature engineering"
   ]
  },
  {
   "cell_type": "markdown",
   "id": "7a83cdd8",
   "metadata": {},
   "source": [
    "We will make sure our columns are in the right format and again all with the model in mind. "
   ]
  },
  {
   "cell_type": "code",
   "execution_count": 30,
   "id": "03999a0a",
   "metadata": {},
   "outputs": [],
   "source": [
    "# df_completed_matches[['home', 'away', 'team_to_win_prediction','prediction_result']] = df_completed_matches[['home', 'away', 'team_to_win_prediction','prediction_result']].astype('category')"
   ]
  },
  {
   "cell_type": "code",
   "execution_count": 28,
   "id": "a5d5d72b",
   "metadata": {},
   "outputs": [],
   "source": [
    "# Convert probabilities to float\n",
    "df_completed_matches['home_win_probability'] = df_completed_matches['home_win_probability'].astype(float)\n",
    "df_completed_matches['draw_probability'] = df_completed_matches['draw_probability'].astype(float)\n",
    "df_completed_matches['away_win_probability'] = df_completed_matches['away_win_probability'].astype(float)\n",
    "df_completed_matches['average_goals_prediction'] = df_completed_matches['average_goals_prediction'].astype(float)\n",
    "df_completed_matches['odds'] = df_completed_matches['odds'].astype(float)"
   ]
  },
  {
   "cell_type": "code",
   "execution_count": 29,
   "id": "63e8792f",
   "metadata": {},
   "outputs": [],
   "source": [
    "# Convert relevant score columns to integers\n",
    "df_completed_matches['home_team_full_time_score'] = df_completed_matches['home_team_full_time_score'].astype(int)\n",
    "df_completed_matches['away_team_full_time_score'] = df_completed_matches['away_team_full_time_score'].astype(int)\n",
    "df_completed_matches['home_team_halftime_score'] = df_completed_matches['home_team_halftime_score'].astype(int)\n",
    "df_completed_matches['away_team_halftime_score'] = df_completed_matches['away_team_halftime_score'].astype(int)\n"
   ]
  },
  {
   "cell_type": "code",
   "execution_count": 30,
   "id": "cedb0d71",
   "metadata": {},
   "outputs": [],
   "source": [
    "df_completed_matches.drop(columns=['kelly_criterion'], inplace=True)"
   ]
  },
  {
   "cell_type": "code",
   "execution_count": 31,
   "id": "993a21f1",
   "metadata": {},
   "outputs": [],
   "source": [
    "# Depending on your needs, you can extract features from date and time columns\n",
    "# For example, to extract day of the week and month from 'Date':\n",
    "# Convert 'Date' column to datetime with correct format\n",
    "df_completed_matches['date'] = pd.to_datetime(df_completed_matches['date'], format='%d/%m/%Y')\n",
    "df_completed_matches['day_of_week'] = df_completed_matches['date'].dt.dayofweek\n",
    "df_completed_matches['month'] = df_completed_matches['date'].dt.month\n",
    "df_completed_matches['weekly_round'] = weekly_round\n",
    "# Finally change the date_and_time column to Datetime format ? VERIFY\n",
    "df_completed_matches['date_and_time'] = pd.to_datetime(df_completed_matches['date_and_time'], format='%d/%m/%Y %H:%M')\n",
    "# Assuming the 'time' column is in the format '%H:%M' (24-hour clock)\n",
    "df_completed_matches['time'] = pd.to_datetime(df_completed_matches['time'], format='%H:%M').dt.time\n"
   ]
  },
  {
   "cell_type": "code",
   "execution_count": 32,
   "id": "2ddd746c",
   "metadata": {},
   "outputs": [],
   "source": [
    "# Custom label mapping\n",
    "label_mapping = {'X': 0, '1': 1, '2': 2}\n",
    "df_completed_matches['team_to_win_prediction'] = df_completed_matches['team_to_win_prediction'].map(label_mapping)"
   ]
  },
  {
   "cell_type": "markdown",
   "id": "e325c7fa",
   "metadata": {},
   "source": [
    "### Validation and Logging: "
   ]
  },
  {
   "cell_type": "code",
   "execution_count": 33,
   "id": "b93198fd",
   "metadata": {},
   "outputs": [
    {
     "name": "stdout",
     "output_type": "stream",
     "text": [
      "<class 'pandas.core.frame.DataFrame'>\n",
      "RangeIndex: 10 entries, 0 to 9\n",
      "Data columns (total 24 columns):\n",
      " #   Column                      Non-Null Count  Dtype         \n",
      "---  ------                      --------------  -----         \n",
      " 0   home                        10 non-null     int64         \n",
      " 1   away                        10 non-null     int64         \n",
      " 2   date_and_time               10 non-null     datetime64[ns]\n",
      " 3   home_win_probability        10 non-null     float64       \n",
      " 4   draw_probability            10 non-null     float64       \n",
      " 5   away_win_probability        10 non-null     float64       \n",
      " 6   team_to_win_prediction      10 non-null     int64         \n",
      " 7   average_goals_prediction    10 non-null     float64       \n",
      " 8   weather_in_degrees          10 non-null     object        \n",
      " 9   odds                        10 non-null     float64       \n",
      " 10  full_time_score             10 non-null     object        \n",
      " 11  score_at_halftime           10 non-null     object        \n",
      " 12  date                        10 non-null     datetime64[ns]\n",
      " 13  time                        10 non-null     object        \n",
      " 14  home_team_score_prediction  10 non-null     int64         \n",
      " 15  away_team_score_prediction  10 non-null     int64         \n",
      " 16  home_team_full_time_score   10 non-null     int64         \n",
      " 17  away_team_full_time_score   10 non-null     int64         \n",
      " 18  home_team_halftime_score    10 non-null     int64         \n",
      " 19  away_team_halftime_score    10 non-null     int64         \n",
      " 20  prediction_result           10 non-null     int64         \n",
      " 21  day_of_week                 10 non-null     int32         \n",
      " 22  month                       10 non-null     int32         \n",
      " 23  weekly_round                10 non-null     int64         \n",
      "dtypes: datetime64[ns](2), float64(5), int32(2), int64(11), object(4)\n",
      "memory usage: 1.9+ KB\n"
     ]
    }
   ],
   "source": [
    "df_completed_matches.info()"
   ]
  },
  {
   "cell_type": "code",
   "execution_count": 34,
   "id": "081bcc15",
   "metadata": {},
   "outputs": [
    {
     "data": {
      "text/plain": [
       "0    12:30:00\n",
       "1    15:00:00\n",
       "2    15:00:00\n",
       "3    15:00:00\n",
       "4    15:00:00\n",
       "5    15:00:00\n",
       "6    17:30:00\n",
       "7    14:00:00\n",
       "8    16:30:00\n",
       "9    20:00:00\n",
       "Name: time, dtype: object"
      ]
     },
     "execution_count": 34,
     "metadata": {},
     "output_type": "execute_result"
    }
   ],
   "source": [
    "df_completed_matches[\"time\"]"
   ]
  },
  {
   "cell_type": "markdown",
   "id": "69b7592e",
   "metadata": {},
   "source": [
    "### PERSISTENT STORAGE"
   ]
  },
  {
   "cell_type": "code",
   "execution_count": 42,
   "id": "f684ae05",
   "metadata": {},
   "outputs": [
    {
     "name": "stdout",
     "output_type": "stream",
     "text": [
      "Requirement already satisfied: pymysql in c:\\users\\kevin\\anaconda3\\envs\\betting_prediction_model\\lib\\site-packages (1.1.1)\n"
     ]
    }
   ],
   "source": [
    "!pip install pymysql"
   ]
  },
  {
   "cell_type": "code",
   "execution_count": 35,
   "id": "2ca4a354",
   "metadata": {},
   "outputs": [],
   "source": [
    "# Database connection\n",
    "user = 'test_user'\n",
    "password = 'password'\n",
    "host = 'localhost'\n",
    "port = 3306\n",
    "database = 'bet_prediction_model'"
   ]
  },
  {
   "cell_type": "code",
   "execution_count": 36,
   "id": "a9488f64",
   "metadata": {},
   "outputs": [
    {
     "data": {
      "text/plain": [
       "10"
      ]
     },
     "execution_count": 36,
     "metadata": {},
     "output_type": "execute_result"
    }
   ],
   "source": [
    "engine = create_engine(f'mysql+pymysql://{user}:{password}@{host}:{port}/{database}')\n",
    "df_completed_matches.to_sql('completed_matches', con=engine, if_exists='replace', index=False)"
   ]
  },
  {
   "cell_type": "code",
   "execution_count": null,
   "id": "0d40a4b3-f0c4-47e7-9792-215d61b79d68",
   "metadata": {},
   "outputs": [],
   "source": []
  }
 ],
 "metadata": {
  "kernelspec": {
   "display_name": "Python 3 (ipykernel)",
   "language": "python",
   "name": "python3"
  },
  "language_info": {
   "codemirror_mode": {
    "name": "ipython",
    "version": 3
   },
   "file_extension": ".py",
   "mimetype": "text/x-python",
   "name": "python",
   "nbconvert_exporter": "python",
   "pygments_lexer": "ipython3",
   "version": "3.12.4"
  }
 },
 "nbformat": 4,
 "nbformat_minor": 5
}
