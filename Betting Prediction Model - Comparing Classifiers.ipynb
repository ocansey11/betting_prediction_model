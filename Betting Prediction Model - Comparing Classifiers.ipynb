{
 "cells": [
  {
   "cell_type": "code",
   "execution_count": 22,
   "id": "e4caa8a6",
   "metadata": {},
   "outputs": [
    {
     "name": "stdout",
     "output_type": "stream",
     "text": [
      "Collecting imbalanced-learn\n",
      "  Obtaining dependency information for imbalanced-learn from https://files.pythonhosted.org/packages/6e/1b/66764ecf370e797759be06fb38c11640ea1f9456ae10f8640a33cfa726ea/imbalanced_learn-0.12.2-py3-none-any.whl.metadata\n",
      "  Downloading imbalanced_learn-0.12.2-py3-none-any.whl.metadata (8.2 kB)\n",
      "Requirement already satisfied: numpy>=1.17.3 in c:\\users\\kevin\\anaconda3\\envs\\alx_datascience_env\\lib\\site-packages (from imbalanced-learn) (1.26.3)\n",
      "Requirement already satisfied: scipy>=1.5.0 in c:\\users\\kevin\\anaconda3\\envs\\alx_datascience_env\\lib\\site-packages (from imbalanced-learn) (1.11.4)\n",
      "Requirement already satisfied: scikit-learn>=1.0.2 in c:\\users\\kevin\\anaconda3\\envs\\alx_datascience_env\\lib\\site-packages (from imbalanced-learn) (1.2.2)\n",
      "Requirement already satisfied: joblib>=1.1.1 in c:\\users\\kevin\\anaconda3\\envs\\alx_datascience_env\\lib\\site-packages (from imbalanced-learn) (1.2.0)\n",
      "Requirement already satisfied: threadpoolctl>=2.0.0 in c:\\users\\kevin\\anaconda3\\envs\\alx_datascience_env\\lib\\site-packages (from imbalanced-learn) (2.2.0)\n",
      "Downloading imbalanced_learn-0.12.2-py3-none-any.whl (257 kB)\n",
      "   ---------------------------------------- 0.0/258.0 kB ? eta -:--:--\n",
      "   ---------------------------------------- 0.0/258.0 kB ? eta -:--:--\n",
      "   - -------------------------------------- 10.2/258.0 kB ? eta -:--:--\n",
      "   - -------------------------------------- 10.2/258.0 kB ? eta -:--:--\n",
      "   ------ -------------------------------- 41.0/258.0 kB 245.8 kB/s eta 0:00:01\n",
      "   --------- ----------------------------- 61.4/258.0 kB 328.2 kB/s eta 0:00:01\n",
      "   ---------------- --------------------- 112.6/258.0 kB 504.4 kB/s eta 0:00:01\n",
      "   ------------------------- ------------ 174.1/258.0 kB 655.4 kB/s eta 0:00:01\n",
      "   ---------------------------------- --- 235.5/258.0 kB 758.5 kB/s eta 0:00:01\n",
      "   -------------------------------------- 258.0/258.0 kB 720.2 kB/s eta 0:00:00\n",
      "Installing collected packages: imbalanced-learn\n",
      "Successfully installed imbalanced-learn-0.12.2\n"
     ]
    }
   ],
   "source": [
    "!pip install imbalanced-learn\n",
    "!pip install pymysql\n",
    "!pip install numpy\n",
    "!pip install matplotlib"
   ]
  },
  {
   "cell_type": "code",
   "execution_count": 1,
   "id": "18b7e09c",
   "metadata": {},
   "outputs": [],
   "source": [
    "from sklearn.utils import resample\n",
    "import pymysql\n",
    "import pandas as pd\n",
    "import numpy as np\n",
    "import matplotlib.pyplot as plt\n",
    "%matplotlib inline\n",
    "from matplotlib.colors import ListedColormap\n",
    "\n",
    "from sklearn.feature_extraction.text import CountVectorizer\n",
    "\n",
    "from sklearn.model_selection import cross_val_score\n",
    "from sklearn.model_selection import train_test_split\n",
    "from sklearn import metrics\n",
    "\n",
    "\n",
    "from sklearn.preprocessing import StandardScaler\n",
    "from sklearn.datasets import make_moons, make_circles, make_classification\n",
    "\n",
    "from sklearn.linear_model import LogisticRegression\n",
    "from sklearn.neighbors import KNeighborsClassifier\n",
    "from sklearn.svm import SVC\n",
    "from sklearn.discriminant_analysis import LinearDiscriminantAnalysis\n",
    "from sklearn.discriminant_analysis import QuadraticDiscriminantAnalysis\n",
    "from sklearn.tree import DecisionTreeClassifier\n",
    "from sklearn.ensemble import RandomForestClassifier, AdaBoostClassifier"
   ]
  },
  {
   "cell_type": "code",
   "execution_count": 2,
   "id": "0b56b79a",
   "metadata": {},
   "outputs": [],
   "source": [
    "from imblearn.over_sampling import SMOTE"
   ]
  },
  {
   "cell_type": "code",
   "execution_count": 24,
   "id": "016fa350",
   "metadata": {},
   "outputs": [
    {
     "name": "stderr",
     "output_type": "stream",
     "text": [
      "C:\\Users\\kevin\\AppData\\Local\\Temp\\ipykernel_10100\\159293122.py:20: UserWarning: pandas only supports SQLAlchemy connectable (engine/connection) or database string URI or sqlite3 DBAPI2 connection. Other DBAPI2 objects are not tested. Please consider using SQLAlchemy.\n",
      "  return pd.read_sql(query, connection)\n"
     ]
    }
   ],
   "source": [
    "# Database connection\n",
    "user = '<user>'\n",
    "password = '<password>'\n",
    "host = 'localhost'\n",
    "port = 3306\n",
    "database = '<db>'\n",
    "\n",
    "# Establish connection\n",
    "connection = pymysql.connect(\n",
    "    host=host,\n",
    "    port=port,\n",
    "    user=user,\n",
    "    password=password,\n",
    "    database=database\n",
    ")\n",
    "\n",
    "# Function to load data from a table\n",
    "def load_data_from_db(connection, table_name):\n",
    "    query = f\"SELECT * FROM {table_name}\"\n",
    "    return pd.read_sql(query, connection)\n",
    "\n",
    "# Load training and testing data\n",
    "training_data = load_data_from_db(connection, 'training_data')\n",
    "testing_data = load_data_from_db(connection, 'testing_data')\n",
    "\n",
    "# Close the connection\n",
    "connection.close()"
   ]
  },
  {
   "cell_type": "code",
   "execution_count": 25,
   "id": "17d68b49",
   "metadata": {},
   "outputs": [
    {
     "name": "stdout",
     "output_type": "stream",
     "text": [
      "<class 'pandas.core.frame.DataFrame'>\n",
      "RangeIndex: 22 entries, 0 to 21\n",
      "Data columns (total 41 columns):\n",
      " #   Column                        Non-Null Count  Dtype          \n",
      "---  ------                        --------------  -----          \n",
      " 0   home                          22 non-null     int64          \n",
      " 1   away                          22 non-null     int64          \n",
      " 2   home_win_probability          22 non-null     float64        \n",
      " 3   draw_probability              22 non-null     float64        \n",
      " 4   away_win_probability          22 non-null     float64        \n",
      " 5   team_to_win_prediction        22 non-null     int64          \n",
      " 6   average_goals_prediction      22 non-null     float64        \n",
      " 7   weather_in_degrees            22 non-null     object         \n",
      " 8   odds                          22 non-null     float64        \n",
      " 9   full_time_score               22 non-null     object         \n",
      " 10  score_at_halftime             22 non-null     object         \n",
      " 11  date                          22 non-null     datetime64[ns] \n",
      " 12  time                          22 non-null     timedelta64[ns]\n",
      " 13  home_team_score_prediction    22 non-null     int64          \n",
      " 14  away_team_score_prediction    22 non-null     int64          \n",
      " 15  home_team_full_time_score     22 non-null     int64          \n",
      " 16  away_team_full_time_score     22 non-null     int64          \n",
      " 17  home_team_halftime_score      22 non-null     int64          \n",
      " 18  away_team_halftime_score      22 non-null     int64          \n",
      " 19  prediction_result             22 non-null     int64          \n",
      " 20  day_of_week                   22 non-null     int64          \n",
      " 21  month                         22 non-null     int64          \n",
      " 22  weekly_round                  22 non-null     int64          \n",
      " 23  home_team_pos                 22 non-null     int64          \n",
      " 24  home_team_matches_played      22 non-null     int64          \n",
      " 25  home_team_wins                22 non-null     int64          \n",
      " 26  home_team_draws               22 non-null     int64          \n",
      " 27  home_team_losses              22 non-null     int64          \n",
      " 28  home_team_gf                  22 non-null     int64          \n",
      " 29  home_team_ga                  22 non-null     int64          \n",
      " 30  home_team_ppg_last_5_matches  22 non-null     float64        \n",
      " 31  home_team_points              22 non-null     int64          \n",
      " 32  away_team_pos                 22 non-null     int64          \n",
      " 33  away_team_matches_played      22 non-null     int64          \n",
      " 34  away_team_wins                22 non-null     int64          \n",
      " 35  away_team_draws               22 non-null     int64          \n",
      " 36  away_team_losses              22 non-null     int64          \n",
      " 37  away_team_gf                  22 non-null     int64          \n",
      " 38  away_team_ga                  22 non-null     int64          \n",
      " 39  away_team_ppg_last_5_matches  22 non-null     float64        \n",
      " 40  away_team_points              22 non-null     int64          \n",
      "dtypes: datetime64[ns](1), float64(7), int64(29), object(3), timedelta64[ns](1)\n",
      "memory usage: 7.2+ KB\n"
     ]
    }
   ],
   "source": [
    "training_data.info()"
   ]
  },
  {
   "cell_type": "code",
   "execution_count": 26,
   "id": "f16b8c0c",
   "metadata": {},
   "outputs": [
    {
     "name": "stdout",
     "output_type": "stream",
     "text": [
      "<class 'pandas.core.frame.DataFrame'>\n",
      "RangeIndex: 20 entries, 0 to 19\n",
      "Data columns (total 35 columns):\n",
      " #   Column                        Non-Null Count  Dtype          \n",
      "---  ------                        --------------  -----          \n",
      " 0   home                          20 non-null     int64          \n",
      " 1   away                          20 non-null     int64          \n",
      " 2   home_win_probability          20 non-null     float64        \n",
      " 3   draw_probability              20 non-null     float64        \n",
      " 4   away_win_probability          20 non-null     float64        \n",
      " 5   team_to_win_prediction        20 non-null     int64          \n",
      " 6   scoreline_prediction          20 non-null     object         \n",
      " 7   average_goals_prediction      20 non-null     float64        \n",
      " 8   weather_in_degrees            20 non-null     object         \n",
      " 9   odds                          20 non-null     float64        \n",
      " 10  date                          20 non-null     datetime64[ns] \n",
      " 11  time                          20 non-null     timedelta64[ns]\n",
      " 12  home_team_score_prediction    20 non-null     int64          \n",
      " 13  away_team_score_prediction    20 non-null     int64          \n",
      " 14  day_of_week                   20 non-null     int64          \n",
      " 15  month                         20 non-null     int64          \n",
      " 16  weekly_round                  20 non-null     int64          \n",
      " 17  home_team_pos                 20 non-null     int64          \n",
      " 18  home_team_matches_played      20 non-null     int64          \n",
      " 19  home_team_wins                20 non-null     int64          \n",
      " 20  home_team_draws               20 non-null     int64          \n",
      " 21  home_team_losses              20 non-null     int64          \n",
      " 22  home_team_gf                  20 non-null     int64          \n",
      " 23  home_team_ga                  20 non-null     int64          \n",
      " 24  home_team_ppg_last_5_matches  20 non-null     float64        \n",
      " 25  home_team_points              20 non-null     int64          \n",
      " 26  away_team_pos                 20 non-null     int64          \n",
      " 27  away_team_matches_played      20 non-null     int64          \n",
      " 28  away_team_wins                20 non-null     int64          \n",
      " 29  away_team_draws               20 non-null     int64          \n",
      " 30  away_team_losses              20 non-null     int64          \n",
      " 31  away_team_gf                  20 non-null     int64          \n",
      " 32  away_team_ga                  20 non-null     int64          \n",
      " 33  away_team_ppg_last_5_matches  20 non-null     float64        \n",
      " 34  away_team_points              20 non-null     int64          \n",
      "dtypes: datetime64[ns](1), float64(7), int64(24), object(2), timedelta64[ns](1)\n",
      "memory usage: 5.6+ KB\n"
     ]
    }
   ],
   "source": [
    "testing_data.info()"
   ]
  },
  {
   "cell_type": "code",
   "execution_count": 27,
   "id": "1cd18362",
   "metadata": {},
   "outputs": [],
   "source": [
    "# Drop unnecessary columns in order to matche testing_data later on when we validate our models\n",
    "training_data_columns_to_drop = ['full_time_score', 'score_at_halftime',           \n",
    "   \"home_team_full_time_score\",\n",
    "   \"away_team_full_time_score\" ,             \n",
    "   \"home_team_halftime_score\" ,          \n",
    "   \"away_team_halftime_score\" ]\n",
    "training_data = training_data.drop(columns=training_data_columns_to_drop, axis =1)"
   ]
  },
  {
   "cell_type": "code",
   "execution_count": 28,
   "id": "ab292532",
   "metadata": {},
   "outputs": [],
   "source": [
    "# Separate minority and majority classes\n",
    "loss = training_data[training_data['prediction_result']==0]\n",
    "win = training_data[training_data['prediction_result']==1]"
   ]
  },
  {
   "cell_type": "code",
   "execution_count": 29,
   "id": "5c50f350",
   "metadata": {},
   "outputs": [
    {
     "data": {
      "image/png": "[encoded data removed]",
      "text/plain": [
       "<Figure size 640x480 with 1 Axes>"
      ]
     },
     "metadata": {},
     "output_type": "display_data"
    }
   ],
   "source": [
    "import matplotlib.pyplot as plt\n",
    "labels = training_data['prediction_result'].unique()\n",
    "heights = [len(win),len(loss)]\n",
    "plt.bar(labels,heights,color='grey')\n",
    "plt.xticks(labels,['win','loss'])\n",
    "plt.ylabel(\"# of observations\")\n",
    "plt.show()"
   ]
  },
  {
   "cell_type": "code",
   "execution_count": 30,
   "id": "da1a01ef",
   "metadata": {},
   "outputs": [
    {
     "data": {
      "text/plain": [
       "prediction_result\n",
       "0    15\n",
       "1    15\n",
       "Name: count, dtype: int64"
      ]
     },
     "execution_count": 30,
     "metadata": {},
     "output_type": "execute_result"
    }
   ],
   "source": [
    "loss_upsampled = resample(loss,\n",
    "                          replace=True, # sample with replacement (we need to duplicate observations)\n",
    "                          n_samples=len(win), # match number in minority class\n",
    "                          random_state=27) # reproducible results\n",
    "\n",
    "# Combine upsampled minority class with majority class\n",
    "upsampled = pd.concat([loss_upsampled, win])\n",
    "\n",
    "# Check new class counts\n",
    "upsampled['prediction_result'].value_counts()"
   ]
  },
  {
   "cell_type": "code",
   "execution_count": 31,
   "id": "728b2ccd",
   "metadata": {},
   "outputs": [],
   "source": [
    "X = upsampled.drop(columns=['prediction_result', 'weather_in_degrees','date','time'])\n",
    "# Define your target variable y\n",
    "y = upsampled['prediction_result']\n",
    "# Split the data into training and testing sets\n",
    "X_train, X_test, y_train, y_test = train_test_split(X, y, test_size=0.2, random_state=42)\n",
    "\n",
    "\n",
    "# Apply SMOTE to the training data\n",
    "smote = SMOTE(random_state=42)\n",
    "X_train_resampled, y_train_resampled = smote.fit_resample(X_train, y_train)\n"
   ]
  },
  {
   "cell_type": "code",
   "execution_count": 32,
   "id": "34c5ffe7",
   "metadata": {},
   "outputs": [],
   "source": [
    "# Define the names of the classifiers\n",
    "names = ['Logistic Regression', 'Nearest Neighbors', \n",
    "         'Linear SVM', 'RBF SVM',          \n",
    "         'Decision Tree', 'Random Forest',  'AdaBoost']"
   ]
  },
  {
   "cell_type": "markdown",
   "id": "2d0d63ce",
   "metadata": {},
   "source": [
    "#### NOTE TO SELF  \n",
    "You can use GridSearch to look for the best parameters for each model before proceeding to test their accuracy, but the data isnt enough at the moment "
   ]
  },
  {
   "cell_type": "code",
   "execution_count": 33,
   "id": "49ac7707",
   "metadata": {},
   "outputs": [],
   "source": [
    "# Define the classifiers with their respective hyperparameters\n",
    "classifiers = [\n",
    "    LogisticRegression(max_iter=20000, solver='lbfgs'), \n",
    "    KNeighborsClassifier(3),\n",
    "    SVC(kernel=\"linear\", C=0.025),\n",
    "    SVC(gamma=2, C=1),\n",
    "    DecisionTreeClassifier(max_depth=5),\n",
    "    RandomForestClassifier(max_depth=5, n_estimators=10, max_features=1),    \n",
    "    AdaBoostClassifier()\n",
    "]"
   ]
  },
  {
   "cell_type": "code",
   "execution_count": 34,
   "id": "977c369b",
   "metadata": {},
   "outputs": [
    {
     "name": "stdout",
     "output_type": "stream",
     "text": [
      "Fitting Logistic Regression model...\n",
      "... predicting\n",
      "... scoring\n",
      "Fitting Nearest Neighbors model...\n",
      "... predicting\n",
      "... scoring\n",
      "Fitting Linear SVM model...\n",
      "... predicting\n",
      "... scoring\n",
      "Fitting RBF SVM model...\n",
      "... predicting\n",
      "... scoring\n",
      "Fitting Decision Tree model...\n",
      "... predicting\n",
      "... scoring\n",
      "Fitting Random Forest model...\n",
      "... predicting\n",
      "... scoring\n",
      "Fitting AdaBoost model...\n",
      "... predicting\n",
      "... scoring\n",
      "... All done!\n"
     ]
    }
   ],
   "source": [
    "# Empty lists to store results\n",
    "results = []  # Store evaluation metrics for each classifier\n",
    "models = {}  # Store trained models\n",
    "confusion = {}  # Store confusion matrices for each classifier\n",
    "class_report = {}  # Store classification reports for each classifier\n",
    "\n",
    "# Iterate over each classifier\n",
    "for name, clf in zip(names, classifiers):    \n",
    "    print ('Fitting {:s} model...'.format(name))\n",
    "    # Measure the time taken to fit the model\n",
    "    run_time = %timeit -q -o clf.fit(X_train_resampled, y_train_resampled)\n",
    "    \n",
    "    print ('... predicting')\n",
    "    # Predict on the test data\n",
    "    y_pred_test = clf.predict(X_test)\n",
    "    \n",
    "    print ('... scoring')\n",
    "    # Calculate evaluation metrics\n",
    "    accuracy  = metrics.accuracy_score(y_test, y_pred_test)\n",
    "    precision = metrics.precision_score(y_test, y_pred_test)\n",
    "    recall    = metrics.recall_score(y_test, y_pred_test)\n",
    "    \n",
    "    f1_test   = metrics.f1_score(y_test, y_pred_test)    \n",
    "    \n",
    "    # Save the results to dictionaries\n",
    "    models[name] = clf    \n",
    "    confusion[name] = metrics.confusion_matrix(y_test, y_pred_test)\n",
    "    class_report[name] = metrics.classification_report(y_test, y_pred_test)\n",
    "    \n",
    "    # Append results to the list\n",
    "    results.append([name, accuracy, precision, recall, f1_test, run_time.best])\n",
    "\n",
    "    \n",
    "# Convert results to DataFrame for easy visualisation\n",
    "results = pd.DataFrame(results, columns=['Classifier', 'Accuracy', 'Precision', 'Recall', 'F1 Test', 'Train Time'])\n",
    "results.set_index('Classifier', inplace= True)\n",
    "\n",
    "print ('... All done!')"
   ]
  },
  {
   "cell_type": "code",
   "execution_count": 35,
   "id": "15823923",
   "metadata": {},
   "outputs": [
    {
     "data": {
      "text/html": [
       "<div>\n",
       "<style scoped>\n",
       "    .dataframe tbody tr th:only-of-type {\n",
       "        vertical-align: middle;\n",
       "    }\n",
       "\n",
       "    .dataframe tbody tr th {\n",
       "        vertical-align: top;\n",
       "    }\n",
       "\n",
       "    .dataframe thead th {\n",
       "        text-align: right;\n",
       "    }\n",
       "</style>\n",
       "<table border=\"1\" class=\"dataframe\">\n",
       "  <thead>\n",
       "    <tr style=\"text-align: right;\">\n",
       "      <th></th>\n",
       "      <th>Accuracy</th>\n",
       "      <th>Precision</th>\n",
       "      <th>Recall</th>\n",
       "      <th>F1 Test</th>\n",
       "      <th>Train Time</th>\n",
       "    </tr>\n",
       "    <tr>\n",
       "      <th>Classifier</th>\n",
       "      <th></th>\n",
       "      <th></th>\n",
       "      <th></th>\n",
       "      <th></th>\n",
       "      <th></th>\n",
       "    </tr>\n",
       "  </thead>\n",
       "  <tbody>\n",
       "    <tr>\n",
       "      <th>RBF SVM</th>\n",
       "      <td>1.000000</td>\n",
       "      <td>1.0</td>\n",
       "      <td>1.00</td>\n",
       "      <td>1.000000</td>\n",
       "      <td>0.002253</td>\n",
       "    </tr>\n",
       "    <tr>\n",
       "      <th>Logistic Regression</th>\n",
       "      <td>0.833333</td>\n",
       "      <td>1.0</td>\n",
       "      <td>0.75</td>\n",
       "      <td>0.857143</td>\n",
       "      <td>0.032639</td>\n",
       "    </tr>\n",
       "    <tr>\n",
       "      <th>Nearest Neighbors</th>\n",
       "      <td>0.666667</td>\n",
       "      <td>1.0</td>\n",
       "      <td>0.50</td>\n",
       "      <td>0.666667</td>\n",
       "      <td>0.001986</td>\n",
       "    </tr>\n",
       "    <tr>\n",
       "      <th>Linear SVM</th>\n",
       "      <td>0.666667</td>\n",
       "      <td>1.0</td>\n",
       "      <td>0.50</td>\n",
       "      <td>0.666667</td>\n",
       "      <td>0.002215</td>\n",
       "    </tr>\n",
       "    <tr>\n",
       "      <th>Decision Tree</th>\n",
       "      <td>0.666667</td>\n",
       "      <td>1.0</td>\n",
       "      <td>0.50</td>\n",
       "      <td>0.666667</td>\n",
       "      <td>0.002098</td>\n",
       "    </tr>\n",
       "    <tr>\n",
       "      <th>Random Forest</th>\n",
       "      <td>0.666667</td>\n",
       "      <td>1.0</td>\n",
       "      <td>0.50</td>\n",
       "      <td>0.666667</td>\n",
       "      <td>0.015072</td>\n",
       "    </tr>\n",
       "    <tr>\n",
       "      <th>AdaBoost</th>\n",
       "      <td>0.666667</td>\n",
       "      <td>1.0</td>\n",
       "      <td>0.50</td>\n",
       "      <td>0.666667</td>\n",
       "      <td>0.065195</td>\n",
       "    </tr>\n",
       "  </tbody>\n",
       "</table>\n",
       "</div>"
      ],
      "text/plain": [
       "                     Accuracy  Precision  Recall   F1 Test  Train Time\n",
       "Classifier                                                            \n",
       "RBF SVM              1.000000        1.0    1.00  1.000000    0.002253\n",
       "Logistic Regression  0.833333        1.0    0.75  0.857143    0.032639\n",
       "Nearest Neighbors    0.666667        1.0    0.50  0.666667    0.001986\n",
       "Linear SVM           0.666667        1.0    0.50  0.666667    0.002215\n",
       "Decision Tree        0.666667        1.0    0.50  0.666667    0.002098\n",
       "Random Forest        0.666667        1.0    0.50  0.666667    0.015072\n",
       "AdaBoost             0.666667        1.0    0.50  0.666667    0.065195"
      ]
     },
     "execution_count": 35,
     "metadata": {},
     "output_type": "execute_result"
    }
   ],
   "source": [
    "results.sort_values('F1 Test', ascending=False)"
   ]
  },
  {
   "cell_type": "code",
   "execution_count": 36,
   "id": "aa84b35c",
   "metadata": {},
   "outputs": [
    {
     "data": {
      "text/plain": [
       "Text(0.5, 1.0, 'Training Time vs. Classifier')"
      ]
     },
     "execution_count": 36,
     "metadata": {},
     "output_type": "execute_result"
    },
    {
     "data": {
      "image/png": "[encoded data removed]",
      "text/plain": [
       "<Figure size 1000x500 with 2 Axes>"
      ]
     },
     "metadata": {},
     "output_type": "display_data"
    }
   ],
   "source": [
    "# Plot F1 Score on Test Data vs. Classifier\n",
    "fig, ax = plt.subplots(1, 2, figsize=(10, 5))\n",
    "# results.sort_values('F1 Train', ascending=False, inplace=True)\n",
    "results.plot(y=['F1 Test'], kind='bar', ax=ax[0], xlim=[0,1.1], ylim=[0.80,0.92])\n",
    "ax[0].set_title('F1 Score on Test Data vs. Classifier')\n",
    "results.plot(y='Train Time', kind='bar', ax=ax[1])\n",
    "ax[1].set_title('Training Time vs. Classifier')"
   ]
  },
  {
   "cell_type": "code",
   "execution_count": 37,
   "id": "4423da99",
   "metadata": {},
   "outputs": [
    {
     "name": "stdout",
     "output_type": "stream",
     "text": [
      "Confusion Matrix for Logistic Regression:\n",
      "[[2 0]\n",
      " [1 3]]\n",
      "\n",
      "Confusion Matrix for Nearest Neighbors:\n",
      "[[2 0]\n",
      " [2 2]]\n",
      "\n",
      "Confusion Matrix for Linear SVM:\n",
      "[[2 0]\n",
      " [2 2]]\n",
      "\n",
      "Confusion Matrix for RBF SVM:\n",
      "[[2 0]\n",
      " [0 4]]\n",
      "\n",
      "Confusion Matrix for Decision Tree:\n",
      "[[2 0]\n",
      " [2 2]]\n",
      "\n",
      "Confusion Matrix for Random Forest:\n",
      "[[2 0]\n",
      " [2 2]]\n",
      "\n",
      "Confusion Matrix for AdaBoost:\n",
      "[[2 0]\n",
      " [2 2]]\n",
      "\n",
      "Classification Report for Logistic Regression:\n",
      "              precision    recall  f1-score   support\n",
      "\n",
      "           0       0.67      1.00      0.80         2\n",
      "           1       1.00      0.75      0.86         4\n",
      "\n",
      "    accuracy                           0.83         6\n",
      "   macro avg       0.83      0.88      0.83         6\n",
      "weighted avg       0.89      0.83      0.84         6\n",
      "\n",
      "\n",
      "Classification Report for Nearest Neighbors:\n",
      "              precision    recall  f1-score   support\n",
      "\n",
      "           0       0.50      1.00      0.67         2\n",
      "           1       1.00      0.50      0.67         4\n",
      "\n",
      "    accuracy                           0.67         6\n",
      "   macro avg       0.75      0.75      0.67         6\n",
      "weighted avg       0.83      0.67      0.67         6\n",
      "\n",
      "\n",
      "Classification Report for Linear SVM:\n",
      "              precision    recall  f1-score   support\n",
      "\n",
      "           0       0.50      1.00      0.67         2\n",
      "           1       1.00      0.50      0.67         4\n",
      "\n",
      "    accuracy                           0.67         6\n",
      "   macro avg       0.75      0.75      0.67         6\n",
      "weighted avg       0.83      0.67      0.67         6\n",
      "\n",
      "\n",
      "Classification Report for RBF SVM:\n",
      "              precision    recall  f1-score   support\n",
      "\n",
      "           0       1.00      1.00      1.00         2\n",
      "           1       1.00      1.00      1.00         4\n",
      "\n",
      "    accuracy                           1.00         6\n",
      "   macro avg       1.00      1.00      1.00         6\n",
      "weighted avg       1.00      1.00      1.00         6\n",
      "\n",
      "\n",
      "Classification Report for Decision Tree:\n",
      "              precision    recall  f1-score   support\n",
      "\n",
      "           0       0.50      1.00      0.67         2\n",
      "           1       1.00      0.50      0.67         4\n",
      "\n",
      "    accuracy                           0.67         6\n",
      "   macro avg       0.75      0.75      0.67         6\n",
      "weighted avg       0.83      0.67      0.67         6\n",
      "\n",
      "\n",
      "Classification Report for Random Forest:\n",
      "              precision    recall  f1-score   support\n",
      "\n",
      "           0       0.50      1.00      0.67         2\n",
      "           1       1.00      0.50      0.67         4\n",
      "\n",
      "    accuracy                           0.67         6\n",
      "   macro avg       0.75      0.75      0.67         6\n",
      "weighted avg       0.83      0.67      0.67         6\n",
      "\n",
      "\n",
      "Classification Report for AdaBoost:\n",
      "              precision    recall  f1-score   support\n",
      "\n",
      "           0       0.50      1.00      0.67         2\n",
      "           1       1.00      0.50      0.67         4\n",
      "\n",
      "    accuracy                           0.67         6\n",
      "   macro avg       0.75      0.75      0.67         6\n",
      "weighted avg       0.83      0.67      0.67         6\n",
      "\n",
      "\n"
     ]
    }
   ],
   "source": [
    "# Display confusion matrices and classification reports\n",
    "for name, matrix in confusion.items():\n",
    "    print(f\"Confusion Matrix for {name}:\")\n",
    "    print(matrix)\n",
    "    print()\n",
    "    \n",
    "for name, report in class_report.items():\n",
    "    print(f\"Classification Report for {name}:\")\n",
    "    print(report)\n",
    "    print()"
   ]
  },
  {
   "cell_type": "markdown",
   "id": "c7a68100",
   "metadata": {},
   "source": [
    "Lets test the models with the testing_data"
   ]
  },
  {
   "cell_type": "code",
   "execution_count": 40,
   "id": "7afb6409",
   "metadata": {},
   "outputs": [],
   "source": [
    "testing_data= testing_data.drop(columns=['scoreline_prediction', 'weather_in_degrees','date','time'])"
   ]
  },
  {
   "cell_type": "code",
   "execution_count": 41,
   "id": "b93d3190",
   "metadata": {},
   "outputs": [
    {
     "data": {
      "text/plain": [
       "Index(['home', 'away', 'home_win_probability', 'draw_probability',\n",
       "       'away_win_probability', 'team_to_win_prediction',\n",
       "       'average_goals_prediction', 'odds', 'home_team_score_prediction',\n",
       "       'away_team_score_prediction', 'day_of_week', 'month', 'weekly_round',\n",
       "       'home_team_pos', 'home_team_matches_played', 'home_team_wins',\n",
       "       'home_team_draws', 'home_team_losses', 'home_team_gf', 'home_team_ga',\n",
       "       'home_team_ppg_last_5_matches', 'home_team_points', 'away_team_pos',\n",
       "       'away_team_matches_played', 'away_team_wins', 'away_team_draws',\n",
       "       'away_team_losses', 'away_team_gf', 'away_team_ga',\n",
       "       'away_team_ppg_last_5_matches', 'away_team_points'],\n",
       "      dtype='object')"
      ]
     },
     "execution_count": 41,
     "metadata": {},
     "output_type": "execute_result"
    }
   ],
   "source": [
    "testing_data.columns"
   ]
  },
  {
   "cell_type": "code",
   "execution_count": 38,
   "id": "d451dd9b",
   "metadata": {},
   "outputs": [
    {
     "data": {
      "text/plain": [
       "Index(['home', 'away', 'home_win_probability', 'draw_probability',\n",
       "       'away_win_probability', 'team_to_win_prediction',\n",
       "       'average_goals_prediction', 'odds', 'home_team_score_prediction',\n",
       "       'away_team_score_prediction', 'day_of_week', 'month', 'weekly_round',\n",
       "       'home_team_pos', 'home_team_matches_played', 'home_team_wins',\n",
       "       'home_team_draws', 'home_team_losses', 'home_team_gf', 'home_team_ga',\n",
       "       'home_team_ppg_last_5_matches', 'home_team_points', 'away_team_pos',\n",
       "       'away_team_matches_played', 'away_team_wins', 'away_team_draws',\n",
       "       'away_team_losses', 'away_team_gf', 'away_team_ga',\n",
       "       'away_team_ppg_last_5_matches', 'away_team_points'],\n",
       "      dtype='object')"
      ]
     },
     "execution_count": 38,
     "metadata": {},
     "output_type": "execute_result"
    }
   ],
   "source": [
    "X_test.columns"
   ]
  },
  {
   "cell_type": "markdown",
   "id": "b629415a",
   "metadata": {},
   "source": [
    "### Note\n",
    "Okay so if you look back into Logistic Regression Notebook, in my models directory. You will notice that i had hardcoded the results of the completed matches for validating our logistic model. The unfortunate thing is the testing_data has duplicate values due to me constantly trying to see if my code is working. I left the duplicate just because.  \n",
    "I am working on a way to automate validation. but i will have to restructure the flow of data and that will take a while to ensure its robust and theres no leakage or `duplicates` again. Bare with me. Once you have the code im sure you can find a fix for this :)"
   ]
  },
  {
   "cell_type": "code",
   "execution_count": 44,
   "id": "7bb11eb8",
   "metadata": {},
   "outputs": [],
   "source": [
    "y_testing_data = [0,1,1,1,1,0,1,1,1,1,0,1,1,1,1,0,1,1,1,1]"
   ]
  },
  {
   "cell_type": "code",
   "execution_count": 45,
   "id": "f1bddc15",
   "metadata": {},
   "outputs": [
    {
     "name": "stdout",
     "output_type": "stream",
     "text": [
      "Fitting Logistic Regression model...\n",
      "... predicting\n",
      "... scoring\n",
      "Fitting Nearest Neighbors model...\n",
      "... predicting\n",
      "... scoring\n",
      "Fitting Linear SVM model...\n",
      "... predicting\n",
      "... scoring\n",
      "Fitting RBF SVM model...\n",
      "... predicting\n",
      "... scoring\n",
      "Fitting Decision Tree model...\n"
     ]
    },
    {
     "name": "stderr",
     "output_type": "stream",
     "text": [
      "C:\\Users\\kevin\\anaconda3\\envs\\Alx_DataScience_env\\Lib\\site-packages\\sklearn\\metrics\\_classification.py:1344: UndefinedMetricWarning: Precision and F-score are ill-defined and being set to 0.0 in labels with no predicted samples. Use `zero_division` parameter to control this behavior.\n",
      "  _warn_prf(average, modifier, msg_start, len(result))\n",
      "C:\\Users\\kevin\\anaconda3\\envs\\Alx_DataScience_env\\Lib\\site-packages\\sklearn\\metrics\\_classification.py:1344: UndefinedMetricWarning: Precision and F-score are ill-defined and being set to 0.0 in labels with no predicted samples. Use `zero_division` parameter to control this behavior.\n",
      "  _warn_prf(average, modifier, msg_start, len(result))\n",
      "C:\\Users\\kevin\\anaconda3\\envs\\Alx_DataScience_env\\Lib\\site-packages\\sklearn\\metrics\\_classification.py:1344: UndefinedMetricWarning: Precision and F-score are ill-defined and being set to 0.0 in labels with no predicted samples. Use `zero_division` parameter to control this behavior.\n",
      "  _warn_prf(average, modifier, msg_start, len(result))\n"
     ]
    },
    {
     "name": "stdout",
     "output_type": "stream",
     "text": [
      "... predicting\n",
      "... scoring\n",
      "Fitting Random Forest model...\n",
      "... predicting\n",
      "... scoring\n",
      "Fitting AdaBoost model...\n",
      "... predicting\n",
      "... scoring\n",
      "... All done!\n"
     ]
    }
   ],
   "source": [
    "# Empty lists to store results\n",
    "results = []  # Store evaluation metrics for each classifier\n",
    "models = {}  # Store trained models\n",
    "confusion = {}  # Store confusion matrices for each classifier\n",
    "class_report = {}  # Store classification reports for each classifier\n",
    "\n",
    "# Iterate over each classifier\n",
    "for name, clf in zip(names, classifiers):    \n",
    "    print ('Fitting {:s} model...'.format(name))\n",
    "    # Measure the time taken to fit the model\n",
    "    run_time = %timeit -q -o clf.fit(X_train_resampled, y_train_resampled)\n",
    "    \n",
    "    print ('... predicting')\n",
    "    # Predict on the test data\n",
    "    y_pred_test = clf.predict(testing_data)\n",
    "    \n",
    "    print ('... scoring')\n",
    "    # Calculate evaluation metrics\n",
    "    accuracy  = metrics.accuracy_score(y_testing_data, y_pred_test)\n",
    "    precision = metrics.precision_score(y_testing_data, y_pred_test)\n",
    "    recall    = metrics.recall_score(y_testing_data, y_pred_test)\n",
    "    \n",
    "    f1_test   = metrics.f1_score(y_testing_data, y_pred_test)    \n",
    "    \n",
    "    # Save the results to dictionaries\n",
    "    models[name] = clf    \n",
    "    confusion[name] = metrics.confusion_matrix(y_testing_data, y_pred_test)\n",
    "    class_report[name] = metrics.classification_report(y_testing_data, y_pred_test)\n",
    "    \n",
    "    # Append results to the list\n",
    "    results.append([name, accuracy, precision, recall, f1_test, run_time.best])\n",
    "\n",
    "    \n",
    "# Convert results to DataFrame for easy visualisation\n",
    "results = pd.DataFrame(results, columns=['Classifier', 'Accuracy', 'Precision', 'Recall', 'F1 Test', 'Train Time'])\n",
    "results.set_index('Classifier', inplace= True)\n",
    "\n",
    "print ('... All done!')"
   ]
  },
  {
   "cell_type": "code",
   "execution_count": 46,
   "id": "91e7d1c5",
   "metadata": {},
   "outputs": [
    {
     "data": {
      "text/html": [
       "<div>\n",
       "<style scoped>\n",
       "    .dataframe tbody tr th:only-of-type {\n",
       "        vertical-align: middle;\n",
       "    }\n",
       "\n",
       "    .dataframe tbody tr th {\n",
       "        vertical-align: top;\n",
       "    }\n",
       "\n",
       "    .dataframe thead th {\n",
       "        text-align: right;\n",
       "    }\n",
       "</style>\n",
       "<table border=\"1\" class=\"dataframe\">\n",
       "  <thead>\n",
       "    <tr style=\"text-align: right;\">\n",
       "      <th></th>\n",
       "      <th>Accuracy</th>\n",
       "      <th>Precision</th>\n",
       "      <th>Recall</th>\n",
       "      <th>F1 Test</th>\n",
       "      <th>Train Time</th>\n",
       "    </tr>\n",
       "    <tr>\n",
       "      <th>Classifier</th>\n",
       "      <th></th>\n",
       "      <th></th>\n",
       "      <th></th>\n",
       "      <th></th>\n",
       "      <th></th>\n",
       "    </tr>\n",
       "  </thead>\n",
       "  <tbody>\n",
       "    <tr>\n",
       "      <th>RBF SVM</th>\n",
       "      <td>0.8</td>\n",
       "      <td>0.800000</td>\n",
       "      <td>1.000</td>\n",
       "      <td>0.888889</td>\n",
       "      <td>0.002296</td>\n",
       "    </tr>\n",
       "    <tr>\n",
       "      <th>AdaBoost</th>\n",
       "      <td>0.8</td>\n",
       "      <td>0.875000</td>\n",
       "      <td>0.875</td>\n",
       "      <td>0.875000</td>\n",
       "      <td>0.056139</td>\n",
       "    </tr>\n",
       "    <tr>\n",
       "      <th>Nearest Neighbors</th>\n",
       "      <td>0.7</td>\n",
       "      <td>1.000000</td>\n",
       "      <td>0.625</td>\n",
       "      <td>0.769231</td>\n",
       "      <td>0.001973</td>\n",
       "    </tr>\n",
       "    <tr>\n",
       "      <th>Decision Tree</th>\n",
       "      <td>0.7</td>\n",
       "      <td>1.000000</td>\n",
       "      <td>0.625</td>\n",
       "      <td>0.769231</td>\n",
       "      <td>0.002190</td>\n",
       "    </tr>\n",
       "    <tr>\n",
       "      <th>Random Forest</th>\n",
       "      <td>0.7</td>\n",
       "      <td>1.000000</td>\n",
       "      <td>0.625</td>\n",
       "      <td>0.769231</td>\n",
       "      <td>0.015331</td>\n",
       "    </tr>\n",
       "    <tr>\n",
       "      <th>Logistic Regression</th>\n",
       "      <td>0.6</td>\n",
       "      <td>0.833333</td>\n",
       "      <td>0.625</td>\n",
       "      <td>0.714286</td>\n",
       "      <td>0.033801</td>\n",
       "    </tr>\n",
       "    <tr>\n",
       "      <th>Linear SVM</th>\n",
       "      <td>0.6</td>\n",
       "      <td>0.833333</td>\n",
       "      <td>0.625</td>\n",
       "      <td>0.714286</td>\n",
       "      <td>0.002305</td>\n",
       "    </tr>\n",
       "  </tbody>\n",
       "</table>\n",
       "</div>"
      ],
      "text/plain": [
       "                     Accuracy  Precision  Recall   F1 Test  Train Time\n",
       "Classifier                                                            \n",
       "RBF SVM                   0.8   0.800000   1.000  0.888889    0.002296\n",
       "AdaBoost                  0.8   0.875000   0.875  0.875000    0.056139\n",
       "Nearest Neighbors         0.7   1.000000   0.625  0.769231    0.001973\n",
       "Decision Tree             0.7   1.000000   0.625  0.769231    0.002190\n",
       "Random Forest             0.7   1.000000   0.625  0.769231    0.015331\n",
       "Logistic Regression       0.6   0.833333   0.625  0.714286    0.033801\n",
       "Linear SVM                0.6   0.833333   0.625  0.714286    0.002305"
      ]
     },
     "execution_count": 46,
     "metadata": {},
     "output_type": "execute_result"
    }
   ],
   "source": [
    "results.sort_values('F1 Test', ascending=False)"
   ]
  },
  {
   "cell_type": "markdown",
   "id": "1953855f",
   "metadata": {},
   "source": [
    "### CONCLUSION\n",
    "\n",
    "- Keep in mind i had only 2 weekly rounds of data, thats maybe around 20 matches and 20 predictions to test these various models.\n",
    "- Also there was data imbalance, this arises when the betting tip sites either win alot of their predictions or lose alot.\n",
    "So i resampled using SMOTE, leading to duplicated data. Which in turn is a major drawback for training models, because you get high accuracy during training but little accuracy with new data. All in all we got three good models during training that we will create different notebooks for and explore them furthur \n",
    "\n",
    "- Logisitc Regression\n",
    "- Random Forest\n",
    "- RBF SVM\n",
    "\n",
    "However When we tested our models on unseen data (although there were duplicates) we had a suprise increase in accuracy for certain models like\n",
    "\n",
    "- Nearest Neighbors\t\n",
    "- Decision Tree\t\n",
    "- AdaBoost\n",
    "\n",
    "Im new to RBF so that will be interesting to play around with it.\n",
    "I cant wait to try all these models separately. I have started and completed Logistic regresion. I had some pretty good results.\n",
    "I come back to this notebook anytime i have ideas i want to play around with it\n",
    "\n",
    "\n",
    "It is always important to come back to this notebook and edit, tune, compare all the models again as the data increases and then with new information go back to the separate notebooks you have dedicated to your separate models and reaccess their accuracy by tuning certain parameters.\n",
    "Also depending on the upcoming fixtures, maybe certain models will work with higher odds or different types of fixtures so keep testing these models as the data increase and over time you will have your favorite and reliable one.\n",
    "\n",
    "I will urge you to try PCA to look at ML from a different approach to also help classification and selecting strong features.\n",
    "Have fun!"
   ]
  }
 ],
 "metadata": {
  "kernelspec": {
   "display_name": "Python 3 (ipykernel)",
   "language": "python",
   "name": "python3"
  },
  "language_info": {
   "codemirror_mode": {
    "name": "ipython",
    "version": 3
   },
   "file_extension": ".py",
   "mimetype": "text/x-python",
   "name": "python",
   "nbconvert_exporter": "python",
   "pygments_lexer": "ipython3",
   "version": "3.12.4"
  }
 },
 "nbformat": 4,
 "nbformat_minor": 5
}
